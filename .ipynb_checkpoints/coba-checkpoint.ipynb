{
 "cells": [
  {
   "cell_type": "code",
   "execution_count": 3,
   "metadata": {},
   "outputs": [],
   "source": [
    "import pandas as pd\n",
    "import numpy as np\n",
    "import matplotlib.pyplot as plt"
   ]
  },
  {
   "cell_type": "code",
   "execution_count": 4,
   "metadata": {},
   "outputs": [
    {
     "data": {
      "text/html": [
       "<div>\n",
       "<style scoped>\n",
       "    .dataframe tbody tr th:only-of-type {\n",
       "        vertical-align: middle;\n",
       "    }\n",
       "\n",
       "    .dataframe tbody tr th {\n",
       "        vertical-align: top;\n",
       "    }\n",
       "\n",
       "    .dataframe thead th {\n",
       "        text-align: right;\n",
       "    }\n",
       "</style>\n",
       "<table border=\"1\" class=\"dataframe\">\n",
       "  <thead>\n",
       "    <tr style=\"text-align: right;\">\n",
       "      <th></th>\n",
       "      <th>LN_ID</th>\n",
       "      <th>TARGET</th>\n",
       "      <th>CONTRACT_TYPE</th>\n",
       "      <th>GENDER</th>\n",
       "      <th>NUM_CHILDREN</th>\n",
       "      <th>INCOME</th>\n",
       "      <th>APPROVED_CREDIT</th>\n",
       "      <th>ANNUITY</th>\n",
       "      <th>PRICE</th>\n",
       "      <th>INCOME_TYPE</th>\n",
       "      <th>EDUCATION</th>\n",
       "      <th>FAMILY_STATUS</th>\n",
       "      <th>HOUSING_TYPE</th>\n",
       "      <th>DAYS_AGE</th>\n",
       "      <th>DAYS_WORK</th>\n",
       "      <th>DAYS_REGISTRATION</th>\n",
       "      <th>DAYS_ID_CHANGE</th>\n",
       "      <th>WEEKDAYS_APPLY</th>\n",
       "      <th>HOUR_APPLY</th>\n",
       "      <th>ORGANIZATION_TYPE</th>\n",
       "    </tr>\n",
       "  </thead>\n",
       "  <tbody>\n",
       "    <tr>\n",
       "      <th>0</th>\n",
       "      <td>333538</td>\n",
       "      <td>0</td>\n",
       "      <td>Revolving loans</td>\n",
       "      <td>F</td>\n",
       "      <td>1</td>\n",
       "      <td>67500.0</td>\n",
       "      <td>202500.0</td>\n",
       "      <td>10125.0</td>\n",
       "      <td>202500.0</td>\n",
       "      <td>Working</td>\n",
       "      <td>Secondary / secondary special</td>\n",
       "      <td>Married</td>\n",
       "      <td>With parents</td>\n",
       "      <td>-11539</td>\n",
       "      <td>-921</td>\n",
       "      <td>-119</td>\n",
       "      <td>-2757</td>\n",
       "      <td>TUESDAY</td>\n",
       "      <td>18</td>\n",
       "      <td>Business Entity Type 3</td>\n",
       "    </tr>\n",
       "    <tr>\n",
       "      <th>1</th>\n",
       "      <td>406644</td>\n",
       "      <td>0</td>\n",
       "      <td>Cash loans</td>\n",
       "      <td>F</td>\n",
       "      <td>1</td>\n",
       "      <td>202500.0</td>\n",
       "      <td>976711.5</td>\n",
       "      <td>49869.0</td>\n",
       "      <td>873000.0</td>\n",
       "      <td>Commercial associate</td>\n",
       "      <td>Secondary / secondary special</td>\n",
       "      <td>Married</td>\n",
       "      <td>House / apartment</td>\n",
       "      <td>-15743</td>\n",
       "      <td>-4482</td>\n",
       "      <td>-1797</td>\n",
       "      <td>-2455</td>\n",
       "      <td>TUESDAY</td>\n",
       "      <td>14</td>\n",
       "      <td>Other</td>\n",
       "    </tr>\n",
       "    <tr>\n",
       "      <th>2</th>\n",
       "      <td>259130</td>\n",
       "      <td>0</td>\n",
       "      <td>Cash loans</td>\n",
       "      <td>F</td>\n",
       "      <td>0</td>\n",
       "      <td>180000.0</td>\n",
       "      <td>407520.0</td>\n",
       "      <td>25060.5</td>\n",
       "      <td>360000.0</td>\n",
       "      <td>Pensioner</td>\n",
       "      <td>Secondary / secondary special</td>\n",
       "      <td>Married</td>\n",
       "      <td>House / apartment</td>\n",
       "      <td>-20775</td>\n",
       "      <td>365243</td>\n",
       "      <td>-8737</td>\n",
       "      <td>-4312</td>\n",
       "      <td>THURSDAY</td>\n",
       "      <td>14</td>\n",
       "      <td>NA1</td>\n",
       "    </tr>\n",
       "    <tr>\n",
       "      <th>3</th>\n",
       "      <td>411997</td>\n",
       "      <td>0</td>\n",
       "      <td>Cash loans</td>\n",
       "      <td>M</td>\n",
       "      <td>0</td>\n",
       "      <td>225000.0</td>\n",
       "      <td>808650.0</td>\n",
       "      <td>26086.5</td>\n",
       "      <td>675000.0</td>\n",
       "      <td>State servant</td>\n",
       "      <td>Higher education</td>\n",
       "      <td>Married</td>\n",
       "      <td>House / apartment</td>\n",
       "      <td>-20659</td>\n",
       "      <td>-10455</td>\n",
       "      <td>-4998</td>\n",
       "      <td>-4010</td>\n",
       "      <td>WEDNESDAY</td>\n",
       "      <td>10</td>\n",
       "      <td>Culture</td>\n",
       "    </tr>\n",
       "    <tr>\n",
       "      <th>4</th>\n",
       "      <td>241559</td>\n",
       "      <td>0</td>\n",
       "      <td>Revolving loans</td>\n",
       "      <td>M</td>\n",
       "      <td>0</td>\n",
       "      <td>135000.0</td>\n",
       "      <td>180000.0</td>\n",
       "      <td>9000.0</td>\n",
       "      <td>180000.0</td>\n",
       "      <td>Commercial associate</td>\n",
       "      <td>Secondary / secondary special</td>\n",
       "      <td>Single / not married</td>\n",
       "      <td>House / apartment</td>\n",
       "      <td>-9013</td>\n",
       "      <td>-1190</td>\n",
       "      <td>-3524</td>\n",
       "      <td>-1644</td>\n",
       "      <td>SUNDAY</td>\n",
       "      <td>11</td>\n",
       "      <td>Construction</td>\n",
       "    </tr>\n",
       "  </tbody>\n",
       "</table>\n",
       "</div>"
      ],
      "text/plain": [
       "    LN_ID  TARGET    CONTRACT_TYPE GENDER  NUM_CHILDREN    INCOME  \\\n",
       "0  333538       0  Revolving loans      F             1   67500.0   \n",
       "1  406644       0       Cash loans      F             1  202500.0   \n",
       "2  259130       0       Cash loans      F             0  180000.0   \n",
       "3  411997       0       Cash loans      M             0  225000.0   \n",
       "4  241559       0  Revolving loans      M             0  135000.0   \n",
       "\n",
       "   APPROVED_CREDIT  ANNUITY     PRICE           INCOME_TYPE  \\\n",
       "0         202500.0  10125.0  202500.0               Working   \n",
       "1         976711.5  49869.0  873000.0  Commercial associate   \n",
       "2         407520.0  25060.5  360000.0             Pensioner   \n",
       "3         808650.0  26086.5  675000.0         State servant   \n",
       "4         180000.0   9000.0  180000.0  Commercial associate   \n",
       "\n",
       "                       EDUCATION         FAMILY_STATUS       HOUSING_TYPE  \\\n",
       "0  Secondary / secondary special               Married       With parents   \n",
       "1  Secondary / secondary special               Married  House / apartment   \n",
       "2  Secondary / secondary special               Married  House / apartment   \n",
       "3               Higher education               Married  House / apartment   \n",
       "4  Secondary / secondary special  Single / not married  House / apartment   \n",
       "\n",
       "   DAYS_AGE  DAYS_WORK  DAYS_REGISTRATION  DAYS_ID_CHANGE WEEKDAYS_APPLY  \\\n",
       "0    -11539       -921               -119           -2757        TUESDAY   \n",
       "1    -15743      -4482              -1797           -2455        TUESDAY   \n",
       "2    -20775     365243              -8737           -4312       THURSDAY   \n",
       "3    -20659     -10455              -4998           -4010      WEDNESDAY   \n",
       "4     -9013      -1190              -3524           -1644         SUNDAY   \n",
       "\n",
       "   HOUR_APPLY       ORGANIZATION_TYPE  \n",
       "0          18  Business Entity Type 3  \n",
       "1          14                   Other  \n",
       "2          14                     NA1  \n",
       "3          10                 Culture  \n",
       "4          11            Construction  "
      ]
     },
     "execution_count": 4,
     "metadata": {},
     "output_type": "execute_result"
    }
   ],
   "source": [
    "df = pd.read_csv('app_train.csv')\n",
    "df1 = pd.read_csv('app_test.csv')\n",
    "df.head()"
   ]
  },
  {
   "cell_type": "code",
   "execution_count": 5,
   "metadata": {},
   "outputs": [
    {
     "name": "stdout",
     "output_type": "stream",
     "text": [
      "Shape of training data : (61499, 19)\n",
      "Shape of testing data : (14761, 19)\n"
     ]
    }
   ],
   "source": [
    "df.drop(labels=['LN_ID'], axis=1, inplace=True)\n",
    "df1.drop(labels=['LN_ID'], axis=1, inplace=True)\n",
    "print('Shape of training data :',df.shape)\n",
    "print('Shape of testing data :',df1.shape)"
   ]
  },
  {
   "cell_type": "code",
   "execution_count": 6,
   "metadata": {},
   "outputs": [
    {
     "data": {
      "text/plain": [
       "Working                 31621\n",
       "Commercial associate    14217\n",
       "Pensioner               11249\n",
       "State servant            4407\n",
       "Unemployed                  5\n",
       "Name: INCOME_TYPE, dtype: int64"
      ]
     },
     "execution_count": 6,
     "metadata": {},
     "output_type": "execute_result"
    }
   ],
   "source": [
    "df['INCOME_TYPE'].value_counts()"
   ]
  },
  {
   "cell_type": "code",
   "execution_count": 7,
   "metadata": {},
   "outputs": [
    {
     "data": {
      "text/plain": [
       "TARGET               1.000000\n",
       "NUM_CHILDREN         0.018528\n",
       "INCOME              -0.020788\n",
       "APPROVED_CREDIT     -0.039369\n",
       "ANNUITY             -0.019045\n",
       "PRICE               -0.047924\n",
       "DAYS_AGE             0.083542\n",
       "DAYS_WORK           -0.049961\n",
       "DAYS_REGISTRATION    0.039046\n",
       "DAYS_ID_CHANGE       0.055738\n",
       "HOUR_APPLY          -0.029928\n",
       "Name: TARGET, dtype: float64"
      ]
     },
     "execution_count": 7,
     "metadata": {},
     "output_type": "execute_result"
    }
   ],
   "source": [
    "df.corr()['TARGET']"
   ]
  },
  {
   "cell_type": "code",
   "execution_count": 8,
   "metadata": {},
   "outputs": [
    {
     "data": {
      "text/plain": [
       "TARGET                0\n",
       "CONTRACT_TYPE         0\n",
       "GENDER                0\n",
       "NUM_CHILDREN          0\n",
       "INCOME                0\n",
       "APPROVED_CREDIT       0\n",
       "ANNUITY               1\n",
       "PRICE                62\n",
       "INCOME_TYPE           0\n",
       "EDUCATION             0\n",
       "FAMILY_STATUS         0\n",
       "HOUSING_TYPE          0\n",
       "DAYS_AGE              0\n",
       "DAYS_WORK             0\n",
       "DAYS_REGISTRATION     0\n",
       "DAYS_ID_CHANGE        0\n",
       "WEEKDAYS_APPLY        0\n",
       "HOUR_APPLY            0\n",
       "ORGANIZATION_TYPE     0\n",
       "dtype: int64"
      ]
     },
     "execution_count": 8,
     "metadata": {},
     "output_type": "execute_result"
    }
   ],
   "source": [
    "df.isnull().sum()"
   ]
  },
  {
   "cell_type": "code",
   "execution_count": 9,
   "metadata": {},
   "outputs": [],
   "source": [
    "df['PRICE'].fillna(df['PRICE'].median(), inplace=True)\n",
    "df['ANNUITY'].fillna(df['ANNUITY'].median(), inplace=True)"
   ]
  },
  {
   "cell_type": "code",
   "execution_count": 10,
   "metadata": {},
   "outputs": [
    {
     "data": {
      "text/plain": [
       "TARGET                0\n",
       "CONTRACT_TYPE         0\n",
       "GENDER                0\n",
       "NUM_CHILDREN          0\n",
       "INCOME                0\n",
       "APPROVED_CREDIT       0\n",
       "ANNUITY               0\n",
       "PRICE                20\n",
       "INCOME_TYPE           0\n",
       "EDUCATION             0\n",
       "FAMILY_STATUS         0\n",
       "HOUSING_TYPE          0\n",
       "DAYS_AGE              0\n",
       "DAYS_WORK             0\n",
       "DAYS_REGISTRATION     0\n",
       "DAYS_ID_CHANGE        0\n",
       "WEEKDAYS_APPLY        0\n",
       "HOUR_APPLY            0\n",
       "ORGANIZATION_TYPE     0\n",
       "dtype: int64"
      ]
     },
     "execution_count": 10,
     "metadata": {},
     "output_type": "execute_result"
    }
   ],
   "source": [
    "df1.isnull().sum()"
   ]
  },
  {
   "cell_type": "code",
   "execution_count": 11,
   "metadata": {},
   "outputs": [],
   "source": [
    "df1['PRICE'].fillna(df1['PRICE'].median(), inplace=True)"
   ]
  },
  {
   "cell_type": "code",
   "execution_count": 13,
   "metadata": {},
   "outputs": [
    {
     "data": {
      "text/plain": [
       "Index(['TARGET', 'CONTRACT_TYPE', 'GENDER', 'NUM_CHILDREN', 'INCOME',\n",
       "       'APPROVED_CREDIT', 'ANNUITY', 'PRICE', 'INCOME_TYPE', 'EDUCATION',\n",
       "       'FAMILY_STATUS', 'HOUSING_TYPE', 'DAYS_AGE', 'DAYS_WORK',\n",
       "       'DAYS_REGISTRATION', 'DAYS_ID_CHANGE', 'WEEKDAYS_APPLY', 'HOUR_APPLY',\n",
       "       'ORGANIZATION_TYPE'],\n",
       "      dtype='object')"
      ]
     },
     "execution_count": 13,
     "metadata": {},
     "output_type": "execute_result"
    }
   ],
   "source": [
    "df.columns"
   ]
  },
  {
   "cell_type": "code",
   "execution_count": 14,
   "metadata": {},
   "outputs": [],
   "source": [
    "# Select the categorical columns\n",
    "catsub1 = df[['CONTRACT_TYPE','GENDER','INCOME_TYPE','EDUCATION','FAMILY_STATUS','HOUSING_TYPE','WEEKDAYS_APPLY','ORGANIZATION_TYPE']]\n",
    "catsub2 = df1[['CONTRACT_TYPE','GENDER','INCOME_TYPE','EDUCATION','FAMILY_STATUS','HOUSING_TYPE','WEEKDAYS_APPLY','ORGANIZATION_TYPE']]\n",
    "\n",
    "catsub1 = pd.get_dummies(catsub1)\n",
    "catsub2 = pd.get_dummies(catsub2)\n",
    "\n",
    "df.drop(labels=['CONTRACT_TYPE','GENDER','INCOME_TYPE','EDUCATION','FAMILY_STATUS','HOUSING_TYPE','WEEKDAYS_APPLY','ORGANIZATION_TYPE'], axis=1, inplace=True)\n",
    "df1.drop(labels=['CONTRACT_TYPE','GENDER','INCOME_TYPE','EDUCATION','FAMILY_STATUS','HOUSING_TYPE','WEEKDAYS_APPLY','ORGANIZATION_TYPE'], axis=1, inplace=True)\n",
    "df = pd.concat([df, catsub1], axis = 1)\n",
    "df1 = pd.concat([df1, catsub2], axis = 1)"
   ]
  },
  {
   "cell_type": "code",
   "execution_count": 15,
   "metadata": {},
   "outputs": [
    {
     "name": "stdout",
     "output_type": "stream",
     "text": [
      "shape of training data :  (61499, 100)\n",
      "shape of testing data :  (14761, 100)\n"
     ]
    }
   ],
   "source": [
    "# seperate the independent and target variable on training data\n",
    "train_x = df.drop(columns=['TARGET'],axis=1)\n",
    "train_y = df['TARGET']\n",
    "\n",
    "# seperate the independent and target variable on testing data\n",
    "test_x = df1.drop(columns=['TARGET'],axis=1)\n",
    "test_y = df1['TARGET']\n",
    "\n",
    "print('shape of training data : ',train_x.shape)\n",
    "print('shape of testing data : ',test_x.shape)"
   ]
  },
  {
   "cell_type": "code",
   "execution_count": 16,
   "metadata": {},
   "outputs": [],
   "source": [
    "X_train = np.array(train_x)\n",
    "X_test = np.array(test_x)\n",
    "y_train = np.array(train_y)\n",
    "y_test = np.array(test_y)"
   ]
  },
  {
   "cell_type": "code",
   "execution_count": 17,
   "metadata": {},
   "outputs": [
    {
     "name": "stderr",
     "output_type": "stream",
     "text": [
      "C:\\ProgramData\\Anaconda3\\lib\\site-packages\\sklearn\\model_selection\\_validation.py:536: FitFailedWarning: Estimator fit failed. The score on this train-test partition for these parameters will be set to nan. Details: \n",
      "ValueError: l1_ratio must be between 0 and 1; got (l1_ratio=None)\n",
      "\n",
      "  FitFailedWarning)\n",
      "C:\\ProgramData\\Anaconda3\\lib\\site-packages\\sklearn\\model_selection\\_validation.py:536: FitFailedWarning: Estimator fit failed. The score on this train-test partition for these parameters will be set to nan. Details: \n",
      "ValueError: Solver newton-cg supports only 'l2' or 'none' penalties, got elasticnet penalty.\n",
      "\n",
      "  FitFailedWarning)\n",
      "C:\\ProgramData\\Anaconda3\\lib\\site-packages\\sklearn\\linear_model\\_logistic.py:1505: UserWarning: Setting penalty='none' will ignore the C and l1_ratio parameters\n",
      "  \"Setting penalty='none' will ignore the C and l1_ratio \"\n",
      "C:\\ProgramData\\Anaconda3\\lib\\site-packages\\sklearn\\linear_model\\_logistic.py:1505: UserWarning: Setting penalty='none' will ignore the C and l1_ratio parameters\n",
      "  \"Setting penalty='none' will ignore the C and l1_ratio \"\n",
      "C:\\ProgramData\\Anaconda3\\lib\\site-packages\\sklearn\\linear_model\\_logistic.py:940: ConvergenceWarning: lbfgs failed to converge (status=1):\n",
      "STOP: TOTAL NO. of ITERATIONS REACHED LIMIT.\n",
      "\n",
      "Increase the number of iterations (max_iter) or scale the data as shown in:\n",
      "    https://scikit-learn.org/stable/modules/preprocessing.html\n",
      "Please also refer to the documentation for alternative solver options:\n",
      "    https://scikit-learn.org/stable/modules/linear_model.html#logistic-regression\n",
      "  extra_warning_msg=_LOGISTIC_SOLVER_CONVERGENCE_MSG)\n",
      "C:\\ProgramData\\Anaconda3\\lib\\site-packages\\sklearn\\linear_model\\_logistic.py:1505: UserWarning: Setting penalty='none' will ignore the C and l1_ratio parameters\n",
      "  \"Setting penalty='none' will ignore the C and l1_ratio \"\n",
      "C:\\ProgramData\\Anaconda3\\lib\\site-packages\\sklearn\\linear_model\\_logistic.py:940: ConvergenceWarning: lbfgs failed to converge (status=1):\n",
      "STOP: TOTAL NO. of ITERATIONS REACHED LIMIT.\n",
      "\n",
      "Increase the number of iterations (max_iter) or scale the data as shown in:\n",
      "    https://scikit-learn.org/stable/modules/preprocessing.html\n",
      "Please also refer to the documentation for alternative solver options:\n",
      "    https://scikit-learn.org/stable/modules/linear_model.html#logistic-regression\n",
      "  extra_warning_msg=_LOGISTIC_SOLVER_CONVERGENCE_MSG)\n",
      "C:\\ProgramData\\Anaconda3\\lib\\site-packages\\sklearn\\linear_model\\_logistic.py:1505: UserWarning: Setting penalty='none' will ignore the C and l1_ratio parameters\n",
      "  \"Setting penalty='none' will ignore the C and l1_ratio \"\n",
      "C:\\ProgramData\\Anaconda3\\lib\\site-packages\\sklearn\\linear_model\\_logistic.py:1505: UserWarning: Setting penalty='none' will ignore the C and l1_ratio parameters\n",
      "  \"Setting penalty='none' will ignore the C and l1_ratio \"\n",
      "C:\\ProgramData\\Anaconda3\\lib\\site-packages\\sklearn\\linear_model\\_logistic.py:940: ConvergenceWarning: lbfgs failed to converge (status=1):\n",
      "STOP: TOTAL NO. of ITERATIONS REACHED LIMIT.\n",
      "\n",
      "Increase the number of iterations (max_iter) or scale the data as shown in:\n",
      "    https://scikit-learn.org/stable/modules/preprocessing.html\n",
      "Please also refer to the documentation for alternative solver options:\n",
      "    https://scikit-learn.org/stable/modules/linear_model.html#logistic-regression\n",
      "  extra_warning_msg=_LOGISTIC_SOLVER_CONVERGENCE_MSG)\n",
      "C:\\ProgramData\\Anaconda3\\lib\\site-packages\\sklearn\\linear_model\\_logistic.py:1505: UserWarning: Setting penalty='none' will ignore the C and l1_ratio parameters\n",
      "  \"Setting penalty='none' will ignore the C and l1_ratio \"\n",
      "C:\\ProgramData\\Anaconda3\\lib\\site-packages\\sklearn\\linear_model\\_sag.py:330: ConvergenceWarning: The max_iter was reached which means the coef_ did not converge\n",
      "  \"the coef_ did not converge\", ConvergenceWarning)\n",
      "C:\\ProgramData\\Anaconda3\\lib\\site-packages\\sklearn\\linear_model\\_logistic.py:1505: UserWarning: Setting penalty='none' will ignore the C and l1_ratio parameters\n",
      "  \"Setting penalty='none' will ignore the C and l1_ratio \"\n",
      "C:\\ProgramData\\Anaconda3\\lib\\site-packages\\sklearn\\linear_model\\_sag.py:330: ConvergenceWarning: The max_iter was reached which means the coef_ did not converge\n",
      "  \"the coef_ did not converge\", ConvergenceWarning)\n",
      "C:\\ProgramData\\Anaconda3\\lib\\site-packages\\sklearn\\linear_model\\_logistic.py:1505: UserWarning: Setting penalty='none' will ignore the C and l1_ratio parameters\n",
      "  \"Setting penalty='none' will ignore the C and l1_ratio \"\n",
      "C:\\ProgramData\\Anaconda3\\lib\\site-packages\\sklearn\\linear_model\\_sag.py:330: ConvergenceWarning: The max_iter was reached which means the coef_ did not converge\n",
      "  \"the coef_ did not converge\", ConvergenceWarning)\n",
      "C:\\ProgramData\\Anaconda3\\lib\\site-packages\\sklearn\\linear_model\\_logistic.py:1505: UserWarning: Setting penalty='none' will ignore the C and l1_ratio parameters\n",
      "  \"Setting penalty='none' will ignore the C and l1_ratio \"\n",
      "C:\\ProgramData\\Anaconda3\\lib\\site-packages\\sklearn\\linear_model\\_sag.py:330: ConvergenceWarning: The max_iter was reached which means the coef_ did not converge\n",
      "  \"the coef_ did not converge\", ConvergenceWarning)\n",
      "C:\\ProgramData\\Anaconda3\\lib\\site-packages\\sklearn\\linear_model\\_logistic.py:1505: UserWarning: Setting penalty='none' will ignore the C and l1_ratio parameters\n",
      "  \"Setting penalty='none' will ignore the C and l1_ratio \"\n",
      "C:\\ProgramData\\Anaconda3\\lib\\site-packages\\sklearn\\linear_model\\_sag.py:330: ConvergenceWarning: The max_iter was reached which means the coef_ did not converge\n",
      "  \"the coef_ did not converge\", ConvergenceWarning)\n",
      "C:\\ProgramData\\Anaconda3\\lib\\site-packages\\sklearn\\linear_model\\_sag.py:330: ConvergenceWarning: The max_iter was reached which means the coef_ did not converge\n",
      "  \"the coef_ did not converge\", ConvergenceWarning)\n",
      "C:\\ProgramData\\Anaconda3\\lib\\site-packages\\sklearn\\linear_model\\_sag.py:330: ConvergenceWarning: The max_iter was reached which means the coef_ did not converge\n",
      "  \"the coef_ did not converge\", ConvergenceWarning)\n",
      "C:\\ProgramData\\Anaconda3\\lib\\site-packages\\sklearn\\linear_model\\_sag.py:330: ConvergenceWarning: The max_iter was reached which means the coef_ did not converge\n",
      "  \"the coef_ did not converge\", ConvergenceWarning)\n",
      "C:\\ProgramData\\Anaconda3\\lib\\site-packages\\sklearn\\linear_model\\_sag.py:330: ConvergenceWarning: The max_iter was reached which means the coef_ did not converge\n",
      "  \"the coef_ did not converge\", ConvergenceWarning)\n",
      "C:\\ProgramData\\Anaconda3\\lib\\site-packages\\sklearn\\linear_model\\_sag.py:330: ConvergenceWarning: The max_iter was reached which means the coef_ did not converge\n",
      "  \"the coef_ did not converge\", ConvergenceWarning)\n",
      "C:\\ProgramData\\Anaconda3\\lib\\site-packages\\sklearn\\model_selection\\_validation.py:536: FitFailedWarning: Estimator fit failed. The score on this train-test partition for these parameters will be set to nan. Details: \n",
      "ValueError: Only 'saga' solver supports elasticnet penalty, got solver=liblinear.\n",
      "\n",
      "  FitFailedWarning)\n",
      "C:\\ProgramData\\Anaconda3\\lib\\site-packages\\sklearn\\model_selection\\_validation.py:536: FitFailedWarning: Estimator fit failed. The score on this train-test partition for these parameters will be set to nan. Details: \n",
      "ValueError: Solver lbfgs supports only 'l2' or 'none' penalties, got elasticnet penalty.\n",
      "\n",
      "  FitFailedWarning)\n",
      "C:\\ProgramData\\Anaconda3\\lib\\site-packages\\scipy\\optimize\\linesearch.py:466: LineSearchWarning: The line search algorithm did not converge\n",
      "  warn('The line search algorithm did not converge', LineSearchWarning)\n",
      "C:\\ProgramData\\Anaconda3\\lib\\site-packages\\scipy\\optimize\\linesearch.py:314: LineSearchWarning: The line search algorithm did not converge\n",
      "  warn('The line search algorithm did not converge', LineSearchWarning)\n",
      "C:\\ProgramData\\Anaconda3\\lib\\site-packages\\sklearn\\utils\\optimize.py:212: ConvergenceWarning: newton-cg failed to converge. Increase the number of iterations.\n",
      "  \"number of iterations.\", ConvergenceWarning)\n",
      "C:\\ProgramData\\Anaconda3\\lib\\site-packages\\sklearn\\utils\\optimize.py:212: ConvergenceWarning: newton-cg failed to converge. Increase the number of iterations.\n",
      "  \"number of iterations.\", ConvergenceWarning)\n",
      "C:\\ProgramData\\Anaconda3\\lib\\site-packages\\sklearn\\utils\\optimize.py:212: ConvergenceWarning: newton-cg failed to converge. Increase the number of iterations.\n",
      "  \"number of iterations.\", ConvergenceWarning)\n",
      "C:\\ProgramData\\Anaconda3\\lib\\site-packages\\sklearn\\utils\\optimize.py:212: ConvergenceWarning: newton-cg failed to converge. Increase the number of iterations.\n",
      "  \"number of iterations.\", ConvergenceWarning)\n",
      "C:\\ProgramData\\Anaconda3\\lib\\site-packages\\sklearn\\utils\\optimize.py:212: ConvergenceWarning: newton-cg failed to converge. Increase the number of iterations.\n",
      "  \"number of iterations.\", ConvergenceWarning)\n",
      "C:\\ProgramData\\Anaconda3\\lib\\site-packages\\sklearn\\model_selection\\_validation.py:536: FitFailedWarning: Estimator fit failed. The score on this train-test partition for these parameters will be set to nan. Details: \n",
      "ValueError: Only 'saga' solver supports elasticnet penalty, got solver=liblinear.\n",
      "\n",
      "  FitFailedWarning)\n",
      "C:\\ProgramData\\Anaconda3\\lib\\site-packages\\sklearn\\linear_model\\_logistic.py:1505: UserWarning: Setting penalty='none' will ignore the C and l1_ratio parameters\n",
      "  \"Setting penalty='none' will ignore the C and l1_ratio \"\n",
      "C:\\ProgramData\\Anaconda3\\lib\\site-packages\\sklearn\\linear_model\\_sag.py:330: ConvergenceWarning: The max_iter was reached which means the coef_ did not converge\n",
      "  \"the coef_ did not converge\", ConvergenceWarning)\n"
     ]
    },
    {
     "data": {
      "text/plain": [
       "{'solver': 'saga', 'penalty': 'none', 'C': 10}"
      ]
     },
     "execution_count": 17,
     "metadata": {},
     "output_type": "execute_result"
    }
   ],
   "source": [
    "# parameter logistic regression yg akan dituned\n",
    "penalty = ['l1','l2','elasticnet','none']\n",
    "solver = ['newton-cg', 'lbfgs','liblinear','sag', 'saga']\n",
    "C = [100, 10, 1.0, 0.1, 0.01]\n",
    "\n",
    "param = {'penalty':penalty, 'solver':solver, 'C':C}\n",
    "param\n",
    "\n",
    "# randomized search cv\n",
    "from sklearn.linear_model import LogisticRegression\n",
    "from sklearn.model_selection import RandomizedSearchCV\n",
    "logr = LogisticRegression()\n",
    "modellr = RandomizedSearchCV(estimator=logr, param_distributions=param, cv=5)\n",
    "modellr.fit(X_train, y_train)\n",
    "modellr.best_params_"
   ]
  },
  {
   "cell_type": "code",
   "execution_count": 20,
   "metadata": {},
   "outputs": [
    {
     "name": "stderr",
     "output_type": "stream",
     "text": [
      "C:\\ProgramData\\Anaconda3\\lib\\site-packages\\sklearn\\linear_model\\_logistic.py:940: ConvergenceWarning: lbfgs failed to converge (status=1):\n",
      "STOP: TOTAL NO. of ITERATIONS REACHED LIMIT.\n",
      "\n",
      "Increase the number of iterations (max_iter) or scale the data as shown in:\n",
      "    https://scikit-learn.org/stable/modules/preprocessing.html\n",
      "Please also refer to the documentation for alternative solver options:\n",
      "    https://scikit-learn.org/stable/modules/linear_model.html#logistic-regression\n",
      "  extra_warning_msg=_LOGISTIC_SOLVER_CONVERGENCE_MSG)\n",
      "C:\\ProgramData\\Anaconda3\\lib\\site-packages\\sklearn\\linear_model\\_logistic.py:940: ConvergenceWarning: lbfgs failed to converge (status=1):\n",
      "STOP: TOTAL NO. of ITERATIONS REACHED LIMIT.\n",
      "\n",
      "Increase the number of iterations (max_iter) or scale the data as shown in:\n",
      "    https://scikit-learn.org/stable/modules/preprocessing.html\n",
      "Please also refer to the documentation for alternative solver options:\n",
      "    https://scikit-learn.org/stable/modules/linear_model.html#logistic-regression\n",
      "  extra_warning_msg=_LOGISTIC_SOLVER_CONVERGENCE_MSG)\n"
     ]
    },
    {
     "name": "stdout",
     "output_type": "stream",
     "text": [
      "Logistic Regression Performance Without Hyperparameter Tuning: Cross Validation Score = 0.9192\n"
     ]
    },
    {
     "name": "stderr",
     "output_type": "stream",
     "text": [
      "C:\\ProgramData\\Anaconda3\\lib\\site-packages\\sklearn\\linear_model\\_logistic.py:1505: UserWarning: Setting penalty='none' will ignore the C and l1_ratio parameters\n",
      "  \"Setting penalty='none' will ignore the C and l1_ratio \"\n",
      "C:\\ProgramData\\Anaconda3\\lib\\site-packages\\sklearn\\linear_model\\_sag.py:330: ConvergenceWarning: The max_iter was reached which means the coef_ did not converge\n",
      "  \"the coef_ did not converge\", ConvergenceWarning)\n",
      "C:\\ProgramData\\Anaconda3\\lib\\site-packages\\sklearn\\linear_model\\_logistic.py:1505: UserWarning: Setting penalty='none' will ignore the C and l1_ratio parameters\n",
      "  \"Setting penalty='none' will ignore the C and l1_ratio \"\n",
      "C:\\ProgramData\\Anaconda3\\lib\\site-packages\\sklearn\\linear_model\\_sag.py:330: ConvergenceWarning: The max_iter was reached which means the coef_ did not converge\n",
      "  \"the coef_ did not converge\", ConvergenceWarning)\n",
      "C:\\ProgramData\\Anaconda3\\lib\\site-packages\\sklearn\\linear_model\\_logistic.py:1505: UserWarning: Setting penalty='none' will ignore the C and l1_ratio parameters\n",
      "  \"Setting penalty='none' will ignore the C and l1_ratio \"\n",
      "C:\\ProgramData\\Anaconda3\\lib\\site-packages\\sklearn\\linear_model\\_sag.py:330: ConvergenceWarning: The max_iter was reached which means the coef_ did not converge\n",
      "  \"the coef_ did not converge\", ConvergenceWarning)\n",
      "C:\\ProgramData\\Anaconda3\\lib\\site-packages\\sklearn\\linear_model\\_logistic.py:1505: UserWarning: Setting penalty='none' will ignore the C and l1_ratio parameters\n",
      "  \"Setting penalty='none' will ignore the C and l1_ratio \"\n",
      "C:\\ProgramData\\Anaconda3\\lib\\site-packages\\sklearn\\linear_model\\_sag.py:330: ConvergenceWarning: The max_iter was reached which means the coef_ did not converge\n",
      "  \"the coef_ did not converge\", ConvergenceWarning)\n",
      "C:\\ProgramData\\Anaconda3\\lib\\site-packages\\sklearn\\linear_model\\_logistic.py:1505: UserWarning: Setting penalty='none' will ignore the C and l1_ratio parameters\n",
      "  \"Setting penalty='none' will ignore the C and l1_ratio \"\n",
      "C:\\ProgramData\\Anaconda3\\lib\\site-packages\\sklearn\\linear_model\\_sag.py:330: ConvergenceWarning: The max_iter was reached which means the coef_ did not converge\n",
      "  \"the coef_ did not converge\", ConvergenceWarning)\n",
      "C:\\ProgramData\\Anaconda3\\lib\\site-packages\\sklearn\\linear_model\\_logistic.py:1505: UserWarning: Setting penalty='none' will ignore the C and l1_ratio parameters\n",
      "  \"Setting penalty='none' will ignore the C and l1_ratio \"\n"
     ]
    },
    {
     "name": "stdout",
     "output_type": "stream",
     "text": [
      "Logistic Regression Performance With Hyperparameter Tuning: Cross Validation Score = 0.9192\n"
     ]
    },
    {
     "name": "stderr",
     "output_type": "stream",
     "text": [
      "C:\\ProgramData\\Anaconda3\\lib\\site-packages\\sklearn\\linear_model\\_sag.py:330: ConvergenceWarning: The max_iter was reached which means the coef_ did not converge\n",
      "  \"the coef_ did not converge\", ConvergenceWarning)\n"
     ]
    }
   ],
   "source": [
    "from sklearn.model_selection import cross_val_score\n",
    "logr_cross = np.mean(cross_val_score(logr, X_train, y_train, cv=5, scoring='accuracy'))\n",
    "print('Logistic Regression Performance Without Hyperparameter Tuning: Cross Validation Score = %0.4f' % logr_cross)\n",
    "\n",
    "logr_tun = LogisticRegression(solver='saga', penalty='none', C=10)\n",
    "logr_tun.fit(X_train, y_train)\n",
    "logr_cross_tun = np.mean(cross_val_score(logr_tun, X_train, y_train, cv=5, scoring='accuracy'))\n",
    "pred_log = logr_tun.predict(X_test)\n",
    "print('Logistic Regression Performance With Hyperparameter Tuning: Cross Validation Score = %0.4f' % logr_cross_tun)"
   ]
  },
  {
   "cell_type": "code",
   "execution_count": 21,
   "metadata": {},
   "outputs": [
    {
     "name": "stdout",
     "output_type": "stream",
     "text": [
      "bAcc = 0.5\n",
      "Precision+ = 0.9185014565408848\n",
      "Precision- = 0.0\n",
      "Recall+ = 1.0\n",
      "Recall- = 0.0\n",
      "F1 score+ = 0.9575196864296056\n",
      "F1 score- = 0.0\n",
      "ROC AUC score = 0.5\n"
     ]
    },
    {
     "name": "stderr",
     "output_type": "stream",
     "text": [
      "C:\\ProgramData\\Anaconda3\\lib\\site-packages\\sklearn\\metrics\\_classification.py:1272: UndefinedMetricWarning: Precision is ill-defined and being set to 0.0 due to no predicted samples. Use `zero_division` parameter to control this behavior.\n",
      "  _warn_prf(average, modifier, msg_start, len(result))\n"
     ]
    }
   ],
   "source": [
    "# balanced accuracy\n",
    "from sklearn.metrics import balanced_accuracy_score\n",
    "print('bAcc =', balanced_accuracy_score(y_test, pred_log))\n",
    "\n",
    "# precision\n",
    "from sklearn.metrics import precision_score\n",
    "print('Precision+ =', precision_score(y_test, pred_log, pos_label=0))\n",
    "print('Precision- =', precision_score(y_test, pred_log, pos_label=1))\n",
    "\n",
    "# recall\n",
    "from sklearn.metrics import recall_score\n",
    "print('Recall+ =', recall_score(y_test, pred_log, pos_label=0))\n",
    "print('Recall- =', recall_score(y_test, pred_log, pos_label=1))\n",
    "\n",
    "# f1 score\n",
    "from sklearn.metrics import f1_score\n",
    "print('F1 score+ =', f1_score(y_test, pred_log, pos_label=0))\n",
    "print('F1 score- =', f1_score(y_test, pred_log, pos_label=1))\n",
    "\n",
    "# roc auc\n",
    "from sklearn.metrics import roc_auc_score\n",
    "print('ROC AUC score =', roc_auc_score(y_test, pred_log))"
   ]
  },
  {
   "cell_type": "code",
   "execution_count": 28,
   "metadata": {},
   "outputs": [
    {
     "data": {
      "text/html": [
       "<div>\n",
       "<style scoped>\n",
       "    .dataframe tbody tr th:only-of-type {\n",
       "        vertical-align: middle;\n",
       "    }\n",
       "\n",
       "    .dataframe tbody tr th {\n",
       "        vertical-align: top;\n",
       "    }\n",
       "\n",
       "    .dataframe thead th {\n",
       "        text-align: right;\n",
       "    }\n",
       "</style>\n",
       "<table border=\"1\" class=\"dataframe\">\n",
       "  <thead>\n",
       "    <tr style=\"text-align: right;\">\n",
       "      <th></th>\n",
       "      <th>Pred 0</th>\n",
       "      <th>Pred 1</th>\n",
       "    </tr>\n",
       "  </thead>\n",
       "  <tbody>\n",
       "    <tr>\n",
       "      <th>Act 0</th>\n",
       "      <td>13558</td>\n",
       "      <td>0</td>\n",
       "    </tr>\n",
       "    <tr>\n",
       "      <th>Act 1</th>\n",
       "      <td>1203</td>\n",
       "      <td>0</td>\n",
       "    </tr>\n",
       "  </tbody>\n",
       "</table>\n",
       "</div>"
      ],
      "text/plain": [
       "       Pred 0  Pred 1\n",
       "Act 0   13558       0\n",
       "Act 1    1203       0"
      ]
     },
     "execution_count": 28,
     "metadata": {},
     "output_type": "execute_result"
    }
   ],
   "source": [
    "from sklearn.metrics import confusion_matrix\n",
    "cm = confusion_matrix(y_test,pred_log, labels=[0,1])\n",
    "cme = pd.DataFrame(cm, columns=['Pred 0','Pred 1'], index = ['Act 0','Act 1'])\n",
    "cme"
   ]
  },
  {
   "cell_type": "code",
   "execution_count": 29,
   "metadata": {},
   "outputs": [
    {
     "data": {
      "text/plain": [
       "<matplotlib.axes._subplots.AxesSubplot at 0x1ce80507588>"
      ]
     },
     "execution_count": 29,
     "metadata": {},
     "output_type": "execute_result"
    },
    {
     "data": {
      "image/png": "[encoded data removed]",
      "text/plain": [
       "<Figure size 432x288 with 2 Axes>"
      ]
     },
     "metadata": {
      "needs_background": "light"
     },
     "output_type": "display_data"
    }
   ],
   "source": [
    "import seaborn as sb\n",
    "sb.heatmap(cme, annot=True)"
   ]
  },
  {
   "cell_type": "code",
   "execution_count": 32,
   "metadata": {},
   "outputs": [
    {
     "data": {
      "text/plain": [
       "(13558, 0, 1203, 0)"
      ]
     },
     "execution_count": 32,
     "metadata": {},
     "output_type": "execute_result"
    }
   ],
   "source": [
    "tp, fn, fp, tn = confusion_matrix(y_test,pred_log).ravel()\n",
    "tp, fn, fp, tn"
   ]
  },
  {
   "cell_type": "code",
   "execution_count": 36,
   "metadata": {},
   "outputs": [
    {
     "name": "stdout",
     "output_type": "stream",
     "text": [
      "BACC: 0.5\n",
      "Precision(+): 0.9185014565408848\n",
      "Precision(-): nan\n",
      "TPr / Recall(+): 1.0\n",
      "TNr / Recall(-): 0.0\n",
      "F1 Score(+): 0.9575196864296056\n",
      "F1 Score(-): nan\n"
     ]
    },
    {
     "name": "stderr",
     "output_type": "stream",
     "text": [
      "C:\\ProgramData\\Anaconda3\\lib\\site-packages\\ipykernel_launcher.py:3: RuntimeWarning: invalid value encountered in longlong_scalars\n",
      "  This is separate from the ipykernel package so we can avoid doing imports until\n",
      "C:\\ProgramData\\Anaconda3\\lib\\site-packages\\ipykernel_launcher.py:7: RuntimeWarning: invalid value encountered in longlong_scalars\n",
      "  import sys\n"
     ]
    }
   ],
   "source": [
    "print('BACC:', ((tp/(tp+fn)) + (tn/ (fp+tn))) / 2)\n",
    "print('Precision(+):', tp/ (tp+fp))\n",
    "print('Precision(-):', tn/ (tn+fn))\n",
    "print('TPr / Recall(+):', tp/ (tp+fn))\n",
    "print('TNr / Recall(-):', tn/(tn+fp))\n",
    "print('F1 Score(+):', 2 * (((tp / (tp+fp))*(tp/(tp+fn))) / ((tp/(tp+fp)) + ((tp/ (tp+fn))))))\n",
    "print('F1 Score(-):', 2 * (((tn / (tn+fn))*(tn/(tn+fp))) / ((tn/(tn+fn)) + ((tn/ (tn+fp))))))"
   ]
  },
  {
   "cell_type": "code",
   "execution_count": 37,
   "metadata": {},
   "outputs": [
    {
     "name": "stdout",
     "output_type": "stream",
     "text": [
      "Classification report logistic regression:\n",
      "               precision    recall  f1-score   support\n",
      "\n",
      "           0       0.92      1.00      0.96     13558\n",
      "           1       0.00      0.00      0.00      1203\n",
      "\n",
      "    accuracy                           0.92     14761\n",
      "   macro avg       0.46      0.50      0.48     14761\n",
      "weighted avg       0.84      0.92      0.88     14761\n",
      "\n"
     ]
    },
    {
     "name": "stderr",
     "output_type": "stream",
     "text": [
      "C:\\ProgramData\\Anaconda3\\lib\\site-packages\\sklearn\\metrics\\_classification.py:1272: UndefinedMetricWarning: Precision and F-score are ill-defined and being set to 0.0 in labels with no predicted samples. Use `zero_division` parameter to control this behavior.\n",
      "  _warn_prf(average, modifier, msg_start, len(result))\n"
     ]
    }
   ],
   "source": [
    "from sklearn.metrics import classification_report\n",
    "print('Classification report logistic regression:\\n',classification_report(y_test, pred_log))"
   ]
  },
  {
   "cell_type": "code",
   "execution_count": 21,
   "metadata": {},
   "outputs": [
    {
     "data": {
      "text/plain": [
       "{'weights': 'uniform', 'p': 2, 'n_neighbors': 19, 'metric': 'euclidean'}"
      ]
     },
     "execution_count": 21,
     "metadata": {},
     "output_type": "execute_result"
    }
   ],
   "source": [
    "# parameter knn yg akan dituned\n",
    "n_neighbors = range(1, 21, 2)\n",
    "weights = ['uniform', 'distance']\n",
    "metric = ['euclidean', 'manhattan', 'minkowski']\n",
    "p = [1, 2]\n",
    "\n",
    "param1 = {'n_neighbors':n_neighbors, 'weights':weights, 'metric':metric, 'p':p}\n",
    "param1\n",
    "\n",
    "# randomized search cv\n",
    "from sklearn.neighbors import KNeighborsClassifier\n",
    "from sklearn.model_selection import RandomizedSearchCV\n",
    "knn = KNeighborsClassifier()\n",
    "modelknn = RandomizedSearchCV(estimator=knn, param_distributions=param1, cv=5)\n",
    "modelknn.fit(X_train, y_train)\n",
    "modelknn.best_params_"
   ]
  },
  {
   "cell_type": "code",
   "execution_count": 22,
   "metadata": {},
   "outputs": [
    {
     "name": "stdout",
     "output_type": "stream",
     "text": [
      "KNN Performance Without Hyperparameter Tuning: Cross Validation Score = 0.9132\n",
      "KNN Performance With Hyperparameter Tuning: Cross Validation Score = 0.9192\n"
     ]
    }
   ],
   "source": [
    "from sklearn.model_selection import cross_val_score\n",
    "knn_cross = np.mean(cross_val_score(knn, X_train, y_train, cv=5, scoring='accuracy'))\n",
    "print('KNN Performance Without Hyperparameter Tuning: Cross Validation Score = %0.4f' % knn_cross)\n",
    "\n",
    "knn_tun = KNeighborsClassifier(weights='uniform', p=2, n_neighbors=19, metric='euclidean')\n",
    "knn_tun.fit(X_train, y_train)\n",
    "knn_cross_tun = np.mean(cross_val_score(knn_tun, X_train, y_train, cv=5, scoring='accuracy'))\n",
    "pred_knn = knn_tun.predict(X_test)\n",
    "print('KNN Performance With Hyperparameter Tuning: Cross Validation Score = %0.4f' % knn_cross_tun)"
   ]
  },
  {
   "cell_type": "code",
   "execution_count": 23,
   "metadata": {},
   "outputs": [
    {
     "name": "stdout",
     "output_type": "stream",
     "text": [
      "bAcc = 0.4999631214043369\n",
      "Precision+ = 0.9184959349593496\n",
      "Precision- = 0.0\n",
      "Recall+ = 0.9999262428086738\n",
      "Recall- = 0.0\n",
      "F1 score+ = 0.9574828730842573\n",
      "F1 score- = 0.0\n",
      "ROC AUC score = 0.4999631214043369\n"
     ]
    }
   ],
   "source": [
    "# balanced accuracy\n",
    "from sklearn.metrics import balanced_accuracy_score\n",
    "print('bAcc =', balanced_accuracy_score(y_test, pred_knn))\n",
    "\n",
    "# precision\n",
    "from sklearn.metrics import precision_score\n",
    "print('Precision+ =', precision_score(y_test, pred_knn, pos_label=0))\n",
    "print('Precision- =', precision_score(y_test, pred_knn, pos_label=1))\n",
    "\n",
    "# recall\n",
    "from sklearn.metrics import recall_score\n",
    "print('Recall+ =', recall_score(y_test, pred_knn, pos_label=0))\n",
    "print('Recall- =', recall_score(y_test, pred_knn, pos_label=1))\n",
    "\n",
    "# f1 score\n",
    "from sklearn.metrics import f1_score\n",
    "print('F1 score+ =', f1_score(y_test, pred_knn, pos_label=0))\n",
    "print('F1 score- =', f1_score(y_test, pred_knn, pos_label=1))\n",
    "\n",
    "# roc auc\n",
    "from sklearn.metrics import roc_auc_score\n",
    "print('ROC AUC score =', roc_auc_score(y_test, pred_knn))"
   ]
  },
  {
   "cell_type": "code",
   "execution_count": 38,
   "metadata": {},
   "outputs": [
    {
     "ename": "NameError",
     "evalue": "name 'pred_knn' is not defined",
     "output_type": "error",
     "traceback": [
      "\u001b[1;31m---------------------------------------------------------------------------\u001b[0m",
      "\u001b[1;31mNameError\u001b[0m                                 Traceback (most recent call last)",
      "\u001b[1;32m<ipython-input-38-09b3aab2fecc>\u001b[0m in \u001b[0;36m<module>\u001b[1;34m\u001b[0m\n\u001b[0;32m      1\u001b[0m \u001b[1;32mfrom\u001b[0m \u001b[0msklearn\u001b[0m\u001b[1;33m.\u001b[0m\u001b[0mmetrics\u001b[0m \u001b[1;32mimport\u001b[0m \u001b[0mconfusion_matrix\u001b[0m\u001b[1;33m\u001b[0m\u001b[1;33m\u001b[0m\u001b[0m\n\u001b[1;32m----> 2\u001b[1;33m \u001b[0mcm2\u001b[0m \u001b[1;33m=\u001b[0m \u001b[0mconfusion_matrix\u001b[0m\u001b[1;33m(\u001b[0m\u001b[0my_test\u001b[0m\u001b[1;33m,\u001b[0m\u001b[0mpred_knn\u001b[0m\u001b[1;33m,\u001b[0m \u001b[0mlabels\u001b[0m\u001b[1;33m=\u001b[0m\u001b[1;33m[\u001b[0m\u001b[1;36m0\u001b[0m\u001b[1;33m,\u001b[0m\u001b[1;36m1\u001b[0m\u001b[1;33m]\u001b[0m\u001b[1;33m)\u001b[0m\u001b[1;33m\u001b[0m\u001b[1;33m\u001b[0m\u001b[0m\n\u001b[0m\u001b[0;32m      3\u001b[0m \u001b[0mcmf\u001b[0m \u001b[1;33m=\u001b[0m \u001b[0mpd\u001b[0m\u001b[1;33m.\u001b[0m\u001b[0mDataFrame\u001b[0m\u001b[1;33m(\u001b[0m\u001b[0mcm2\u001b[0m\u001b[1;33m,\u001b[0m \u001b[0mcolumns\u001b[0m\u001b[1;33m=\u001b[0m\u001b[1;33m[\u001b[0m\u001b[1;34m'Pred 0'\u001b[0m\u001b[1;33m,\u001b[0m\u001b[1;34m'Pred 1'\u001b[0m\u001b[1;33m]\u001b[0m\u001b[1;33m,\u001b[0m \u001b[0mindex\u001b[0m \u001b[1;33m=\u001b[0m \u001b[1;33m[\u001b[0m\u001b[1;34m'Act 0'\u001b[0m\u001b[1;33m,\u001b[0m\u001b[1;34m'Act 1'\u001b[0m\u001b[1;33m]\u001b[0m\u001b[1;33m)\u001b[0m\u001b[1;33m\u001b[0m\u001b[1;33m\u001b[0m\u001b[0m\n\u001b[0;32m      4\u001b[0m \u001b[0mcmf\u001b[0m\u001b[1;33m\u001b[0m\u001b[1;33m\u001b[0m\u001b[0m\n",
      "\u001b[1;31mNameError\u001b[0m: name 'pred_knn' is not defined"
     ]
    }
   ],
   "source": [
    "from sklearn.metrics import confusion_matrix\n",
    "cm2 = confusion_matrix(y_test,pred_knn, labels=[0,1])\n",
    "cmf = pd.DataFrame(cm2, columns=['Pred 0','Pred 1'], index = ['Act 0','Act 1'])\n",
    "cmf"
   ]
  },
  {
   "cell_type": "code",
   "execution_count": 24,
   "metadata": {},
   "outputs": [
    {
     "data": {
      "text/plain": [
       "{'n_estimators': 100, 'max_features': 'log2', 'criterion': 'gini'}"
      ]
     },
     "execution_count": 24,
     "metadata": {},
     "output_type": "execute_result"
    }
   ],
   "source": [
    "# parameter random forest yg akan dituned\n",
    "criterion = ['gini','entropy']\n",
    "n_estimators = [10, 100, 1000]\n",
    "max_features = ['sqrt', 'log2']\n",
    "\n",
    "param2 = {'criterion':criterion, 'n_estimators':n_estimators, 'max_features':max_features}\n",
    "param2\n",
    "\n",
    "# randomized search cv\n",
    "from sklearn.ensemble import RandomForestClassifier\n",
    "from sklearn.model_selection import RandomizedSearchCV\n",
    "rfc = RandomForestClassifier()\n",
    "rfc_cross = fit_and_evaluate(rfc)\n",
    "modelrf = RandomizedSearchCV(estimator=rfc, param_distributions=param2, cv=5)\n",
    "modelrf.fit(X_train, y_train)\n",
    "modelrf.best_params_"
   ]
  },
  {
   "cell_type": "code",
   "execution_count": 25,
   "metadata": {},
   "outputs": [
    {
     "name": "stdout",
     "output_type": "stream",
     "text": [
      "Random Forest Performance Without Hyperparameter Tuning: Cross Validation Score = 0.9192\n",
      "Random Forest Performance With Hyperparameter Tuning: Cross Validation Score = 0.9192\n"
     ]
    }
   ],
   "source": [
    "print('Random Forest Performance Without Hyperparameter Tuning: Cross Validation Score = %0.4f' % rfc_cross)\n",
    "\n",
    "modelBaruRF = RandomForestClassifier(criterion='gini', n_estimators=100, max_features='log2')\n",
    "modelBaruRF_cross = fit_and_evaluate(modelBaruRF)\n",
    "pred_rf = modelBaruRF.predict(X_test)\n",
    "print('Random Forest Performance With Hyperparameter Tuning: Cross Validation Score = %0.4f' % modelBaruRF_cross)"
   ]
  },
  {
   "cell_type": "code",
   "execution_count": 26,
   "metadata": {},
   "outputs": [
    {
     "name": "stdout",
     "output_type": "stream",
     "text": [
      "bAcc = 0.5\n",
      "Precision+ = 0.9185014565408848\n",
      "Precision- = 0.0\n",
      "Recall+ = 1.0\n",
      "Recall- = 0.0\n",
      "F1 score+ = 0.9575196864296056\n",
      "F1 score- = 0.0\n",
      "ROC AUC score = 0.5\n"
     ]
    },
    {
     "name": "stderr",
     "output_type": "stream",
     "text": [
      "C:\\ProgramData\\Anaconda3\\lib\\site-packages\\sklearn\\metrics\\_classification.py:1272: UndefinedMetricWarning: Precision is ill-defined and being set to 0.0 due to no predicted samples. Use `zero_division` parameter to control this behavior.\n",
      "  _warn_prf(average, modifier, msg_start, len(result))\n"
     ]
    }
   ],
   "source": [
    "# balanced accuracy\n",
    "from sklearn.metrics import balanced_accuracy_score\n",
    "print('bAcc =', balanced_accuracy_score(y_test, pred_rf))\n",
    "\n",
    "# precision\n",
    "from sklearn.metrics import precision_score\n",
    "print('Precision+ =', precision_score(y_test, pred_rf, pos_label=0))\n",
    "print('Precision- =', precision_score(y_test, pred_rf, pos_label=1))\n",
    "\n",
    "# recall\n",
    "from sklearn.metrics import recall_score\n",
    "print('Recall+ =', recall_score(y_test, pred_rf, pos_label=0))\n",
    "print('Recall- =', recall_score(y_test, pred_rf, pos_label=1))\n",
    "\n",
    "# f1 score\n",
    "from sklearn.metrics import f1_score\n",
    "print('F1 score+ =', f1_score(y_test, pred_rf, pos_label=0))\n",
    "print('F1 score- =', f1_score(y_test, pred_rf, pos_label=1))\n",
    "\n",
    "# roc auc\n",
    "from sklearn.metrics import roc_auc_score\n",
    "print('ROC AUC score =', roc_auc_score(y_test, pred_rf))"
   ]
  },
  {
   "cell_type": "code",
   "execution_count": 28,
   "metadata": {},
   "outputs": [
    {
     "data": {
      "text/html": [
       "<div>\n",
       "<style scoped>\n",
       "    .dataframe tbody tr th:only-of-type {\n",
       "        vertical-align: middle;\n",
       "    }\n",
       "\n",
       "    .dataframe tbody tr th {\n",
       "        vertical-align: top;\n",
       "    }\n",
       "\n",
       "    .dataframe thead th {\n",
       "        text-align: right;\n",
       "    }\n",
       "</style>\n",
       "<table border=\"1\" class=\"dataframe\">\n",
       "  <thead>\n",
       "    <tr style=\"text-align: right;\">\n",
       "      <th></th>\n",
       "      <th>feature</th>\n",
       "      <th>importance</th>\n",
       "    </tr>\n",
       "  </thead>\n",
       "  <tbody>\n",
       "    <tr>\n",
       "      <th>0</th>\n",
       "      <td>DAYS_AGE</td>\n",
       "      <td>0.090205</td>\n",
       "    </tr>\n",
       "    <tr>\n",
       "      <th>1</th>\n",
       "      <td>DAYS_ID_CHANGE</td>\n",
       "      <td>0.089653</td>\n",
       "    </tr>\n",
       "    <tr>\n",
       "      <th>2</th>\n",
       "      <td>DAYS_REGISTRATION</td>\n",
       "      <td>0.088328</td>\n",
       "    </tr>\n",
       "    <tr>\n",
       "      <th>3</th>\n",
       "      <td>ANNUITY</td>\n",
       "      <td>0.081475</td>\n",
       "    </tr>\n",
       "    <tr>\n",
       "      <th>4</th>\n",
       "      <td>DAYS_WORK</td>\n",
       "      <td>0.077693</td>\n",
       "    </tr>\n",
       "    <tr>\n",
       "      <th>5</th>\n",
       "      <td>APPROVED_CREDIT</td>\n",
       "      <td>0.075990</td>\n",
       "    </tr>\n",
       "    <tr>\n",
       "      <th>6</th>\n",
       "      <td>INCOME</td>\n",
       "      <td>0.067055</td>\n",
       "    </tr>\n",
       "    <tr>\n",
       "      <th>7</th>\n",
       "      <td>PRICE</td>\n",
       "      <td>0.063119</td>\n",
       "    </tr>\n",
       "    <tr>\n",
       "      <th>8</th>\n",
       "      <td>HOUR_APPLY</td>\n",
       "      <td>0.057876</td>\n",
       "    </tr>\n",
       "    <tr>\n",
       "      <th>9</th>\n",
       "      <td>NUM_CHILDREN</td>\n",
       "      <td>0.020701</td>\n",
       "    </tr>\n",
       "    <tr>\n",
       "      <th>10</th>\n",
       "      <td>WEEKDAYS_APPLY_TUESDAY</td>\n",
       "      <td>0.011038</td>\n",
       "    </tr>\n",
       "    <tr>\n",
       "      <th>11</th>\n",
       "      <td>WEEKDAYS_APPLY_WEDNESDAY</td>\n",
       "      <td>0.010545</td>\n",
       "    </tr>\n",
       "    <tr>\n",
       "      <th>12</th>\n",
       "      <td>ORGANIZATION_TYPE_Business Entity Type 3</td>\n",
       "      <td>0.010542</td>\n",
       "    </tr>\n",
       "    <tr>\n",
       "      <th>13</th>\n",
       "      <td>WEEKDAYS_APPLY_THURSDAY</td>\n",
       "      <td>0.010327</td>\n",
       "    </tr>\n",
       "    <tr>\n",
       "      <th>14</th>\n",
       "      <td>WEEKDAYS_APPLY_FRIDAY</td>\n",
       "      <td>0.010204</td>\n",
       "    </tr>\n",
       "    <tr>\n",
       "      <th>15</th>\n",
       "      <td>WEEKDAYS_APPLY_MONDAY</td>\n",
       "      <td>0.010052</td>\n",
       "    </tr>\n",
       "    <tr>\n",
       "      <th>16</th>\n",
       "      <td>FAMILY_STATUS_Married</td>\n",
       "      <td>0.009951</td>\n",
       "    </tr>\n",
       "    <tr>\n",
       "      <th>17</th>\n",
       "      <td>ORGANIZATION_TYPE_Self-employed</td>\n",
       "      <td>0.008880</td>\n",
       "    </tr>\n",
       "    <tr>\n",
       "      <th>18</th>\n",
       "      <td>WEEKDAYS_APPLY_SATURDAY</td>\n",
       "      <td>0.008447</td>\n",
       "    </tr>\n",
       "    <tr>\n",
       "      <th>19</th>\n",
       "      <td>INCOME_TYPE_Working</td>\n",
       "      <td>0.008280</td>\n",
       "    </tr>\n",
       "  </tbody>\n",
       "</table>\n",
       "</div>"
      ],
      "text/plain": [
       "                                     feature  importance\n",
       "0                                   DAYS_AGE    0.090205\n",
       "1                             DAYS_ID_CHANGE    0.089653\n",
       "2                          DAYS_REGISTRATION    0.088328\n",
       "3                                    ANNUITY    0.081475\n",
       "4                                  DAYS_WORK    0.077693\n",
       "5                            APPROVED_CREDIT    0.075990\n",
       "6                                     INCOME    0.067055\n",
       "7                                      PRICE    0.063119\n",
       "8                                 HOUR_APPLY    0.057876\n",
       "9                               NUM_CHILDREN    0.020701\n",
       "10                    WEEKDAYS_APPLY_TUESDAY    0.011038\n",
       "11                  WEEKDAYS_APPLY_WEDNESDAY    0.010545\n",
       "12  ORGANIZATION_TYPE_Business Entity Type 3    0.010542\n",
       "13                   WEEKDAYS_APPLY_THURSDAY    0.010327\n",
       "14                     WEEKDAYS_APPLY_FRIDAY    0.010204\n",
       "15                     WEEKDAYS_APPLY_MONDAY    0.010052\n",
       "16                     FAMILY_STATUS_Married    0.009951\n",
       "17           ORGANIZATION_TYPE_Self-employed    0.008880\n",
       "18                   WEEKDAYS_APPLY_SATURDAY    0.008447\n",
       "19                       INCOME_TYPE_Working    0.008280"
      ]
     },
     "execution_count": 28,
     "metadata": {},
     "output_type": "execute_result"
    }
   ],
   "source": [
    "X_train = pd.DataFrame(X_train)\n",
    "features = train_x\n",
    "feature_results = pd.DataFrame({'feature': list(features.columns), 'importance': rfc.feature_importances_})\n",
    "\n",
    "# top most important\n",
    "feature_results = feature_results.sort_values('importance', ascending = False).reset_index(drop=True)\n",
    "\n",
    "feature_results.head(20)"
   ]
  },
  {
   "cell_type": "code",
   "execution_count": 29,
   "metadata": {},
   "outputs": [
    {
     "data": {
      "image/png": "[encoded data removed]",
      "text/plain": [
       "<Figure size 432x288 with 1 Axes>"
      ]
     },
     "metadata": {},
     "output_type": "display_data"
    }
   ],
   "source": [
    "figsize=(12, 10)\n",
    "plt.style.use('fivethirtyeight')\n",
    "\n",
    "# Plot most important features\n",
    "feature_results.loc[:9, :].plot(x = 'feature', y = 'importance', edgecolor = 'k',kind='barh', color = 'darkgreen');\n",
    "plt.xlabel('Relative Importance', size = 20); plt.ylabel('')\n",
    "plt.title('Feature Importances from Random Forest', size = 30);"
   ]
  },
  {
   "cell_type": "code",
   "execution_count": null,
   "metadata": {},
   "outputs": [],
   "source": []
  }
 ],
 "metadata": {
  "kernelspec": {
   "display_name": "Python 3",
   "language": "python",
   "name": "python3"
  },
  "language_info": {
   "codemirror_mode": {
    "name": "ipython",
    "version": 3
   },
   "file_extension": ".py",
   "mimetype": "text/x-python",
   "name": "python",
   "nbconvert_exporter": "python",
   "pygments_lexer": "ipython3",
   "version": "3.7.6"
  }
 },
 "nbformat": 4,
 "nbformat_minor": 4
}
