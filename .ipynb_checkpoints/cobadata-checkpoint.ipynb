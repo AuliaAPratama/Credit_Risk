{
 "cells": [
  {
   "cell_type": "code",
   "execution_count": 1,
   "metadata": {},
   "outputs": [],
   "source": [
    "import pandas as pd\n",
    "import numpy as np\n",
    "import matplotlib.pyplot as plt"
   ]
  },
  {
   "cell_type": "code",
   "execution_count": 2,
   "metadata": {},
   "outputs": [
    {
     "data": {
      "text/html": [
       "<div>\n",
       "<style scoped>\n",
       "    .dataframe tbody tr th:only-of-type {\n",
       "        vertical-align: middle;\n",
       "    }\n",
       "\n",
       "    .dataframe tbody tr th {\n",
       "        vertical-align: top;\n",
       "    }\n",
       "\n",
       "    .dataframe thead th {\n",
       "        text-align: right;\n",
       "    }\n",
       "</style>\n",
       "<table border=\"1\" class=\"dataframe\">\n",
       "  <thead>\n",
       "    <tr style=\"text-align: right;\">\n",
       "      <th></th>\n",
       "      <th>TARGET</th>\n",
       "      <th>CONTRACT_TYPE</th>\n",
       "      <th>GENDER</th>\n",
       "      <th>NUM_CHILDREN</th>\n",
       "      <th>INCOME</th>\n",
       "      <th>APPROVED_CREDIT</th>\n",
       "      <th>ANNUITY</th>\n",
       "      <th>INCOME_TYPE</th>\n",
       "      <th>EDUCATION</th>\n",
       "      <th>FAMILY_STATUS</th>\n",
       "      <th>HOUSING_TYPE</th>\n",
       "      <th>DAYS_AGE</th>\n",
       "      <th>DAYS_WORK</th>\n",
       "      <th>DAYS_REGISTRATION</th>\n",
       "      <th>DAYS_ID_CHANGE</th>\n",
       "      <th>WEEKDAYS_APPLY</th>\n",
       "      <th>HOUR_APPLY</th>\n",
       "      <th>ORGANIZATION_TYPE</th>\n",
       "    </tr>\n",
       "  </thead>\n",
       "  <tbody>\n",
       "    <tr>\n",
       "      <th>0</th>\n",
       "      <td>0</td>\n",
       "      <td>1</td>\n",
       "      <td>0</td>\n",
       "      <td>1</td>\n",
       "      <td>67500.0</td>\n",
       "      <td>202500.0</td>\n",
       "      <td>10125.0</td>\n",
       "      <td>Working</td>\n",
       "      <td>Secondary / secondary special</td>\n",
       "      <td>Married</td>\n",
       "      <td>With parents</td>\n",
       "      <td>11539</td>\n",
       "      <td>921</td>\n",
       "      <td>119</td>\n",
       "      <td>2757</td>\n",
       "      <td>TUESDAY</td>\n",
       "      <td>18</td>\n",
       "      <td>Business Entity Type 3</td>\n",
       "    </tr>\n",
       "    <tr>\n",
       "      <th>1</th>\n",
       "      <td>0</td>\n",
       "      <td>0</td>\n",
       "      <td>0</td>\n",
       "      <td>1</td>\n",
       "      <td>202500.0</td>\n",
       "      <td>976711.5</td>\n",
       "      <td>49869.0</td>\n",
       "      <td>Commercial associate</td>\n",
       "      <td>Secondary / secondary special</td>\n",
       "      <td>Married</td>\n",
       "      <td>House / apartment</td>\n",
       "      <td>15743</td>\n",
       "      <td>4482</td>\n",
       "      <td>1797</td>\n",
       "      <td>2455</td>\n",
       "      <td>TUESDAY</td>\n",
       "      <td>14</td>\n",
       "      <td>Other</td>\n",
       "    </tr>\n",
       "    <tr>\n",
       "      <th>2</th>\n",
       "      <td>0</td>\n",
       "      <td>0</td>\n",
       "      <td>0</td>\n",
       "      <td>0</td>\n",
       "      <td>180000.0</td>\n",
       "      <td>407520.0</td>\n",
       "      <td>25060.5</td>\n",
       "      <td>Pensioner</td>\n",
       "      <td>Secondary / secondary special</td>\n",
       "      <td>Married</td>\n",
       "      <td>House / apartment</td>\n",
       "      <td>20775</td>\n",
       "      <td>18250</td>\n",
       "      <td>8737</td>\n",
       "      <td>4312</td>\n",
       "      <td>THURSDAY</td>\n",
       "      <td>14</td>\n",
       "      <td>NA1</td>\n",
       "    </tr>\n",
       "    <tr>\n",
       "      <th>3</th>\n",
       "      <td>0</td>\n",
       "      <td>0</td>\n",
       "      <td>1</td>\n",
       "      <td>0</td>\n",
       "      <td>225000.0</td>\n",
       "      <td>808650.0</td>\n",
       "      <td>26086.5</td>\n",
       "      <td>State servant</td>\n",
       "      <td>Higher education</td>\n",
       "      <td>Married</td>\n",
       "      <td>House / apartment</td>\n",
       "      <td>20659</td>\n",
       "      <td>10455</td>\n",
       "      <td>4998</td>\n",
       "      <td>4010</td>\n",
       "      <td>WEDNESDAY</td>\n",
       "      <td>10</td>\n",
       "      <td>Culture</td>\n",
       "    </tr>\n",
       "    <tr>\n",
       "      <th>4</th>\n",
       "      <td>0</td>\n",
       "      <td>1</td>\n",
       "      <td>1</td>\n",
       "      <td>0</td>\n",
       "      <td>135000.0</td>\n",
       "      <td>180000.0</td>\n",
       "      <td>9000.0</td>\n",
       "      <td>Commercial associate</td>\n",
       "      <td>Secondary / secondary special</td>\n",
       "      <td>Single / not married</td>\n",
       "      <td>House / apartment</td>\n",
       "      <td>9013</td>\n",
       "      <td>1190</td>\n",
       "      <td>3524</td>\n",
       "      <td>1644</td>\n",
       "      <td>SUNDAY</td>\n",
       "      <td>11</td>\n",
       "      <td>Construction</td>\n",
       "    </tr>\n",
       "  </tbody>\n",
       "</table>\n",
       "</div>"
      ],
      "text/plain": [
       "   TARGET  CONTRACT_TYPE  GENDER  NUM_CHILDREN    INCOME  APPROVED_CREDIT  \\\n",
       "0       0              1       0             1   67500.0         202500.0   \n",
       "1       0              0       0             1  202500.0         976711.5   \n",
       "2       0              0       0             0  180000.0         407520.0   \n",
       "3       0              0       1             0  225000.0         808650.0   \n",
       "4       0              1       1             0  135000.0         180000.0   \n",
       "\n",
       "   ANNUITY           INCOME_TYPE                      EDUCATION  \\\n",
       "0  10125.0               Working  Secondary / secondary special   \n",
       "1  49869.0  Commercial associate  Secondary / secondary special   \n",
       "2  25060.5             Pensioner  Secondary / secondary special   \n",
       "3  26086.5         State servant               Higher education   \n",
       "4   9000.0  Commercial associate  Secondary / secondary special   \n",
       "\n",
       "          FAMILY_STATUS       HOUSING_TYPE  DAYS_AGE  DAYS_WORK  \\\n",
       "0               Married       With parents     11539        921   \n",
       "1               Married  House / apartment     15743       4482   \n",
       "2               Married  House / apartment     20775      18250   \n",
       "3               Married  House / apartment     20659      10455   \n",
       "4  Single / not married  House / apartment      9013       1190   \n",
       "\n",
       "   DAYS_REGISTRATION  DAYS_ID_CHANGE WEEKDAYS_APPLY  HOUR_APPLY  \\\n",
       "0                119            2757        TUESDAY          18   \n",
       "1               1797            2455        TUESDAY          14   \n",
       "2               8737            4312       THURSDAY          14   \n",
       "3               4998            4010      WEDNESDAY          10   \n",
       "4               3524            1644         SUNDAY          11   \n",
       "\n",
       "        ORGANIZATION_TYPE  \n",
       "0  Business Entity Type 3  \n",
       "1                   Other  \n",
       "2                     NA1  \n",
       "3                 Culture  \n",
       "4            Construction  "
      ]
     },
     "execution_count": 2,
     "metadata": {},
     "output_type": "execute_result"
    }
   ],
   "source": [
    "df = pd.read_csv('app_train_new.csv')\n",
    "df1 = pd.read_csv('app_test_new.csv')\n",
    "df.head()"
   ]
  },
  {
   "cell_type": "code",
   "execution_count": 3,
   "metadata": {},
   "outputs": [],
   "source": [
    "# Select the categorical columns\n",
    "catsub1 = df[['INCOME_TYPE','EDUCATION','FAMILY_STATUS','HOUSING_TYPE','WEEKDAYS_APPLY','ORGANIZATION_TYPE']]\n",
    "catsub2 = df1[['INCOME_TYPE','EDUCATION','FAMILY_STATUS','HOUSING_TYPE','WEEKDAYS_APPLY','ORGANIZATION_TYPE']]\n",
    "\n",
    "catsub1 = pd.get_dummies(catsub1)\n",
    "catsub2 = pd.get_dummies(catsub2)\n",
    "\n",
    "df.drop(labels=['INCOME_TYPE','EDUCATION','FAMILY_STATUS','HOUSING_TYPE','WEEKDAYS_APPLY','ORGANIZATION_TYPE'], axis=1, inplace=True)\n",
    "df1.drop(labels=['INCOME_TYPE','EDUCATION','FAMILY_STATUS','HOUSING_TYPE','WEEKDAYS_APPLY','ORGANIZATION_TYPE'], axis=1, inplace=True)\n",
    "\n",
    "df = pd.concat([df, catsub1], axis = 1)\n",
    "df1 = pd.concat([df1, catsub2], axis = 1)"
   ]
  },
  {
   "cell_type": "code",
   "execution_count": 4,
   "metadata": {},
   "outputs": [
    {
     "name": "stdout",
     "output_type": "stream",
     "text": [
      "shape of training data :  (61499, 97)\n",
      "shape of testing data :  (14761, 97)\n"
     ]
    }
   ],
   "source": [
    "# seperate the independent and target variable on training data\n",
    "X_train = df.drop(columns=['TARGET'],axis=1)\n",
    "y_train = df['TARGET']\n",
    "\n",
    "# seperate the independent and target variable on testing data\n",
    "X_test = df1.drop(columns=['TARGET'],axis=1)\n",
    "y_test = df1['TARGET']\n",
    "\n",
    "print('shape of training data : ',X_train.shape)\n",
    "print('shape of testing data : ',X_test.shape)"
   ]
  },
  {
   "cell_type": "code",
   "execution_count": 6,
   "metadata": {},
   "outputs": [
    {
     "name": "stderr",
     "output_type": "stream",
     "text": [
      "C:\\ProgramData\\Anaconda3\\lib\\site-packages\\sklearn\\linear_model\\_logistic.py:940: ConvergenceWarning: lbfgs failed to converge (status=1):\n",
      "STOP: TOTAL NO. of ITERATIONS REACHED LIMIT.\n",
      "\n",
      "Increase the number of iterations (max_iter) or scale the data as shown in:\n",
      "    https://scikit-learn.org/stable/modules/preprocessing.html\n",
      "Please also refer to the documentation for alternative solver options:\n",
      "    https://scikit-learn.org/stable/modules/linear_model.html#logistic-regression\n",
      "  extra_warning_msg=_LOGISTIC_SOLVER_CONVERGENCE_MSG)\n",
      "C:\\ProgramData\\Anaconda3\\lib\\site-packages\\sklearn\\linear_model\\_logistic.py:940: ConvergenceWarning: lbfgs failed to converge (status=1):\n",
      "STOP: TOTAL NO. of ITERATIONS REACHED LIMIT.\n",
      "\n",
      "Increase the number of iterations (max_iter) or scale the data as shown in:\n",
      "    https://scikit-learn.org/stable/modules/preprocessing.html\n",
      "Please also refer to the documentation for alternative solver options:\n",
      "    https://scikit-learn.org/stable/modules/linear_model.html#logistic-regression\n",
      "  extra_warning_msg=_LOGISTIC_SOLVER_CONVERGENCE_MSG)\n"
     ]
    },
    {
     "name": "stdout",
     "output_type": "stream",
     "text": [
      "Logistic Regression Without Hyperparameter Tuning: Cross Validation Score = 91.919\n",
      "Decision Tree Performance Without Hyperparameter Tuning: Cross Validation Score = 84.610\n",
      "Random Forest Performance Without Hyperparameter Tuning: Cross Validation Score = 91.920\n",
      "KNN Performance Without Hyperparameter Tuning: Cross Validation Score = 91.317\n"
     ]
    }
   ],
   "source": [
    "from sklearn.linear_model import LogisticRegression\n",
    "from sklearn.tree import DecisionTreeClassifier\n",
    "from sklearn.ensemble import RandomForestClassifier\n",
    "from sklearn.neighbors import KNeighborsClassifier\n",
    "from sklearn.model_selection import cross_val_score\n",
    "\n",
    "logr = LogisticRegression()\n",
    "logr = logr.fit(X_train,y_train)\n",
    "logr_cross = np.mean(cross_val_score(logr, X_train, y_train, cv=5, scoring='accuracy')*100)\n",
    "print('Logistic Regression Without Hyperparameter Tuning: Cross Validation Score = %0.3f' % logr_cross)\n",
    "\n",
    "decision = DecisionTreeClassifier()\n",
    "decision = decision.fit(X_train,y_train)\n",
    "decision_cross = np.mean(cross_val_score(decision, X_train, y_train, cv=5, scoring='accuracy')*100)\n",
    "print('Decision Tree Performance Without Hyperparameter Tuning: Cross Validation Score = %0.3f' % decision_cross)\n",
    "\n",
    "random = RandomForestClassifier()\n",
    "random = random.fit(X_train,y_train)\n",
    "random_cross = np.mean(cross_val_score(random, X_train, y_train, cv=5, scoring='accuracy')*100)\n",
    "print('Random Forest Performance Without Hyperparameter Tuning: Cross Validation Score = %0.3f' % random_cross)\n",
    "\n",
    "knn = KNeighborsClassifier()\n",
    "knn = knn.fit(X_train,y_train)\n",
    "knn_cross = np.mean(cross_val_score(knn, X_train, y_train, cv=5, scoring='accuracy')*100)\n",
    "print('KNN Performance Without Hyperparameter Tuning: Cross Validation Score = %0.3f' % knn_cross)"
   ]
  },
  {
   "cell_type": "code",
   "execution_count": 13,
   "metadata": {},
   "outputs": [
    {
     "name": "stderr",
     "output_type": "stream",
     "text": [
      "C:\\ProgramData\\Anaconda3\\lib\\site-packages\\sklearn\\linear_model\\_logistic.py:940: ConvergenceWarning: lbfgs failed to converge (status=1):\n",
      "STOP: TOTAL NO. of ITERATIONS REACHED LIMIT.\n",
      "\n",
      "Increase the number of iterations (max_iter) or scale the data as shown in:\n",
      "    https://scikit-learn.org/stable/modules/preprocessing.html\n",
      "Please also refer to the documentation for alternative solver options:\n",
      "    https://scikit-learn.org/stable/modules/linear_model.html#logistic-regression\n",
      "  extra_warning_msg=_LOGISTIC_SOLVER_CONVERGENCE_MSG)\n",
      "C:\\ProgramData\\Anaconda3\\lib\\site-packages\\sklearn\\linear_model\\_logistic.py:940: ConvergenceWarning: lbfgs failed to converge (status=1):\n",
      "STOP: TOTAL NO. of ITERATIONS REACHED LIMIT.\n",
      "\n",
      "Increase the number of iterations (max_iter) or scale the data as shown in:\n",
      "    https://scikit-learn.org/stable/modules/preprocessing.html\n",
      "Please also refer to the documentation for alternative solver options:\n",
      "    https://scikit-learn.org/stable/modules/linear_model.html#logistic-regression\n",
      "  extra_warning_msg=_LOGISTIC_SOLVER_CONVERGENCE_MSG)\n"
     ]
    },
    {
     "data": {
      "image/png": "[encoded data removed]",
      "text/plain": [
       "<Figure size 1152x504 with 1 Axes>"
      ]
     },
     "metadata": {
      "needs_background": "light"
     },
     "output_type": "display_data"
    }
   ],
   "source": [
    "logr_cv = cross_val_score(logr,X_train,y_train,cv=5)*100\n",
    "decision_cv = cross_val_score(decision,X_train,y_train,cv=5)*100\n",
    "random_cv = cross_val_score(random,X_train,y_train,cv=5)*100\n",
    "knn_cv = cross_val_score(knn,X_train,y_train,cv=5)*100\n",
    "\n",
    "plt.figure(figsize=(16,7))\n",
    "plt.title('Cross validation score 5 folds')\n",
    "plt.plot([1,2,3,4,5],logr_cv)\n",
    "plt.plot([1,2,3,4,5],random_cv)\n",
    "plt.plot([1,2,3,4,5],knn_cv)\n",
    "plt.plot([1,2,3,4,5],decision_cv)\n",
    "\n",
    "plt.plot([1,2,3,4,5],logr_cv,'r*')\n",
    "plt.plot([1,2,3,4,5],random_cv,'r*')\n",
    "plt.plot([1,2,3,4,5],knn_cv,'r*')\n",
    "plt.plot([1,2,3,4,5],decision_cv,'r*')\n",
    "\n",
    "plt.legend(['Logistic','Random Forest','KNN','Decision Tree'])\n",
    "plt.xticks(np.arange(1,6))\n",
    "plt.yticks(np.arange(80,95,2))\n",
    "plt.show()"
   ]
  },
  {
   "cell_type": "code",
   "execution_count": 14,
   "metadata": {},
   "outputs": [
    {
     "name": "stderr",
     "output_type": "stream",
     "text": [
      "C:\\ProgramData\\Anaconda3\\lib\\site-packages\\sklearn\\model_selection\\_validation.py:536: FitFailedWarning: Estimator fit failed. The score on this train-test partition for these parameters will be set to nan. Details: \n",
      "ValueError: Solver lbfgs supports only 'l2' or 'none' penalties, got l1 penalty.\n",
      "\n",
      "  FitFailedWarning)\n",
      "C:\\ProgramData\\Anaconda3\\lib\\site-packages\\sklearn\\linear_model\\_logistic.py:1505: UserWarning: Setting penalty='none' will ignore the C and l1_ratio parameters\n",
      "  \"Setting penalty='none' will ignore the C and l1_ratio \"\n",
      "C:\\ProgramData\\Anaconda3\\lib\\site-packages\\sklearn\\utils\\optimize.py:212: ConvergenceWarning: newton-cg failed to converge. Increase the number of iterations.\n",
      "  \"number of iterations.\", ConvergenceWarning)\n",
      "C:\\ProgramData\\Anaconda3\\lib\\site-packages\\sklearn\\linear_model\\_logistic.py:1505: UserWarning: Setting penalty='none' will ignore the C and l1_ratio parameters\n",
      "  \"Setting penalty='none' will ignore the C and l1_ratio \"\n",
      "C:\\ProgramData\\Anaconda3\\lib\\site-packages\\sklearn\\utils\\optimize.py:212: ConvergenceWarning: newton-cg failed to converge. Increase the number of iterations.\n",
      "  \"number of iterations.\", ConvergenceWarning)\n",
      "C:\\ProgramData\\Anaconda3\\lib\\site-packages\\sklearn\\linear_model\\_logistic.py:1505: UserWarning: Setting penalty='none' will ignore the C and l1_ratio parameters\n",
      "  \"Setting penalty='none' will ignore the C and l1_ratio \"\n",
      "C:\\ProgramData\\Anaconda3\\lib\\site-packages\\sklearn\\utils\\optimize.py:212: ConvergenceWarning: newton-cg failed to converge. Increase the number of iterations.\n",
      "  \"number of iterations.\", ConvergenceWarning)\n",
      "C:\\ProgramData\\Anaconda3\\lib\\site-packages\\sklearn\\linear_model\\_logistic.py:1505: UserWarning: Setting penalty='none' will ignore the C and l1_ratio parameters\n",
      "  \"Setting penalty='none' will ignore the C and l1_ratio \"\n",
      "C:\\ProgramData\\Anaconda3\\lib\\site-packages\\sklearn\\utils\\optimize.py:212: ConvergenceWarning: newton-cg failed to converge. Increase the number of iterations.\n",
      "  \"number of iterations.\", ConvergenceWarning)\n",
      "C:\\ProgramData\\Anaconda3\\lib\\site-packages\\sklearn\\linear_model\\_logistic.py:1505: UserWarning: Setting penalty='none' will ignore the C and l1_ratio parameters\n",
      "  \"Setting penalty='none' will ignore the C and l1_ratio \"\n",
      "C:\\ProgramData\\Anaconda3\\lib\\site-packages\\sklearn\\utils\\optimize.py:212: ConvergenceWarning: newton-cg failed to converge. Increase the number of iterations.\n",
      "  \"number of iterations.\", ConvergenceWarning)\n",
      "C:\\ProgramData\\Anaconda3\\lib\\site-packages\\sklearn\\utils\\optimize.py:212: ConvergenceWarning: newton-cg failed to converge. Increase the number of iterations.\n",
      "  \"number of iterations.\", ConvergenceWarning)\n",
      "C:\\ProgramData\\Anaconda3\\lib\\site-packages\\sklearn\\utils\\optimize.py:212: ConvergenceWarning: newton-cg failed to converge. Increase the number of iterations.\n",
      "  \"number of iterations.\", ConvergenceWarning)\n",
      "C:\\ProgramData\\Anaconda3\\lib\\site-packages\\sklearn\\utils\\optimize.py:212: ConvergenceWarning: newton-cg failed to converge. Increase the number of iterations.\n",
      "  \"number of iterations.\", ConvergenceWarning)\n",
      "C:\\ProgramData\\Anaconda3\\lib\\site-packages\\sklearn\\utils\\optimize.py:212: ConvergenceWarning: newton-cg failed to converge. Increase the number of iterations.\n",
      "  \"number of iterations.\", ConvergenceWarning)\n",
      "C:\\ProgramData\\Anaconda3\\lib\\site-packages\\sklearn\\utils\\optimize.py:212: ConvergenceWarning: newton-cg failed to converge. Increase the number of iterations.\n",
      "  \"number of iterations.\", ConvergenceWarning)\n",
      "C:\\ProgramData\\Anaconda3\\lib\\site-packages\\sklearn\\linear_model\\_logistic.py:940: ConvergenceWarning: lbfgs failed to converge (status=1):\n",
      "STOP: TOTAL NO. of ITERATIONS REACHED LIMIT.\n",
      "\n",
      "Increase the number of iterations (max_iter) or scale the data as shown in:\n",
      "    https://scikit-learn.org/stable/modules/preprocessing.html\n",
      "Please also refer to the documentation for alternative solver options:\n",
      "    https://scikit-learn.org/stable/modules/linear_model.html#logistic-regression\n",
      "  extra_warning_msg=_LOGISTIC_SOLVER_CONVERGENCE_MSG)\n",
      "C:\\ProgramData\\Anaconda3\\lib\\site-packages\\sklearn\\linear_model\\_sag.py:330: ConvergenceWarning: The max_iter was reached which means the coef_ did not converge\n",
      "  \"the coef_ did not converge\", ConvergenceWarning)\n",
      "C:\\ProgramData\\Anaconda3\\lib\\site-packages\\sklearn\\linear_model\\_sag.py:330: ConvergenceWarning: The max_iter was reached which means the coef_ did not converge\n",
      "  \"the coef_ did not converge\", ConvergenceWarning)\n",
      "C:\\ProgramData\\Anaconda3\\lib\\site-packages\\sklearn\\linear_model\\_sag.py:330: ConvergenceWarning: The max_iter was reached which means the coef_ did not converge\n",
      "  \"the coef_ did not converge\", ConvergenceWarning)\n",
      "C:\\ProgramData\\Anaconda3\\lib\\site-packages\\sklearn\\linear_model\\_sag.py:330: ConvergenceWarning: The max_iter was reached which means the coef_ did not converge\n",
      "  \"the coef_ did not converge\", ConvergenceWarning)\n",
      "C:\\ProgramData\\Anaconda3\\lib\\site-packages\\sklearn\\linear_model\\_sag.py:330: ConvergenceWarning: The max_iter was reached which means the coef_ did not converge\n",
      "  \"the coef_ did not converge\", ConvergenceWarning)\n",
      "C:\\ProgramData\\Anaconda3\\lib\\site-packages\\sklearn\\linear_model\\_sag.py:330: ConvergenceWarning: The max_iter was reached which means the coef_ did not converge\n",
      "  \"the coef_ did not converge\", ConvergenceWarning)\n",
      "C:\\ProgramData\\Anaconda3\\lib\\site-packages\\sklearn\\linear_model\\_sag.py:330: ConvergenceWarning: The max_iter was reached which means the coef_ did not converge\n",
      "  \"the coef_ did not converge\", ConvergenceWarning)\n",
      "C:\\ProgramData\\Anaconda3\\lib\\site-packages\\sklearn\\linear_model\\_sag.py:330: ConvergenceWarning: The max_iter was reached which means the coef_ did not converge\n",
      "  \"the coef_ did not converge\", ConvergenceWarning)\n",
      "C:\\ProgramData\\Anaconda3\\lib\\site-packages\\sklearn\\linear_model\\_sag.py:330: ConvergenceWarning: The max_iter was reached which means the coef_ did not converge\n",
      "  \"the coef_ did not converge\", ConvergenceWarning)\n",
      "C:\\ProgramData\\Anaconda3\\lib\\site-packages\\sklearn\\linear_model\\_sag.py:330: ConvergenceWarning: The max_iter was reached which means the coef_ did not converge\n",
      "  \"the coef_ did not converge\", ConvergenceWarning)\n",
      "C:\\ProgramData\\Anaconda3\\lib\\site-packages\\sklearn\\linear_model\\_logistic.py:1505: UserWarning: Setting penalty='none' will ignore the C and l1_ratio parameters\n",
      "  \"Setting penalty='none' will ignore the C and l1_ratio \"\n",
      "C:\\ProgramData\\Anaconda3\\lib\\site-packages\\sklearn\\linear_model\\_sag.py:330: ConvergenceWarning: The max_iter was reached which means the coef_ did not converge\n",
      "  \"the coef_ did not converge\", ConvergenceWarning)\n",
      "C:\\ProgramData\\Anaconda3\\lib\\site-packages\\sklearn\\linear_model\\_logistic.py:1505: UserWarning: Setting penalty='none' will ignore the C and l1_ratio parameters\n",
      "  \"Setting penalty='none' will ignore the C and l1_ratio \"\n",
      "C:\\ProgramData\\Anaconda3\\lib\\site-packages\\sklearn\\linear_model\\_sag.py:330: ConvergenceWarning: The max_iter was reached which means the coef_ did not converge\n",
      "  \"the coef_ did not converge\", ConvergenceWarning)\n",
      "C:\\ProgramData\\Anaconda3\\lib\\site-packages\\sklearn\\linear_model\\_logistic.py:1505: UserWarning: Setting penalty='none' will ignore the C and l1_ratio parameters\n",
      "  \"Setting penalty='none' will ignore the C and l1_ratio \"\n",
      "C:\\ProgramData\\Anaconda3\\lib\\site-packages\\sklearn\\linear_model\\_sag.py:330: ConvergenceWarning: The max_iter was reached which means the coef_ did not converge\n",
      "  \"the coef_ did not converge\", ConvergenceWarning)\n",
      "C:\\ProgramData\\Anaconda3\\lib\\site-packages\\sklearn\\linear_model\\_logistic.py:1505: UserWarning: Setting penalty='none' will ignore the C and l1_ratio parameters\n",
      "  \"Setting penalty='none' will ignore the C and l1_ratio \"\n",
      "C:\\ProgramData\\Anaconda3\\lib\\site-packages\\sklearn\\linear_model\\_sag.py:330: ConvergenceWarning: The max_iter was reached which means the coef_ did not converge\n",
      "  \"the coef_ did not converge\", ConvergenceWarning)\n",
      "C:\\ProgramData\\Anaconda3\\lib\\site-packages\\sklearn\\linear_model\\_logistic.py:1505: UserWarning: Setting penalty='none' will ignore the C and l1_ratio parameters\n",
      "  \"Setting penalty='none' will ignore the C and l1_ratio \"\n",
      "C:\\ProgramData\\Anaconda3\\lib\\site-packages\\sklearn\\linear_model\\_sag.py:330: ConvergenceWarning: The max_iter was reached which means the coef_ did not converge\n",
      "  \"the coef_ did not converge\", ConvergenceWarning)\n",
      "C:\\ProgramData\\Anaconda3\\lib\\site-packages\\sklearn\\model_selection\\_validation.py:536: FitFailedWarning: Estimator fit failed. The score on this train-test partition for these parameters will be set to nan. Details: \n",
      "ValueError: Only 'saga' solver supports elasticnet penalty, got solver=liblinear.\n",
      "\n",
      "  FitFailedWarning)\n",
      "C:\\ProgramData\\Anaconda3\\lib\\site-packages\\sklearn\\model_selection\\_validation.py:536: FitFailedWarning: Estimator fit failed. The score on this train-test partition for these parameters will be set to nan. Details: \n",
      "ValueError: l1_ratio must be between 0 and 1; got (l1_ratio=None)\n",
      "\n",
      "  FitFailedWarning)\n",
      "C:\\ProgramData\\Anaconda3\\lib\\site-packages\\sklearn\\linear_model\\_logistic.py:1505: UserWarning: Setting penalty='none' will ignore the C and l1_ratio parameters\n",
      "  \"Setting penalty='none' will ignore the C and l1_ratio \"\n",
      "C:\\ProgramData\\Anaconda3\\lib\\site-packages\\scipy\\optimize\\linesearch.py:466: LineSearchWarning: The line search algorithm did not converge\n",
      "  warn('The line search algorithm did not converge', LineSearchWarning)\n",
      "C:\\ProgramData\\Anaconda3\\lib\\site-packages\\scipy\\optimize\\linesearch.py:314: LineSearchWarning: The line search algorithm did not converge\n",
      "  warn('The line search algorithm did not converge', LineSearchWarning)\n",
      "C:\\ProgramData\\Anaconda3\\lib\\site-packages\\sklearn\\utils\\optimize.py:212: ConvergenceWarning: newton-cg failed to converge. Increase the number of iterations.\n",
      "  \"number of iterations.\", ConvergenceWarning)\n"
     ]
    },
    {
     "data": {
      "text/plain": [
       "{'solver': 'newton-cg', 'penalty': 'none', 'C': 0.1}"
      ]
     },
     "execution_count": 14,
     "metadata": {},
     "output_type": "execute_result"
    }
   ],
   "source": [
    "# parameter logistic regression yg akan dituned\n",
    "penalty = ['l1','l2','elasticnet','none']\n",
    "solver = ['newton-cg', 'lbfgs','liblinear','sag', 'saga']\n",
    "C = [100, 10, 1.0, 0.1, 0.01]\n",
    "\n",
    "param = {'penalty':penalty, 'solver':solver, 'C':C}\n",
    "param\n",
    "\n",
    "# randomized search cv\n",
    "from sklearn.model_selection import RandomizedSearchCV\n",
    "modellr = RandomizedSearchCV(estimator=logr, param_distributions=param, cv=5)\n",
    "modellr.fit(X_train, y_train)\n",
    "modellr.best_params_"
   ]
  },
  {
   "cell_type": "code",
   "execution_count": 15,
   "metadata": {},
   "outputs": [
    {
     "data": {
      "text/plain": [
       "{'n_estimators': 1000, 'max_features': 'log2', 'criterion': 'gini'}"
      ]
     },
     "execution_count": 15,
     "metadata": {},
     "output_type": "execute_result"
    }
   ],
   "source": [
    "# parameter random forest yg akan dituned\n",
    "criterion = ['gini','entropy']\n",
    "n_estimators = [10, 100, 1000]\n",
    "max_features = ['sqrt', 'log2','auto']\n",
    "\n",
    "param2 = {'criterion':criterion, 'n_estimators':n_estimators, 'max_features':max_features}\n",
    "param2\n",
    "\n",
    "# randomized search cv\n",
    "from sklearn.model_selection import RandomizedSearchCV\n",
    "modelrf = RandomizedSearchCV(estimator=random, param_distributions=param2, cv=5)\n",
    "modelrf.fit(X_train, y_train)\n",
    "modelrf.best_params_"
   ]
  },
  {
   "cell_type": "code",
   "execution_count": 17,
   "metadata": {},
   "outputs": [
    {
     "data": {
      "text/plain": [
       "{'splitter': 'random', 'max_depth': 1, 'criterion': 'gini'}"
      ]
     },
     "execution_count": 17,
     "metadata": {},
     "output_type": "execute_result"
    }
   ],
   "source": [
    "# parameter decision tree yg akan dituned\n",
    "criterion = ['gini','entropy']\n",
    "splitter = ['best','random']\n",
    "max_depth = [1,2,3,4,5]\n",
    "\n",
    "param1 = {'criterion':criterion, 'splitter':splitter, 'max_depth':max_depth}\n",
    "param1\n",
    "\n",
    "# randomized search cv\n",
    "from sklearn.model_selection import RandomizedSearchCV\n",
    "modeldt = RandomizedSearchCV(estimator=decision, param_distributions=param1, cv=5)\n",
    "modeldt.fit(X_train, y_train)\n",
    "modeldt.best_params_"
   ]
  },
  {
   "cell_type": "code",
   "execution_count": 18,
   "metadata": {},
   "outputs": [
    {
     "data": {
      "text/plain": [
       "{'weights': 'uniform', 'p': 1, 'n_neighbors': 19, 'metric': 'minkowski'}"
      ]
     },
     "execution_count": 18,
     "metadata": {},
     "output_type": "execute_result"
    }
   ],
   "source": [
    "# parameter knn yg akan dituned\n",
    "n_neighbors = range(1, 21, 2)\n",
    "weights = ['uniform', 'distance']\n",
    "metric = ['euclidean', 'manhattan', 'minkowski']\n",
    "p = [1, 2]\n",
    "\n",
    "param3 = {'n_neighbors':n_neighbors, 'weights':weights, 'metric':metric, 'p':p}\n",
    "param3\n",
    "\n",
    "# randomized search cv\n",
    "from sklearn.model_selection import RandomizedSearchCV\n",
    "modelknn = RandomizedSearchCV(estimator=knn, param_distributions=param3, cv=5)\n",
    "modelknn.fit(X_train, y_train)\n",
    "modelknn.best_params_"
   ]
  },
  {
   "cell_type": "code",
   "execution_count": 19,
   "metadata": {},
   "outputs": [
    {
     "name": "stderr",
     "output_type": "stream",
     "text": [
      "C:\\ProgramData\\Anaconda3\\lib\\site-packages\\sklearn\\linear_model\\_logistic.py:1505: UserWarning: Setting penalty='none' will ignore the C and l1_ratio parameters\n",
      "  \"Setting penalty='none' will ignore the C and l1_ratio \"\n",
      "C:\\ProgramData\\Anaconda3\\lib\\site-packages\\scipy\\optimize\\linesearch.py:466: LineSearchWarning: The line search algorithm did not converge\n",
      "  warn('The line search algorithm did not converge', LineSearchWarning)\n",
      "C:\\ProgramData\\Anaconda3\\lib\\site-packages\\scipy\\optimize\\linesearch.py:314: LineSearchWarning: The line search algorithm did not converge\n",
      "  warn('The line search algorithm did not converge', LineSearchWarning)\n"
     ]
    },
    {
     "name": "stdout",
     "output_type": "stream",
     "text": [
      "Logistic regression accuracy with default parameter 91.85 %\n",
      "Logistic regression accuracy with hyperparameter tuning 91.85 %\n",
      "After tuning, accuracy improve around 0.0 %\n"
     ]
    },
    {
     "name": "stderr",
     "output_type": "stream",
     "text": [
      "C:\\ProgramData\\Anaconda3\\lib\\site-packages\\sklearn\\utils\\optimize.py:212: ConvergenceWarning: newton-cg failed to converge. Increase the number of iterations.\n",
      "  \"number of iterations.\", ConvergenceWarning)\n"
     ]
    }
   ],
   "source": [
    "logr_new = LogisticRegression(solver='newton-cg', penalty='none', C=0.1)\n",
    "logr_new = logr_new.fit(X_train,y_train)\n",
    "\n",
    "logr_acc1 = round(logr.score(X_test,y_test)*100,2)\n",
    "logr_acc2 = round(logr_new.score(X_test,y_test)*100,2)\n",
    "\n",
    "print('Logistic regression accuracy with default parameter',logr_acc1,'%')\n",
    "print('Logistic regression accuracy with hyperparameter tuning',logr_acc2,'%')\n",
    "print('After tuning, accuracy improve around',round(logr_acc2 - logr_acc1,2),'%')"
   ]
  },
  {
   "cell_type": "code",
   "execution_count": 20,
   "metadata": {},
   "outputs": [
    {
     "name": "stdout",
     "output_type": "stream",
     "text": [
      "Random Forest accuracy with default parameter 91.85 %\n",
      "Random Forest accuracy with hyperparameter tuning 91.85 %\n",
      "After tuning, accuracy improve around 0.0 %\n"
     ]
    }
   ],
   "source": [
    "random_new = RandomForestClassifier(criterion='gini', max_features='log2', n_estimators=1000)\n",
    "random_new = random_new.fit(X_train,y_train)\n",
    "\n",
    "random_acc1 = round(random.score(X_test,y_test)*100,2)\n",
    "random_acc2 = round(random_new.score(X_test,y_test)*100,2)\n",
    "\n",
    "print('Random Forest accuracy with default parameter',random_acc1,'%')\n",
    "print('Random Forest accuracy with hyperparameter tuning',random_acc2,'%')\n",
    "print('After tuning, accuracy improve around',round(random_acc2 - random_acc1,2),'%')"
   ]
  },
  {
   "cell_type": "code",
   "execution_count": 21,
   "metadata": {},
   "outputs": [
    {
     "name": "stdout",
     "output_type": "stream",
     "text": [
      "Decision Tree accuracy with default parameter 84.43 %\n",
      "Decision Tree accuracy with hyperparameter tuning 91.85 %\n",
      "After tuning, accuracy improve around 7.42 %\n"
     ]
    }
   ],
   "source": [
    "decision_new = DecisionTreeClassifier(splitter= 'random', max_depth= 1, criterion= 'gini')\n",
    "decision_new = decision_new.fit(X_train,y_train)\n",
    "\n",
    "decision_acc1 = round(decision.score(X_test,y_test)*100,2)\n",
    "decision_acc2 = round(decision_new.score(X_test,y_test)*100,2)\n",
    "\n",
    "print('Decision Tree accuracy with default parameter',decision_acc1,'%')\n",
    "print('Decision Tree accuracy with hyperparameter tuning',decision_acc2,'%')\n",
    "print('After tuning, accuracy improve around',round(decision_acc2 - decision_acc1,2),'%')"
   ]
  },
  {
   "cell_type": "code",
   "execution_count": 22,
   "metadata": {},
   "outputs": [
    {
     "name": "stdout",
     "output_type": "stream",
     "text": [
      "KNN accuracy with default parameter 91.26 %\n",
      "KNN accuracy with hyperparameter tuning 91.85 %\n",
      "After tuning, accuracy improve around 0.59 %\n"
     ]
    }
   ],
   "source": [
    "knn_new = KNeighborsClassifier(weights='uniform', p=1, n_neighbors=19, metric='minkowski')\n",
    "knn_new = knn_new.fit(X_train,y_train)\n",
    "\n",
    "knn_acc1 = round(knn.score(X_test,y_test)*100,2)\n",
    "knn_acc2 = round(knn_new.score(X_test,y_test)*100,2)\n",
    "\n",
    "print('KNN accuracy with default parameter',knn_acc1,'%')\n",
    "print('KNN accuracy with hyperparameter tuning',knn_acc2,'%')\n",
    "print('After tuning, accuracy improve around',round(knn_acc2 - knn_acc1,2),'%')"
   ]
  },
  {
   "cell_type": "code",
   "execution_count": 25,
   "metadata": {},
   "outputs": [
    {
     "name": "stderr",
     "output_type": "stream",
     "text": [
      "C:\\ProgramData\\Anaconda3\\lib\\site-packages\\sklearn\\linear_model\\_logistic.py:1505: UserWarning: Setting penalty='none' will ignore the C and l1_ratio parameters\n",
      "  \"Setting penalty='none' will ignore the C and l1_ratio \"\n",
      "C:\\ProgramData\\Anaconda3\\lib\\site-packages\\sklearn\\utils\\optimize.py:212: ConvergenceWarning: newton-cg failed to converge. Increase the number of iterations.\n",
      "  \"number of iterations.\", ConvergenceWarning)\n",
      "C:\\ProgramData\\Anaconda3\\lib\\site-packages\\sklearn\\linear_model\\_logistic.py:1505: UserWarning: Setting penalty='none' will ignore the C and l1_ratio parameters\n",
      "  \"Setting penalty='none' will ignore the C and l1_ratio \"\n",
      "C:\\ProgramData\\Anaconda3\\lib\\site-packages\\sklearn\\utils\\optimize.py:212: ConvergenceWarning: newton-cg failed to converge. Increase the number of iterations.\n",
      "  \"number of iterations.\", ConvergenceWarning)\n",
      "C:\\ProgramData\\Anaconda3\\lib\\site-packages\\sklearn\\linear_model\\_logistic.py:1505: UserWarning: Setting penalty='none' will ignore the C and l1_ratio parameters\n",
      "  \"Setting penalty='none' will ignore the C and l1_ratio \"\n",
      "C:\\ProgramData\\Anaconda3\\lib\\site-packages\\sklearn\\utils\\optimize.py:212: ConvergenceWarning: newton-cg failed to converge. Increase the number of iterations.\n",
      "  \"number of iterations.\", ConvergenceWarning)\n",
      "C:\\ProgramData\\Anaconda3\\lib\\site-packages\\sklearn\\linear_model\\_logistic.py:1505: UserWarning: Setting penalty='none' will ignore the C and l1_ratio parameters\n",
      "  \"Setting penalty='none' will ignore the C and l1_ratio \"\n",
      "C:\\ProgramData\\Anaconda3\\lib\\site-packages\\sklearn\\utils\\optimize.py:212: ConvergenceWarning: newton-cg failed to converge. Increase the number of iterations.\n",
      "  \"number of iterations.\", ConvergenceWarning)\n",
      "C:\\ProgramData\\Anaconda3\\lib\\site-packages\\sklearn\\linear_model\\_logistic.py:1505: UserWarning: Setting penalty='none' will ignore the C and l1_ratio parameters\n",
      "  \"Setting penalty='none' will ignore the C and l1_ratio \"\n",
      "C:\\ProgramData\\Anaconda3\\lib\\site-packages\\sklearn\\utils\\optimize.py:212: ConvergenceWarning: newton-cg failed to converge. Increase the number of iterations.\n",
      "  \"number of iterations.\", ConvergenceWarning)\n"
     ]
    },
    {
     "data": {
      "image/png": "[encoded data removed]",
      "text/plain": [
       "<Figure size 1152x504 with 1 Axes>"
      ]
     },
     "metadata": {
      "needs_background": "light"
     },
     "output_type": "display_data"
    }
   ],
   "source": [
    "logr_cvnew = cross_val_score(logr_new,X_train,y_train,cv=5)*100\n",
    "decision_cvnew = cross_val_score(decision_new,X_train,y_train,cv=5)*100\n",
    "random_cvnew = cross_val_score(random_new,X_train,y_train,cv=5)*100\n",
    "knn_cvnew = cross_val_score(knn_new,X_train,y_train,cv=5)*100\n",
    "\n",
    "plt.figure(figsize=(16,7))\n",
    "plt.title('Cross validation score 5 folds')\n",
    "plt.plot([1,2,3,4,5],logr_cvnew)\n",
    "plt.plot([1,2,3,4,5],random_cvnew)\n",
    "plt.plot([1,2,3,4,5],knn_cvnew)\n",
    "\n",
    "plt.plot([1,2,3,4,5],decision_cvnew)\n",
    "plt.plot([1,2,3,4,5],logr_cvnew,'r*')\n",
    "plt.plot([1,2,3,4,5],random_cvnew,'r*')\n",
    "plt.plot([1,2,3,4,5],knn_cvnew,'r*')\n",
    "plt.plot([1,2,3,4,5],decision_cvnew,'r*')\n",
    "\n",
    "plt.legend(['Logistic','Random Forest','KNN','Decision Tree'])\n",
    "plt.xticks(np.arange(1,6))\n",
    "plt.yticks(np.arange(85,95,1))\n",
    "plt.show()"
   ]
  },
  {
   "cell_type": "code",
   "execution_count": 28,
   "metadata": {},
   "outputs": [
    {
     "name": "stdout",
     "output_type": "stream",
     "text": [
      "Logistic Regression accuracy with hyperparameter tuning and cross validation 91.92019392150992 %\n",
      "Decision Tree accuracy with hyperparameter tuning and cross validation 91.92019392150992 %\n",
      "Random Forest accuracy with hyperparameter tuning and cross validation 91.92019392150992 %\n",
      "KNN accuracy with hyperparameter tuning and cross validation 91.91531587272944 %\n"
     ]
    }
   ],
   "source": [
    "logr_cvnew1 = logr_cvnew.mean()\n",
    "print('Logistic Regression accuracy with hyperparameter tuning and cross validation',logr_cvnew1,'%')\n",
    "\n",
    "decision_cvnew1 = decision_cvnew.mean()\n",
    "print('Decision Tree accuracy with hyperparameter tuning and cross validation',decision_cvnew1,'%')\n",
    "\n",
    "random_cvnew1 = random_cvnew.mean()\n",
    "print('Random Forest accuracy with hyperparameter tuning and cross validation',random_cvnew1,'%')\n",
    "\n",
    "knn_cvnew1 = knn_cvnew.mean()\n",
    "print('KNN accuracy with hyperparameter tuning and cross validation',knn_cvnew1,'%')"
   ]
  },
  {
   "cell_type": "code",
   "execution_count": 29,
   "metadata": {},
   "outputs": [
    {
     "name": "stderr",
     "output_type": "stream",
     "text": [
      "C:\\ProgramData\\Anaconda3\\lib\\site-packages\\sklearn\\metrics\\_classification.py:1272: UndefinedMetricWarning: Precision and F-score are ill-defined and being set to 0.0 in labels with no predicted samples. Use `zero_division` parameter to control this behavior.\n",
      "  _warn_prf(average, modifier, msg_start, len(result))\n",
      "C:\\ProgramData\\Anaconda3\\lib\\site-packages\\sklearn\\metrics\\_classification.py:1272: UndefinedMetricWarning: Precision and F-score are ill-defined and being set to 0.0 in labels with no predicted samples. Use `zero_division` parameter to control this behavior.\n",
      "  _warn_prf(average, modifier, msg_start, len(result))\n"
     ]
    },
    {
     "name": "stdout",
     "output_type": "stream",
     "text": [
      "Classification report Logistic Regression:\n",
      "               precision    recall  f1-score   support\n",
      "\n",
      "           0       0.92      1.00      0.96     13558\n",
      "           1       0.00      0.00      0.00      1203\n",
      "\n",
      "    accuracy                           0.92     14761\n",
      "   macro avg       0.46      0.50      0.48     14761\n",
      "weighted avg       0.84      0.92      0.88     14761\n",
      "\n",
      "Classification report Decision Tree classifier:\n",
      "               precision    recall  f1-score   support\n",
      "\n",
      "           0       0.92      1.00      0.96     13558\n",
      "           1       0.00      0.00      0.00      1203\n",
      "\n",
      "    accuracy                           0.92     14761\n",
      "   macro avg       0.46      0.50      0.48     14761\n",
      "weighted avg       0.84      0.92      0.88     14761\n",
      "\n"
     ]
    },
    {
     "name": "stderr",
     "output_type": "stream",
     "text": [
      "C:\\ProgramData\\Anaconda3\\lib\\site-packages\\sklearn\\metrics\\_classification.py:1272: UndefinedMetricWarning: Precision and F-score are ill-defined and being set to 0.0 in labels with no predicted samples. Use `zero_division` parameter to control this behavior.\n",
      "  _warn_prf(average, modifier, msg_start, len(result))\n"
     ]
    },
    {
     "name": "stdout",
     "output_type": "stream",
     "text": [
      "Classification report Random Forest classifier:\n",
      "               precision    recall  f1-score   support\n",
      "\n",
      "           0       0.92      1.00      0.96     13558\n",
      "           1       0.00      0.00      0.00      1203\n",
      "\n",
      "    accuracy                           0.92     14761\n",
      "   macro avg       0.46      0.50      0.48     14761\n",
      "weighted avg       0.84      0.92      0.88     14761\n",
      "\n",
      "Classification report KNN classifier:\n",
      "               precision    recall  f1-score   support\n",
      "\n",
      "           0       0.92      1.00      0.96     13558\n",
      "           1       0.00      0.00      0.00      1203\n",
      "\n",
      "    accuracy                           0.92     14761\n",
      "   macro avg       0.46      0.50      0.48     14761\n",
      "weighted avg       0.84      0.92      0.88     14761\n",
      "\n"
     ]
    },
    {
     "name": "stderr",
     "output_type": "stream",
     "text": [
      "C:\\ProgramData\\Anaconda3\\lib\\site-packages\\sklearn\\metrics\\_classification.py:1272: UndefinedMetricWarning: Precision and F-score are ill-defined and being set to 0.0 in labels with no predicted samples. Use `zero_division` parameter to control this behavior.\n",
      "  _warn_prf(average, modifier, msg_start, len(result))\n"
     ]
    }
   ],
   "source": [
    "# from sklearn.linear_model import LogisticRegression\n",
    "# from sklearn.tree import DecisionTreeClassifier\n",
    "# from sklearn.ensemble import RandomForestClassifier\n",
    "# from sklearn.neighbors import KNeighborsClassifier\n",
    "\n",
    "# knn_new = KNeighborsClassifier(weights='uniform', p=1, n_neighbors=19, metric='minkowski')\n",
    "# knn_new = knn_new.fit(X_train,y_train)\n",
    "# decision_new = DecisionTreeClassifier(splitter= 'random', max_depth= 1, criterion= 'gini')\n",
    "# decision_new = decision_new.fit(X_train,y_train)\n",
    "# random_new = RandomForestClassifier(criterion='gini', max_features='log2', n_estimators=1000)\n",
    "# random_new = random_new.fit(X_train,y_train)\n",
    "# logr_new = LogisticRegression(solver='newton-cg', penalty='none', C=0.1)\n",
    "# logr_new = logr_new.fit(X_train,y_train)\n",
    "\n",
    "from sklearn.metrics import classification_report\n",
    "print('Classification report Logistic Regression:\\n',classification_report(y_test,logr_new.predict(X_test)))\n",
    "print('Classification report Decision Tree classifier:\\n',classification_report(y_test,decision_new.predict(X_test)))\n",
    "print('Classification report Random Forest classifier:\\n',classification_report(y_test,random_new.predict(X_test)))\n",
    "print('Classification report KNN classifier:\\n',classification_report(y_test,knn_new.predict(X_test)))"
   ]
  },
  {
   "cell_type": "markdown",
   "metadata": {},
   "source": [
    "#### Logistic Regression Confusion Matrix"
   ]
  },
  {
   "cell_type": "code",
   "execution_count": 30,
   "metadata": {},
   "outputs": [
    {
     "name": "stdout",
     "output_type": "stream",
     "text": [
      "True negative: 13558\n",
      "False positive: 0\n",
      "False negative: 1203\n",
      "True positive: 0\n"
     ]
    }
   ],
   "source": [
    "from sklearn.metrics import confusion_matrix\n",
    "tn_lr, fp_lr, fn_lr, tp_lr = confusion_matrix(y_test,logr_new.predict(X_test)).ravel()\n",
    "print('True negative:', tn_lr)\n",
    "print('False positive:', fp_lr)\n",
    "print('False negative:', fn_lr)\n",
    "print('True positive:', tp_lr)"
   ]
  },
  {
   "cell_type": "code",
   "execution_count": 31,
   "metadata": {},
   "outputs": [
    {
     "data": {
      "image/png": "[encoded data removed]",
      "text/plain": [
       "<Figure size 432x288 with 2 Axes>"
      ]
     },
     "metadata": {
      "needs_background": "light"
     },
     "output_type": "display_data"
    }
   ],
   "source": [
    "from sklearn.metrics import plot_confusion_matrix\n",
    "plot_confusion_matrix(logr_new,X_test,y_test,values_format='0.0f')\n",
    "plt.show()"
   ]
  },
  {
   "cell_type": "code",
   "execution_count": 32,
   "metadata": {},
   "outputs": [
    {
     "name": "stdout",
     "output_type": "stream",
     "text": [
      "Logistic Regression Accuracy: 0.9185014565408848\n"
     ]
    }
   ],
   "source": [
    "print('Logistic Regression Accuracy:', (tp_lr + tn_lr) / (tp_lr + tn_lr + fp_lr + fn_lr) )"
   ]
  },
  {
   "cell_type": "markdown",
   "metadata": {},
   "source": [
    "#### Decision Tree Confusion Matrix"
   ]
  },
  {
   "cell_type": "code",
   "execution_count": 33,
   "metadata": {},
   "outputs": [
    {
     "name": "stdout",
     "output_type": "stream",
     "text": [
      "True negative: 13558\n",
      "False positive: 0\n",
      "False negative: 1203\n",
      "True positive: 0\n"
     ]
    }
   ],
   "source": [
    "tn_dt, fp_dt, fn_dt, tp_dt = confusion_matrix(y_test,decision_new.predict(X_test)).ravel()\n",
    "print('True negative:', tn_dt)\n",
    "print('False positive:', fp_dt)\n",
    "print('False negative:', fn_dt)\n",
    "print('True positive:', tp_dt)"
   ]
  },
  {
   "cell_type": "code",
   "execution_count": 34,
   "metadata": {},
   "outputs": [
    {
     "data": {
      "image/png": "[encoded data removed]",
      "text/plain": [
       "<Figure size 432x288 with 2 Axes>"
      ]
     },
     "metadata": {
      "needs_background": "light"
     },
     "output_type": "display_data"
    }
   ],
   "source": [
    "plot_confusion_matrix(decision_new,X_test,y_test,values_format='0.0f')\n",
    "plt.show()"
   ]
  },
  {
   "cell_type": "code",
   "execution_count": 35,
   "metadata": {},
   "outputs": [
    {
     "name": "stdout",
     "output_type": "stream",
     "text": [
      "Decision Tree Accuracy: 0.9185014565408848\n"
     ]
    }
   ],
   "source": [
    "print('Decision Tree Accuracy:', (tp_dt + tn_dt) / (tp_dt + tn_dt + fp_dt + fn_dt) )"
   ]
  },
  {
   "cell_type": "markdown",
   "metadata": {},
   "source": [
    "#### Random Forest Confusion Matrix"
   ]
  },
  {
   "cell_type": "code",
   "execution_count": 36,
   "metadata": {},
   "outputs": [
    {
     "name": "stdout",
     "output_type": "stream",
     "text": [
      "True negative: 13558\n",
      "False positive: 0\n",
      "False negative: 1203\n",
      "True positive: 0\n"
     ]
    }
   ],
   "source": [
    "tn_rf, fp_rf, fn_rf, tp_rf = confusion_matrix(y_test,random_new.predict(X_test)).ravel()\n",
    "print('True negative:', tn_rf)\n",
    "print('False positive:', fp_rf)\n",
    "print('False negative:', fn_rf)\n",
    "print('True positive:', tp_rf)"
   ]
  },
  {
   "cell_type": "code",
   "execution_count": 37,
   "metadata": {},
   "outputs": [
    {
     "data": {
      "image/png": "[encoded data removed]",
      "text/plain": [
       "<Figure size 432x288 with 2 Axes>"
      ]
     },
     "metadata": {
      "needs_background": "light"
     },
     "output_type": "display_data"
    }
   ],
   "source": [
    "plot_confusion_matrix(random_new,X_test,y_test,values_format='0.0f')\n",
    "plt.show()"
   ]
  },
  {
   "cell_type": "code",
   "execution_count": 38,
   "metadata": {},
   "outputs": [
    {
     "name": "stdout",
     "output_type": "stream",
     "text": [
      "Random Forest Accuracy: 0.9185014565408848\n"
     ]
    }
   ],
   "source": [
    "print('Random Forest Accuracy:', (tp_rf + tn_rf) / (tp_rf + tn_rf + fp_rf + fn_rf) )"
   ]
  },
  {
   "cell_type": "markdown",
   "metadata": {},
   "source": [
    "#### KNN Confusion Matrix"
   ]
  },
  {
   "cell_type": "code",
   "execution_count": 39,
   "metadata": {},
   "outputs": [
    {
     "name": "stdout",
     "output_type": "stream",
     "text": [
      "True negative: 13558\n",
      "False positive: 0\n",
      "False negative: 1203\n",
      "True positive: 0\n"
     ]
    }
   ],
   "source": [
    "tn_knn, fp_knn, fn_knn, tp_knn = confusion_matrix(y_test,knn_new.predict(X_test)).ravel()\n",
    "print('True negative:', tn_knn)\n",
    "print('False positive:', fp_knn)\n",
    "print('False negative:', fn_knn)\n",
    "print('True positive:', tp_knn)"
   ]
  },
  {
   "cell_type": "code",
   "execution_count": 40,
   "metadata": {},
   "outputs": [
    {
     "data": {
      "image/png": "[encoded data removed]",
      "text/plain": [
       "<Figure size 432x288 with 2 Axes>"
      ]
     },
     "metadata": {
      "needs_background": "light"
     },
     "output_type": "display_data"
    }
   ],
   "source": [
    "plot_confusion_matrix(knn_new,X_test,y_test,values_format='0.0f')\n",
    "plt.show()"
   ]
  },
  {
   "cell_type": "code",
   "execution_count": 41,
   "metadata": {},
   "outputs": [
    {
     "name": "stdout",
     "output_type": "stream",
     "text": [
      "KNN Accuracy: 0.9185014565408848\n"
     ]
    }
   ],
   "source": [
    "print('KNN Accuracy:', (tp_knn + tn_knn) / (tp_knn + tn_knn + fp_knn + fn_knn) )"
   ]
  },
  {
   "cell_type": "markdown",
   "metadata": {},
   "source": [
    "#### Adjusting the logistic regression classification threshold"
   ]
  },
  {
   "cell_type": "code",
   "execution_count": 42,
   "metadata": {},
   "outputs": [],
   "source": [
    "# from sklearn.linear_model import LogisticRegression\n",
    "# from sklearn.tree import DecisionTreeClassifier\n",
    "# from sklearn.ensemble import RandomForestClassifier\n",
    "# from sklearn.neighbors import KNeighborsClassifier\n",
    "\n",
    "# knn_new = KNeighborsClassifier(weights='uniform', p=1, n_neighbors=19, metric='minkowski')\n",
    "# knn_new = knn_new.fit(X_train,y_train)\n",
    "# decision_new = DecisionTreeClassifier(splitter= 'random', max_depth= 1, criterion= 'gini')\n",
    "# decision_new = decision_new.fit(X_train,y_train)\n",
    "# random_new = RandomForestClassifier(criterion='gini', max_features='log2', n_estimators=1000)\n",
    "# random_new = random_new.fit(X_train,y_train)\n",
    "# logr_new = LogisticRegression(solver='newton-cg', penalty='none', C=0.1)\n",
    "# logr_new = logr_new.fit(X_train,y_train)\n",
    "\n",
    "lr_pred = logr_new.predict(X_test)\n",
    "dt_pred = decision_new.predict(X_test)\n",
    "rf_pred = random_new.predict(X_test)\n",
    "knn_pred = knn_new.predict(X_test)"
   ]
  },
  {
   "cell_type": "code",
   "execution_count": 43,
   "metadata": {},
   "outputs": [
    {
     "name": "stdout",
     "output_type": "stream",
     "text": [
      "[[13558     0]\n",
      " [ 1203     0]]\n"
     ]
    }
   ],
   "source": [
    "from sklearn import metrics\n",
    "print(metrics.confusion_matrix(y_test, lr_pred))"
   ]
  },
  {
   "cell_type": "code",
   "execution_count": 44,
   "metadata": {},
   "outputs": [
    {
     "data": {
      "text/plain": [
       "array([0, 0, 0, 0, 0, 0, 0, 0, 0, 0], dtype=int64)"
      ]
     },
     "execution_count": 44,
     "metadata": {},
     "output_type": "execute_result"
    }
   ],
   "source": [
    "lr_pred[0:10]"
   ]
  },
  {
   "cell_type": "code",
   "execution_count": 45,
   "metadata": {},
   "outputs": [
    {
     "data": {
      "text/plain": [
       "array([[0.86349082, 0.13650918],\n",
       "       [0.97124353, 0.02875647],\n",
       "       [0.92511936, 0.07488064],\n",
       "       [0.86156369, 0.13843631],\n",
       "       [0.89446406, 0.10553594],\n",
       "       [0.85088374, 0.14911626],\n",
       "       [0.951017  , 0.048983  ],\n",
       "       [0.94066457, 0.05933543],\n",
       "       [0.95626931, 0.04373069],\n",
       "       [0.87857546, 0.12142454]])"
      ]
     },
     "execution_count": 45,
     "metadata": {},
     "output_type": "execute_result"
    }
   ],
   "source": [
    "lr_pred_prob = logr_new.predict_proba(X_test)\n",
    "lr_pred_prob[0:10]"
   ]
  },
  {
   "cell_type": "code",
   "execution_count": 46,
   "metadata": {},
   "outputs": [
    {
     "data": {
      "text/plain": [
       "array([0.13650918, 0.02875647, 0.07488064, 0.13843631, 0.10553594,\n",
       "       0.14911626, 0.048983  , 0.05933543, 0.04373069, 0.12142454])"
      ]
     },
     "execution_count": 46,
     "metadata": {},
     "output_type": "execute_result"
    }
   ],
   "source": [
    "lr_pred_prob[0:10,1]"
   ]
  },
  {
   "cell_type": "code",
   "execution_count": 47,
   "metadata": {},
   "outputs": [
    {
     "name": "stdout",
     "output_type": "stream",
     "text": [
      "[0.13650918 0.02875647 0.07488064 ... 0.03970044 0.03961775 0.13820604]\n"
     ]
    }
   ],
   "source": [
    "lr_pred_prob1 = lr_pred_prob[:, 1]\n",
    "print(lr_pred_prob1)"
   ]
  },
  {
   "cell_type": "code",
   "execution_count": 48,
   "metadata": {},
   "outputs": [
    {
     "data": {
      "text/plain": [
       "Text(0, 0.5, 'Frequency')"
      ]
     },
     "execution_count": 48,
     "metadata": {},
     "output_type": "execute_result"
    },
    {
     "data": {
      "image/png": "[encoded data removed]",
      "text/plain": [
       "<Figure size 432x288 with 1 Axes>"
      ]
     },
     "metadata": {
      "needs_background": "light"
     },
     "output_type": "display_data"
    }
   ],
   "source": [
    "plt.hist(lr_pred_prob1, bins=8)\n",
    "\n",
    "# x-axis limit from 0 to 1\n",
    "plt.xlim(0,1)\n",
    "plt.title('Histogram of predicted loan')\n",
    "plt.xlabel('Predicted probability of loan')\n",
    "plt.ylabel('Frequency')"
   ]
  },
  {
   "cell_type": "code",
   "execution_count": 49,
   "metadata": {},
   "outputs": [],
   "source": [
    "# predict late payment if the predicted probability is greater than 0.1\n",
    "lr_pred_prob2 = logr_new.predict_proba(X_test)\n",
    "\n",
    "from sklearn.preprocessing import binarize\n",
    "lr_pred1 = binarize(lr_pred_prob2, 0.125)[0:,1]"
   ]
  },
  {
   "cell_type": "code",
   "execution_count": 50,
   "metadata": {},
   "outputs": [
    {
     "data": {
      "text/plain": [
       "array([0.13650918, 0.02875647, 0.07488064, 0.13843631, 0.10553594,\n",
       "       0.14911626, 0.048983  , 0.05933543, 0.04373069, 0.12142454])"
      ]
     },
     "execution_count": 50,
     "metadata": {},
     "output_type": "execute_result"
    }
   ],
   "source": [
    "lr_pred_prob3 = lr_pred_prob2[0:10,1]\n",
    "lr_pred_prob3"
   ]
  },
  {
   "cell_type": "code",
   "execution_count": 51,
   "metadata": {},
   "outputs": [
    {
     "data": {
      "text/plain": [
       "array([1., 0., 0., 1., 0., 1., 0., 0., 0., 0.])"
      ]
     },
     "execution_count": 51,
     "metadata": {},
     "output_type": "execute_result"
    }
   ],
   "source": [
    "lr_pred1[0:10]"
   ]
  },
  {
   "cell_type": "code",
   "execution_count": 52,
   "metadata": {},
   "outputs": [
    {
     "name": "stdout",
     "output_type": "stream",
     "text": [
      "[[11665  1893]\n",
      " [  835   368]]\n"
     ]
    }
   ],
   "source": [
    "from sklearn import metrics\n",
    "print(metrics.confusion_matrix(y_test, lr_pred1))"
   ]
  },
  {
   "cell_type": "code",
   "execution_count": 53,
   "metadata": {},
   "outputs": [
    {
     "name": "stdout",
     "output_type": "stream",
     "text": [
      "Logistic Regression Accuracy: 0.8151886728541426\n"
     ]
    }
   ],
   "source": [
    "print('Logistic Regression Accuracy:', (11665 + 368) / (11665 + 368 + 1893 + 835) )"
   ]
  },
  {
   "cell_type": "markdown",
   "metadata": {},
   "source": [
    "#### Adjusting the decision tree classification threshold"
   ]
  },
  {
   "cell_type": "code",
   "execution_count": 54,
   "metadata": {},
   "outputs": [
    {
     "name": "stdout",
     "output_type": "stream",
     "text": [
      "[[13558     0]\n",
      " [ 1203     0]]\n"
     ]
    }
   ],
   "source": [
    "from sklearn import metrics\n",
    "print(metrics.confusion_matrix(y_test, dt_pred))"
   ]
  },
  {
   "cell_type": "code",
   "execution_count": 55,
   "metadata": {},
   "outputs": [
    {
     "name": "stdout",
     "output_type": "stream",
     "text": [
      "[[13558     0]\n",
      " [ 1203     0]]\n"
     ]
    }
   ],
   "source": [
    "# predict late payment if the predicted probability is greater than 0.1\n",
    "dt_pred_prob = decision_new.predict_proba(X_test)\n",
    "\n",
    "from sklearn.preprocessing import binarize\n",
    "dt_pred1 = binarize(dt_pred_prob, 0.125)[0:,1]\n",
    "\n",
    "from sklearn import metrics\n",
    "print(metrics.confusion_matrix(y_test, dt_pred1))"
   ]
  },
  {
   "cell_type": "code",
   "execution_count": 56,
   "metadata": {},
   "outputs": [
    {
     "name": "stdout",
     "output_type": "stream",
     "text": [
      "Decision Tree Accuracy: 0.9185014565408848\n"
     ]
    }
   ],
   "source": [
    "print('Decision Tree Accuracy:', (13558 + 0) / (13558 + 0 + 1203 + 0) )"
   ]
  },
  {
   "cell_type": "markdown",
   "metadata": {},
   "source": [
    "#### Adjusting the Random Forest classification threshold"
   ]
  },
  {
   "cell_type": "code",
   "execution_count": 57,
   "metadata": {},
   "outputs": [
    {
     "name": "stdout",
     "output_type": "stream",
     "text": [
      "[[13558     0]\n",
      " [ 1203     0]]\n"
     ]
    }
   ],
   "source": [
    "from sklearn import metrics\n",
    "print(metrics.confusion_matrix(y_test, rf_pred))"
   ]
  },
  {
   "cell_type": "code",
   "execution_count": 58,
   "metadata": {},
   "outputs": [
    {
     "name": "stdout",
     "output_type": "stream",
     "text": [
      "[[11114  2444]\n",
      " [  797   406]]\n"
     ]
    }
   ],
   "source": [
    "# predict late payment if the predicted probability is greater than 0.1\n",
    "rf_pred_prob = random_new.predict_proba(X_test)\n",
    "\n",
    "from sklearn.preprocessing import binarize\n",
    "rf_pred1 = binarize(rf_pred_prob, 0.125)[0:,1]\n",
    "\n",
    "from sklearn import metrics\n",
    "print(metrics.confusion_matrix(y_test, rf_pred1))"
   ]
  },
  {
   "cell_type": "code",
   "execution_count": 59,
   "metadata": {},
   "outputs": [
    {
     "name": "stdout",
     "output_type": "stream",
     "text": [
      "Random Forest Accuracy: 0.7804349298827993\n"
     ]
    }
   ],
   "source": [
    "print('Random Forest Accuracy:', (11114 + 406) / (11114 + 2444 + 797 + 406) )"
   ]
  },
  {
   "cell_type": "markdown",
   "metadata": {},
   "source": [
    "#### Adjusting the KNN classification threshold"
   ]
  },
  {
   "cell_type": "code",
   "execution_count": 60,
   "metadata": {},
   "outputs": [
    {
     "name": "stdout",
     "output_type": "stream",
     "text": [
      "[[13558     0]\n",
      " [ 1203     0]]\n"
     ]
    }
   ],
   "source": [
    "from sklearn import metrics\n",
    "print(metrics.confusion_matrix(y_test, knn_pred))"
   ]
  },
  {
   "cell_type": "code",
   "execution_count": 61,
   "metadata": {},
   "outputs": [
    {
     "name": "stdout",
     "output_type": "stream",
     "text": [
      "[[10696  2862]\n",
      " [  841   362]]\n"
     ]
    }
   ],
   "source": [
    "# predict late payment if the predicted probability is greater than 0.1\n",
    "knn_pred_prob = knn_new.predict_proba(X_test)\n",
    "\n",
    "from sklearn.preprocessing import binarize\n",
    "knn_pred1 = binarize(knn_pred_prob, 0.125)[0:,1]\n",
    "\n",
    "from sklearn import metrics\n",
    "print(metrics.confusion_matrix(y_test, knn_pred1))"
   ]
  },
  {
   "cell_type": "code",
   "execution_count": 62,
   "metadata": {},
   "outputs": [
    {
     "name": "stdout",
     "output_type": "stream",
     "text": [
      "KNN accuracy: 0.7491362373822912\n"
     ]
    }
   ],
   "source": [
    "print('KNN accuracy:', (10696 + 362) / (10696 + 362 + 2862 + 841) )"
   ]
  },
  {
   "cell_type": "code",
   "execution_count": 63,
   "metadata": {},
   "outputs": [
    {
     "name": "stdout",
     "output_type": "stream",
     "text": [
      "Classification report Logistic Regression:\n",
      "               precision    recall  f1-score   support\n",
      "\n",
      "           0       0.93      0.86      0.90     13558\n",
      "           1       0.16      0.31      0.21      1203\n",
      "\n",
      "    accuracy                           0.82     14761\n",
      "   macro avg       0.55      0.58      0.55     14761\n",
      "weighted avg       0.87      0.82      0.84     14761\n",
      "\n",
      "Classification report Decision Tree classifier:\n",
      "               precision    recall  f1-score   support\n",
      "\n",
      "           0       0.92      1.00      0.96     13558\n",
      "           1       0.00      0.00      0.00      1203\n",
      "\n",
      "    accuracy                           0.92     14761\n",
      "   macro avg       0.46      0.50      0.48     14761\n",
      "weighted avg       0.84      0.92      0.88     14761\n",
      "\n",
      "Classification report Random Forest classifier:\n",
      "               precision    recall  f1-score   support\n",
      "\n",
      "           0       0.93      0.82      0.87     13558\n",
      "           1       0.14      0.34      0.20      1203\n",
      "\n",
      "    accuracy                           0.78     14761\n",
      "   macro avg       0.54      0.58      0.54     14761\n",
      "weighted avg       0.87      0.78      0.82     14761\n",
      "\n",
      "Classification report KNN classifier:\n",
      "               precision    recall  f1-score   support\n",
      "\n",
      "           0       0.93      0.79      0.85     13558\n",
      "           1       0.11      0.30      0.16      1203\n",
      "\n",
      "    accuracy                           0.75     14761\n",
      "   macro avg       0.52      0.54      0.51     14761\n",
      "weighted avg       0.86      0.75      0.80     14761\n",
      "\n"
     ]
    },
    {
     "name": "stderr",
     "output_type": "stream",
     "text": [
      "C:\\ProgramData\\Anaconda3\\lib\\site-packages\\sklearn\\metrics\\_classification.py:1272: UndefinedMetricWarning: Precision and F-score are ill-defined and being set to 0.0 in labels with no predicted samples. Use `zero_division` parameter to control this behavior.\n",
      "  _warn_prf(average, modifier, msg_start, len(result))\n"
     ]
    }
   ],
   "source": [
    "from sklearn.metrics import classification_report\n",
    "print('Classification report Logistic Regression:\\n',classification_report(y_test,lr_pred1))\n",
    "print('Classification report Decision Tree classifier:\\n',classification_report(y_test,dt_pred1))\n",
    "print('Classification report Random Forest classifier:\\n',classification_report(y_test,rf_pred1))\n",
    "print('Classification report KNN classifier:\\n',classification_report(y_test,knn_pred1))"
   ]
  },
  {
   "cell_type": "markdown",
   "metadata": {},
   "source": [
    "#### Precision(+) : kalau prediksi = 1, seberapa sering benar?\n",
    "#### Precision(-) : kalau prediksi = 0, seberapa sering benar?"
   ]
  },
  {
   "cell_type": "code",
   "execution_count": 64,
   "metadata": {},
   "outputs": [
    {
     "name": "stdout",
     "output_type": "stream",
     "text": [
      "Logistic Regression Precision+ = 0.0\n",
      "Logistic Regression Precision- = 0.9185014565408848\n",
      "Logistic Regression Precision+ = 0.16275984077841663\n",
      "Logistic Regression Precision- = 0.9332\n",
      "\n",
      "Decision Tree Precision+ = 0.0\n",
      "Decision Tree Precision- = 0.9185014565408848\n",
      "Decision Tree Precision+ = 0.0\n",
      "Decision Tree Precision- = 0.9185014565408848\n",
      "\n",
      "Random Forest Precision+ = 0.0\n",
      "Random Forest Precision- = 0.9185014565408848\n",
      "Random Forest Precision+ = 0.1424561403508772\n",
      "Random Forest Precision- = 0.9330870623793133\n",
      "\n",
      "KNN Precision+ = 0.0\n",
      "KNN Precision- = 0.9185014565408848\n",
      "KNN Precision+ = 0.11228287841191067\n",
      "KNN Precision- = 0.927104099852648\n"
     ]
    },
    {
     "name": "stderr",
     "output_type": "stream",
     "text": [
      "C:\\ProgramData\\Anaconda3\\lib\\site-packages\\sklearn\\metrics\\_classification.py:1272: UndefinedMetricWarning: Precision is ill-defined and being set to 0.0 due to no predicted samples. Use `zero_division` parameter to control this behavior.\n",
      "  _warn_prf(average, modifier, msg_start, len(result))\n"
     ]
    }
   ],
   "source": [
    "# precision\n",
    "from sklearn.metrics import precision_score\n",
    "print('Logistic Regression Precision+ =', precision_score(y_test, lr_pred, pos_label=1))\n",
    "print('Logistic Regression Precision- =', precision_score(y_test, lr_pred, pos_label=0))\n",
    "print('Logistic Regression Precision+ =', precision_score(y_test, lr_pred1, pos_label=1))\n",
    "print('Logistic Regression Precision- =', precision_score(y_test, lr_pred1, pos_label=0))\n",
    "# print('Logistic Regression Precision(+):', tp_lr/ (tp_lr + fp_lr))\n",
    "# print('Logistic Regression Precision(-):', tn_lr/ (tn_lr + fn_lr))\n",
    "\n",
    "print('\\nDecision Tree Precision+ =', precision_score(y_test, dt_pred, pos_label=1))\n",
    "print('Decision Tree Precision- =', precision_score(y_test, dt_pred, pos_label=0))\n",
    "print('Decision Tree Precision+ =', precision_score(y_test, dt_pred1, pos_label=1))\n",
    "print('Decision Tree Precision- =', precision_score(y_test, dt_pred1, pos_label=0))\n",
    "# print('Decision Tree Precision(+):', tp_dt/ (tp_dt + fp_dt))\n",
    "# print('Decision Tree Precision(-):', tn_dt/ (tn_dt + fn_dt))\n",
    "\n",
    "print('\\nRandom Forest Precision+ =', precision_score(y_test, rf_pred, pos_label=1))\n",
    "print('Random Forest Precision- =', precision_score(y_test, rf_pred, pos_label=0))\n",
    "print('Random Forest Precision+ =', precision_score(y_test, rf_pred1, pos_label=1))\n",
    "print('Random Forest Precision- =', precision_score(y_test, rf_pred1, pos_label=0))\n",
    "# print('Random Forest Precision(+):', tp_rf/ (tp_rf + fp_rf))\n",
    "# print('Random Forest Precision(-):', tn_rf/ (tn_rf + fn_rf))\n",
    "\n",
    "print('\\nKNN Precision+ =', precision_score(y_test, knn_pred, pos_label=1))\n",
    "print('KNN Precision- =', precision_score(y_test, knn_pred, pos_label=0))\n",
    "print('KNN Precision+ =', precision_score(y_test, knn_pred1, pos_label=1))\n",
    "print('KNN Precision- =', precision_score(y_test, knn_pred1, pos_label=0))\n",
    "# print('KNN Precision(+):', tp_knn/ (tp_knn + fp_knn))\n",
    "# print('KNN Precision(-):', tn_knn/ (tn_knn + fn_knn))"
   ]
  },
  {
   "cell_type": "code",
   "execution_count": 65,
   "metadata": {},
   "outputs": [
    {
     "data": {
      "image/png": "[encoded data removed]",
      "text/plain": [
       "<Figure size 864x360 with 1 Axes>"
      ]
     },
     "metadata": {
      "needs_background": "light"
     },
     "output_type": "display_data"
    }
   ],
   "source": [
    "lr_preplus = precision_score(y_test, lr_pred1, pos_label=1)\n",
    "lr_premin = precision_score(y_test, lr_pred1, pos_label=0)\n",
    "dt_preplus = precision_score(y_test, dt_pred1, pos_label=1)\n",
    "dt_premin = precision_score(y_test, dt_pred1, pos_label=0)\n",
    "rf_preplus = precision_score(y_test, rf_pred1, pos_label=1)\n",
    "rf_premin = precision_score(y_test, rf_pred1, pos_label=0)\n",
    "knn_preplus = precision_score(y_test, knn_pred1, pos_label=1)\n",
    "knn_premin = precision_score(y_test, knn_pred1, pos_label=0)\n",
    "\n",
    "plt.figure(figsize=(12,5))\n",
    "plt.title('Precision score')\n",
    "plt.plot(['Logistic','Decision Tree','Random Forest','KNN'],[lr_preplus, dt_preplus, rf_preplus,knn_preplus])\n",
    "plt.plot(['Logistic','Decision Tree','Random Forest','KNN'],[lr_premin, dt_premin, rf_premin, knn_premin])\n",
    "plt.legend(['Late Payment','Ontime Payment'])\n",
    "plt.plot([lr_preplus, dt_preplus, rf_preplus, knn_preplus],'r*')\n",
    "plt.plot([lr_premin, dt_premin, rf_premin, knn_premin],'r*')\n",
    "plt.yticks(np.arange(0,1.2,0.2))\n",
    "plt.show()"
   ]
  },
  {
   "cell_type": "markdown",
   "metadata": {},
   "source": [
    "#### Recall(+) / TP Rate / Sensitivity : kalau actual = 1, seberapa sering model prediksi = 1?\n",
    "#### Recall(-) / TN Rate / Specificity / Selectifity/ : kalau actual = 0, seberapa sering model prediksi = 0?"
   ]
  },
  {
   "cell_type": "code",
   "execution_count": 66,
   "metadata": {},
   "outputs": [
    {
     "name": "stdout",
     "output_type": "stream",
     "text": [
      "Logistic Regression Recall+ = 0.0\n",
      "Logistic Regression Recall- = 1.0\n",
      "Logistic Regression Recall+ = 0.3059019118869493\n",
      "Logistic Regression Recall- = 0.8603776368195899\n",
      "\n",
      "Decision Tree Recall+ = 0.0\n",
      "Decision Tree Recall- = 1.0\n",
      "Decision Tree Recall+ = 0.0\n",
      "Decision Tree Recall- = 1.0\n",
      "\n",
      "Random Forest Recall+ = 0.0\n",
      "Random Forest Recall- = 1.0\n",
      "Random Forest Recall+ = 0.33748960931005817\n",
      "Random Forest Recall- = 0.8197374243988789\n",
      "\n",
      "KNN Recall+ = 0.0\n",
      "KNN Recall- = 1.0\n",
      "KNN Recall+ = 0.30091438071487947\n",
      "KNN Recall- = 0.7889069184245464\n"
     ]
    }
   ],
   "source": [
    "# recall\n",
    "from sklearn.metrics import recall_score\n",
    "print('Logistic Regression Recall+ =', recall_score(y_test, lr_pred, pos_label=1))\n",
    "print('Logistic Regression Recall- =', recall_score(y_test, lr_pred, pos_label=0))\n",
    "print('Logistic Regression Recall+ =', recall_score(y_test, lr_pred1, pos_label=1))\n",
    "print('Logistic Regression Recall- =', recall_score(y_test, lr_pred1, pos_label=0))\n",
    "# print('Logistic Regression Recall(+):', tp_lr/ (tp_lr + fn_lr))\n",
    "# print('Logistic Regression Recall(-):', tn_lr/(tn_lr + fp_lr))\n",
    "\n",
    "print('\\nDecision Tree Recall+ =', recall_score(y_test,dt_pred, pos_label=1))\n",
    "print('Decision Tree Recall- =', recall_score(y_test, dt_pred, pos_label=0))\n",
    "print('Decision Tree Recall+ =', recall_score(y_test, dt_pred1, pos_label=1))\n",
    "print('Decision Tree Recall- =', recall_score(y_test, dt_pred1, pos_label=0))\n",
    "# print('Decision Tree Recall(+):', tp_dt/ (tp_dt + fn_dt))\n",
    "# print('Decision Tree Recall(-):', tn_dt/(tn_dt + fp_dt))\n",
    "\n",
    "print('\\nRandom Forest Recall+ =', recall_score(y_test, rf_pred, pos_label=1))\n",
    "print('Random Forest Recall- =', recall_score(y_test, rf_pred, pos_label=0))\n",
    "print('Random Forest Recall+ =', recall_score(y_test, rf_pred1, pos_label=1))\n",
    "print('Random Forest Recall- =', recall_score(y_test, rf_pred1, pos_label=0))\n",
    "# print('Random Forest Recall(+):', tp_rf/ (tp_rf + fn_rf))\n",
    "# print('Random Forest Recall(-):', tn_rf/(tn_rf + fp_rf))\n",
    "\n",
    "print('\\nKNN Recall+ =', recall_score(y_test, knn_pred, pos_label=1))\n",
    "print('KNN Recall- =', recall_score(y_test, knn_pred, pos_label=0))\n",
    "print('KNN Recall+ =', recall_score(y_test, knn_pred1, pos_label=1))\n",
    "print('KNN Recall- =', recall_score(y_test, knn_pred1, pos_label=0))\n",
    "# print('KNN Recall(+):', tp_knn/ (tp_knn + fn_knn))\n",
    "# print('KNN Recall(-):', tn_knn/(tn_knn + fp_knn))"
   ]
  },
  {
   "cell_type": "code",
   "execution_count": 67,
   "metadata": {},
   "outputs": [
    {
     "data": {
      "image/png": "[encoded data removed]",
      "text/plain": [
       "<Figure size 864x360 with 1 Axes>"
      ]
     },
     "metadata": {
      "needs_background": "light"
     },
     "output_type": "display_data"
    }
   ],
   "source": [
    "lr_rplus = recall_score(y_test, lr_pred1, pos_label=1)\n",
    "lr_rmin = recall_score(y_test, lr_pred1, pos_label=0)\n",
    "dt_rplus = recall_score(y_test, dt_pred1, pos_label=1)\n",
    "dt_rmin = recall_score(y_test, dt_pred1, pos_label=0)\n",
    "rf_rplus = recall_score(y_test, rf_pred1, pos_label=1)\n",
    "rf_rmin = recall_score(y_test, rf_pred1, pos_label=0)\n",
    "knn_rplus = recall_score(y_test, knn_pred1, pos_label=1)\n",
    "knn_rmin = recall_score(y_test, knn_pred1, pos_label=0)\n",
    "\n",
    "plt.figure(figsize=(12,5))\n",
    "plt.title('Recall score')\n",
    "plt.plot(['Logistic','Decision Tree','Random Forest','KNN'],[lr_rplus, dt_rplus, rf_rplus,knn_rplus])\n",
    "plt.plot(['Logistic','Decision Tree','Random Forest','KNN'],[lr_rmin, dt_rmin, rf_rmin, knn_rmin])\n",
    "plt.legend(['Late Payment','Ontime Payment'])\n",
    "plt.plot([lr_rplus, dt_rplus, rf_rplus, knn_rplus],'b^')\n",
    "plt.plot([lr_rmin, dt_rmin, rf_rmin, knn_rmin],'b^')\n",
    "plt.yticks(np.arange(0,1.2,0.2))\n",
    "plt.show()"
   ]
  },
  {
   "cell_type": "markdown",
   "metadata": {},
   "source": [
    "#### F1 Score(+) : rata2 harmoni precision(+) & recall(+)\n",
    "#### F1 Score(-) : rata2 harmoni precision(-) & recall(-)"
   ]
  },
  {
   "cell_type": "code",
   "execution_count": 68,
   "metadata": {},
   "outputs": [
    {
     "name": "stdout",
     "output_type": "stream",
     "text": [
      "Logistic Regression F1 score+ = 0.0\n",
      "Logistic Regression F1 score- = 0.9575196864296056\n",
      "Logistic Regression F1 score+ = 0.2124711316397229\n",
      "Logistic Regression F1 score- = 0.8953104612786861\n",
      "\n",
      "Decision Tree F1 score+ = 0.0\n",
      "Decision Tree F1 score- = 0.9575196864296056\n",
      "Decision Tree F1 score+ = 0.0\n",
      "Decision Tree F1 score- = 0.9575196864296056\n",
      "\n",
      "Random Forest F1 score+ = 0.0\n",
      "Random Forest F1 score- = 0.9575196864296056\n",
      "Random Forest F1 score+ = 0.20034542314335058\n",
      "Random Forest F1 score- = 0.8727472613765754\n",
      "\n",
      "KNN F1 score+ = 0.0\n",
      "KNN F1 score- = 0.9575196864296056\n",
      "KNN F1 score+ = 0.16354190196521345\n",
      "KNN F1 score- = 0.8524407252440726\n"
     ]
    }
   ],
   "source": [
    "# f1 score\n",
    "from sklearn.metrics import f1_score\n",
    "print('Logistic Regression F1 score+ =', f1_score(y_test, lr_pred, pos_label=1))\n",
    "print('Logistic Regression F1 score- =', f1_score(y_test, lr_pred, pos_label=0))\n",
    "print('Logistic Regression F1 score+ =', f1_score(y_test, lr_pred1, pos_label=1))\n",
    "print('Logistic Regression F1 score- =', f1_score(y_test, lr_pred1, pos_label=0))\n",
    "# print('Logistic Regression F1 Score(+):', 2 * (((tp_lr / (tp_lr+fp_lr))*(tp_lr/(tp_lr+fn_lr))) / ((tp_lr/(tp_lr+fp_lr)) + ((tp_lr/ (tp_lr+fn_lr))))))\n",
    "# print('Logistic Regression F1 Score(-):', 2 * (((tn_lr / (tn_lr+fn_lr))*(tn_lr/(tn_lr+fp_lr))) / ((tn_lr/(tn_lr+fn_lr)) + ((tn_lr/ (tn_lr+fp_lr))))))\n",
    "\n",
    "print('\\nDecision Tree F1 score+ =', f1_score(y_test, dt_pred, pos_label=1))\n",
    "print('Decision Tree F1 score- =', f1_score(y_test, dt_pred, pos_label=0))\n",
    "print('Decision Tree F1 score+ =', f1_score(y_test, dt_pred1, pos_label=1))\n",
    "print('Decision Tree F1 score- =', f1_score(y_test, dt_pred1, pos_label=0))\n",
    "# print('Decision Tree F1 Score(+):', 2 * (((tp_dt / (tp_dt+fp_dt))*(tp_dt/(tp_dt+fn_dt))) / ((tp_dt/(tp_dt+fp_dt)) + ((tp_dt/ (tp_dt+fn_dt))))))\n",
    "# print('Decision Tree F1 Score(-):', 2 * (((tn_dt / (tn_dt+fn_dt))*(tn_dt/(tn_dt+fp_dt))) / ((tn_dt/(tn_dt+fn_dt)) + ((tn_dt/ (tn_dt+fp_dt))))))\n",
    "\n",
    "print('\\nRandom Forest F1 score+ =', f1_score(y_test, rf_pred, pos_label=1))\n",
    "print('Random Forest F1 score- =', f1_score(y_test, rf_pred, pos_label=0))\n",
    "print('Random Forest F1 score+ =', f1_score(y_test, rf_pred1, pos_label=1))\n",
    "print('Random Forest F1 score- =', f1_score(y_test, rf_pred1, pos_label=0))\n",
    "# print('Random Forest F1 Score(+):', 2 * (((tp_rf / (tp_rf+fp_rf))*(tp_rf/(tp_rf+fn_rf))) / ((tp_rf/(tp_rf+fp_rf)) + ((tp_rf/ (tp_rf+fn_rf))))))\n",
    "# print('Random Forest F1 Score(-):', 2 * (((tn_rf / (tn_rf+fn_rf))*(tn_rf/(tn_rf+fp_rf))) / ((tn_rf/(tn_rf+fn_rf)) + ((tn_rf/ (tn_rf+fp_rf))))))\n",
    "\n",
    "print('\\nKNN F1 score+ =', f1_score(y_test, knn_pred, pos_label=1))\n",
    "print('KNN F1 score- =', f1_score(y_test, knn_pred, pos_label=0))\n",
    "print('KNN F1 score+ =', f1_score(y_test, knn_pred1, pos_label=1))\n",
    "print('KNN F1 score- =', f1_score(y_test, knn_pred1, pos_label=0))\n",
    "# print('KNN F1 Score(+):', 2 * (((tp_knn / (tp_knn+fp_knn))*(tp_knn/(tp_knn+fn_knn))) / ((tp_knn/(tp_knn+fp_knn)) + ((tp_knn/ (tp_knn+fn_knn))))))\n",
    "# print('KNN F1 Score(-):', 2 * (((tn_knn / (tn_knn+fn_knn))*(tn_knn/(tn_knn+fp_knn))) / ((tn_knn/(tn_knn+fn_knn)) + ((tn_knn/ (tn_knn+fp_knn))))))"
   ]
  },
  {
   "cell_type": "code",
   "execution_count": 69,
   "metadata": {},
   "outputs": [
    {
     "data": {
      "image/png": "[encoded data removed]",
      "text/plain": [
       "<Figure size 864x360 with 1 Axes>"
      ]
     },
     "metadata": {
      "needs_background": "light"
     },
     "output_type": "display_data"
    }
   ],
   "source": [
    "lr_f1plus = f1_score(y_test, lr_pred1, pos_label=1)\n",
    "lr_f1min = f1_score(y_test, lr_pred1, pos_label=0)\n",
    "dt_f1plus = f1_score(y_test, dt_pred1, pos_label=1)\n",
    "dt_f1min = f1_score(y_test, dt_pred1, pos_label=0)\n",
    "rf_f1plus = f1_score(y_test, rf_pred1, pos_label=1)\n",
    "rf_f1min = f1_score(y_test, rf_pred1, pos_label=0)\n",
    "knn_f1plus = f1_score(y_test, knn_pred1, pos_label=1)\n",
    "knn_f1min = f1_score(y_test, knn_pred1, pos_label=0)\n",
    "\n",
    "plt.figure(figsize=(12,5))\n",
    "plt.title('F1 score')\n",
    "plt.plot(['Logistic','Decision Tree','Random Forest','KNN'],[lr_f1plus, dt_f1plus, rf_f1plus,knn_f1plus])\n",
    "plt.plot(['Logistic','Decision Tree','Random Forest','KNN'],[lr_f1min, dt_f1min, rf_f1min, knn_f1min])\n",
    "plt.legend(['Late Payment','Ontime Payment'])\n",
    "plt.plot([lr_f1plus, dt_f1plus, rf_f1plus, knn_f1plus],'y*')\n",
    "plt.plot([lr_f1min, dt_f1min, rf_f1min, knn_f1min],'y*')\n",
    "plt.yticks(np.arange(0,1.2,0.2))\n",
    "plt.show()"
   ]
  },
  {
   "cell_type": "markdown",
   "metadata": {},
   "source": [
    "#### Balanced Accuracy : akurasi penjumlahan recall(+) dan recall(-) / 2"
   ]
  },
  {
   "cell_type": "code",
   "execution_count": 70,
   "metadata": {},
   "outputs": [
    {
     "name": "stdout",
     "output_type": "stream",
     "text": [
      "Logistic Regression BACC = 0.5\n",
      "Logistic Regression BACC = 0.5831397743532696\n",
      "\n",
      "Decision Tree BACC = 0.5\n",
      "Decision Tree BACC = 0.5\n",
      "\n",
      "Random Forest BACC = 0.5\n",
      "Random Forest BACC = 0.5786135168544685\n",
      "\n",
      "KNN BACC = 0.5\n",
      "KNN BACC = 0.5449106495697129\n"
     ]
    }
   ],
   "source": [
    "# balanced accuracy\n",
    "from sklearn.metrics import balanced_accuracy_score\n",
    "print('Logistic Regression BACC =', balanced_accuracy_score(y_test, lr_pred))\n",
    "print('Logistic Regression BACC =', balanced_accuracy_score(y_test, lr_pred1))\n",
    "# print('Logistic Regression BACC:', ((tp_lr/(tp_lr+fn_lr)) + (tn_lr/ (fp_lr+tn_lr))) / 2)\n",
    "\n",
    "print('\\nDecision Tree BACC =', balanced_accuracy_score(y_test, dt_pred))\n",
    "print('Decision Tree BACC =', balanced_accuracy_score(y_test, dt_pred1))\n",
    "# print('Decision Tree BACC:', ((tp_dt/(tp_dt+fn_dt)) + (tn_dt/ (fp_dt+tn_dt))) / 2)\n",
    "\n",
    "print('\\nRandom Forest BACC =', balanced_accuracy_score(y_test, rf_pred))\n",
    "print('Random Forest BACC =', balanced_accuracy_score(y_test, rf_pred1))\n",
    "# print('Random Forest BACC:', ((tp_rf/(tp_rf+fn_rf)) + (tn_rf/ (fp_rf+tn_rf))) / 2)\n",
    "\n",
    "print('\\nKNN BACC =', balanced_accuracy_score(y_test, knn_pred))\n",
    "print('KNN BACC =', balanced_accuracy_score(y_test, knn_pred1))\n",
    "# print('KNN BACC:', ((tp_knn/(tp_knn+fn_knn)) + (tn_knn/ (fp_knn+tn_knn))) / 2)"
   ]
  },
  {
   "cell_type": "markdown",
   "metadata": {},
   "source": [
    "#### ROC AUC Score"
   ]
  },
  {
   "cell_type": "code",
   "execution_count": 82,
   "metadata": {},
   "outputs": [
    {
     "name": "stdout",
     "output_type": "stream",
     "text": [
      "Logistic Regression score = 0.6358346892271706\n",
      "Decision Tree score = 0.5511216733698037\n",
      "Random Forest score = 0.6223408325329176\n",
      "KNN score = 0.5600915410740493\n"
     ]
    }
   ],
   "source": [
    "print('Logistic Regression score =',metrics.roc_auc_score(y_test, lr_pred_prob[:,1]))\n",
    "print('Decision Tree score =',metrics.roc_auc_score(y_test, dt_pred_prob[:,1]))\n",
    "print('Random Forest score =',metrics.roc_auc_score(y_test, rf_pred_prob[:,1]))\n",
    "print('KNN score =',metrics.roc_auc_score(y_test, knn_pred_prob[:,1]))"
   ]
  },
  {
   "cell_type": "code",
   "execution_count": 83,
   "metadata": {},
   "outputs": [
    {
     "data": {
      "image/png": "[encoded data removed]",
      "text/plain": [
       "<Figure size 1296x720 with 4 Axes>"
      ]
     },
     "metadata": {
      "needs_background": "light"
     },
     "output_type": "display_data"
    }
   ],
   "source": [
    "plt.figure(figsize=(18,10))\n",
    "\n",
    "plt.subplot(221)\n",
    "fpr, tpr, thresholds = metrics.roc_curve(y_test, lr_pred_prob[:,1])\n",
    "plt.plot(fpr, tpr)\n",
    "plt.xlim([0.0, 1.0])\n",
    "plt.ylim([0.0, 1.0])\n",
    "plt.title('ROC curve for Logistic Regression')\n",
    "plt.xlabel('False Positive Rate (1 - Specificity)')\n",
    "plt.ylabel('True Positive Rate (Sensitivity)')\n",
    "plt.grid(True)\n",
    "\n",
    "plt.subplot(222)\n",
    "fpr, tpr, thresholds = metrics.roc_curve(y_test, dt_pred_prob[:,1])\n",
    "plt.plot(fpr, tpr)\n",
    "plt.xlim([0.0, 1.0])\n",
    "plt.ylim([0.0, 1.0])\n",
    "plt.title('ROC curve for Decision Tree')\n",
    "plt.xlabel('False Positive Rate (1 - Specificity)')\n",
    "plt.ylabel('True Positive Rate (Sensitivity)')\n",
    "plt.grid(True)\n",
    "\n",
    "plt.subplot(223)\n",
    "fpr, tpr, thresholds = metrics.roc_curve(y_test, rf_pred_prob[:,1])\n",
    "plt.plot(fpr, tpr)\n",
    "plt.xlim([0.0, 1.0])\n",
    "plt.ylim([0.0, 1.0])\n",
    "plt.title('ROC curve for Random Forest')\n",
    "plt.xlabel('False Positive Rate (1 - Specificity)')\n",
    "plt.ylabel('True Positive Rate (Sensitivity)')\n",
    "plt.grid(True)\n",
    "\n",
    "plt.subplot(224)\n",
    "fpr, tpr, thresholds = metrics.roc_curve(y_test, knn_pred_prob[:,1])\n",
    "plt.plot(fpr, tpr)\n",
    "plt.xlim([0.0, 1.0])\n",
    "plt.ylim([0.0, 1.0])\n",
    "plt.title('ROC curve for KNN')\n",
    "plt.xlabel('False Positive Rate (1 - Specificity)')\n",
    "plt.ylabel('True Positive Rate (Sensitivity)')\n",
    "plt.grid(True)"
   ]
  },
  {
   "cell_type": "markdown",
   "metadata": {},
   "source": [
    "#### Feature Importance"
   ]
  },
  {
   "cell_type": "code",
   "execution_count": 84,
   "metadata": {},
   "outputs": [
    {
     "data": {
      "text/html": [
       "<div>\n",
       "<style scoped>\n",
       "    .dataframe tbody tr th:only-of-type {\n",
       "        vertical-align: middle;\n",
       "    }\n",
       "\n",
       "    .dataframe tbody tr th {\n",
       "        vertical-align: top;\n",
       "    }\n",
       "\n",
       "    .dataframe thead th {\n",
       "        text-align: right;\n",
       "    }\n",
       "</style>\n",
       "<table border=\"1\" class=\"dataframe\">\n",
       "  <thead>\n",
       "    <tr style=\"text-align: right;\">\n",
       "      <th></th>\n",
       "      <th>feature</th>\n",
       "      <th>importance</th>\n",
       "    </tr>\n",
       "  </thead>\n",
       "  <tbody>\n",
       "    <tr>\n",
       "      <th>0</th>\n",
       "      <td>DAYS_AGE</td>\n",
       "      <td>0.099024</td>\n",
       "    </tr>\n",
       "    <tr>\n",
       "      <th>1</th>\n",
       "      <td>DAYS_ID_CHANGE</td>\n",
       "      <td>0.097778</td>\n",
       "    </tr>\n",
       "    <tr>\n",
       "      <th>2</th>\n",
       "      <td>DAYS_REGISTRATION</td>\n",
       "      <td>0.095877</td>\n",
       "    </tr>\n",
       "    <tr>\n",
       "      <th>3</th>\n",
       "      <td>ANNUITY</td>\n",
       "      <td>0.091597</td>\n",
       "    </tr>\n",
       "    <tr>\n",
       "      <th>4</th>\n",
       "      <td>APPROVED_CREDIT</td>\n",
       "      <td>0.088102</td>\n",
       "    </tr>\n",
       "    <tr>\n",
       "      <th>5</th>\n",
       "      <td>DAYS_WORK</td>\n",
       "      <td>0.083206</td>\n",
       "    </tr>\n",
       "    <tr>\n",
       "      <th>6</th>\n",
       "      <td>INCOME</td>\n",
       "      <td>0.074727</td>\n",
       "    </tr>\n",
       "    <tr>\n",
       "      <th>7</th>\n",
       "      <td>HOUR_APPLY</td>\n",
       "      <td>0.066539</td>\n",
       "    </tr>\n",
       "    <tr>\n",
       "      <th>8</th>\n",
       "      <td>NUM_CHILDREN</td>\n",
       "      <td>0.023146</td>\n",
       "    </tr>\n",
       "    <tr>\n",
       "      <th>9</th>\n",
       "      <td>GENDER</td>\n",
       "      <td>0.012857</td>\n",
       "    </tr>\n",
       "  </tbody>\n",
       "</table>\n",
       "</div>"
      ],
      "text/plain": [
       "             feature  importance\n",
       "0           DAYS_AGE    0.099024\n",
       "1     DAYS_ID_CHANGE    0.097778\n",
       "2  DAYS_REGISTRATION    0.095877\n",
       "3            ANNUITY    0.091597\n",
       "4    APPROVED_CREDIT    0.088102\n",
       "5          DAYS_WORK    0.083206\n",
       "6             INCOME    0.074727\n",
       "7         HOUR_APPLY    0.066539\n",
       "8       NUM_CHILDREN    0.023146\n",
       "9             GENDER    0.012857"
      ]
     },
     "execution_count": 84,
     "metadata": {},
     "output_type": "execute_result"
    }
   ],
   "source": [
    "feature_results = pd.DataFrame({'feature': list(X_train.columns), 'importance': random_new.feature_importances_}).sort_values('importance', ascending=False).reset_index(drop=True)\n",
    "feature_results.head(10)"
   ]
  },
  {
   "cell_type": "code",
   "execution_count": 85,
   "metadata": {},
   "outputs": [
    {
     "data": {
      "text/plain": [
       "Text(0.5, 1.0, 'Feature Importances from Random Forest')"
      ]
     },
     "execution_count": 85,
     "metadata": {},
     "output_type": "execute_result"
    },
    {
     "data": {
      "image/png": "[encoded data removed]",
      "text/plain": [
       "<Figure size 432x288 with 1 Axes>"
      ]
     },
     "metadata": {
      "needs_background": "light"
     },
     "output_type": "display_data"
    }
   ],
   "source": [
    "figsize=(12, 10)\n",
    "feature_results.loc[:9, :].plot(x = 'feature', y = 'importance', edgecolor = 'k',kind='barh', color = 'darksalmon')\n",
    "plt.title('Feature Importances from Random Forest')"
   ]
  },
  {
   "cell_type": "code",
   "execution_count": null,
   "metadata": {},
   "outputs": [],
   "source": []
  }
 ],
 "metadata": {
  "kernelspec": {
   "display_name": "Python 3",
   "language": "python",
   "name": "python3"
  },
  "language_info": {
   "codemirror_mode": {
    "name": "ipython",
    "version": 3
   },
   "file_extension": ".py",
   "mimetype": "text/x-python",
   "name": "python",
   "nbconvert_exporter": "python",
   "pygments_lexer": "ipython3",
   "version": "3.7.6"
  }
 },
 "nbformat": 4,
 "nbformat_minor": 4
}
