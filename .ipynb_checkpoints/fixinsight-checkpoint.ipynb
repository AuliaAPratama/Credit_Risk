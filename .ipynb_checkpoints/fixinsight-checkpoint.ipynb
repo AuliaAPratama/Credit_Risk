{
 "cells": [
  {
   "cell_type": "code",
   "execution_count": 1,
   "metadata": {},
   "outputs": [],
   "source": [
    "import pandas as pd\n",
    "import numpy as np\n",
    "import matplotlib.pyplot as plt"
   ]
  },
  {
   "cell_type": "code",
   "execution_count": 2,
   "metadata": {},
   "outputs": [],
   "source": [
    "df = pd.read_csv('app_train_new.csv')\n",
    "df1 = pd.read_csv('app_test_new.csv')"
   ]
  },
  {
   "cell_type": "code",
   "execution_count": 3,
   "metadata": {},
   "outputs": [],
   "source": [
    "full = pd.concat([df,df1],ignore_index=True)"
   ]
  },
  {
   "cell_type": "code",
   "execution_count": 4,
   "metadata": {},
   "outputs": [],
   "source": [
    "dfLate = full[full['TARGET']==1].reset_index(drop=True)\n",
    "dfOntime = full[full['TARGET']==0].reset_index(drop=True)"
   ]
  },
  {
   "cell_type": "code",
   "execution_count": 5,
   "metadata": {},
   "outputs": [
    {
     "data": {
      "text/html": [
       "<div>\n",
       "<style scoped>\n",
       "    .dataframe tbody tr th:only-of-type {\n",
       "        vertical-align: middle;\n",
       "    }\n",
       "\n",
       "    .dataframe tbody tr th {\n",
       "        vertical-align: top;\n",
       "    }\n",
       "\n",
       "    .dataframe thead th {\n",
       "        text-align: right;\n",
       "    }\n",
       "</style>\n",
       "<table border=\"1\" class=\"dataframe\">\n",
       "  <thead>\n",
       "    <tr style=\"text-align: right;\">\n",
       "      <th></th>\n",
       "      <th>TARGET</th>\n",
       "      <th>CONTRACT_TYPE</th>\n",
       "      <th>GENDER</th>\n",
       "      <th>NUM_CHILDREN</th>\n",
       "      <th>INCOME</th>\n",
       "      <th>APPROVED_CREDIT</th>\n",
       "      <th>ANNUITY</th>\n",
       "      <th>INCOME_TYPE</th>\n",
       "      <th>EDUCATION</th>\n",
       "      <th>FAMILY_STATUS</th>\n",
       "      <th>HOUSING_TYPE</th>\n",
       "      <th>DAYS_AGE</th>\n",
       "      <th>DAYS_WORK</th>\n",
       "      <th>DAYS_REGISTRATION</th>\n",
       "      <th>DAYS_ID_CHANGE</th>\n",
       "      <th>WEEKDAYS_APPLY</th>\n",
       "      <th>HOUR_APPLY</th>\n",
       "      <th>ORGANIZATION_TYPE</th>\n",
       "    </tr>\n",
       "  </thead>\n",
       "  <tbody>\n",
       "    <tr>\n",
       "      <th>0</th>\n",
       "      <td>1</td>\n",
       "      <td>0</td>\n",
       "      <td>0</td>\n",
       "      <td>0</td>\n",
       "      <td>108000.0</td>\n",
       "      <td>225000.0</td>\n",
       "      <td>17775.0</td>\n",
       "      <td>Working</td>\n",
       "      <td>Higher education</td>\n",
       "      <td>Single / not married</td>\n",
       "      <td>With parents</td>\n",
       "      <td>14239</td>\n",
       "      <td>7652</td>\n",
       "      <td>2772</td>\n",
       "      <td>4275</td>\n",
       "      <td>WEDNESDAY</td>\n",
       "      <td>12</td>\n",
       "      <td>Other</td>\n",
       "    </tr>\n",
       "    <tr>\n",
       "      <th>1</th>\n",
       "      <td>1</td>\n",
       "      <td>0</td>\n",
       "      <td>1</td>\n",
       "      <td>0</td>\n",
       "      <td>270000.0</td>\n",
       "      <td>889515.0</td>\n",
       "      <td>31644.0</td>\n",
       "      <td>Working</td>\n",
       "      <td>Secondary / secondary special</td>\n",
       "      <td>Married</td>\n",
       "      <td>House / apartment</td>\n",
       "      <td>16755</td>\n",
       "      <td>920</td>\n",
       "      <td>2652</td>\n",
       "      <td>305</td>\n",
       "      <td>MONDAY</td>\n",
       "      <td>14</td>\n",
       "      <td>Business Entity Type 3</td>\n",
       "    </tr>\n",
       "    <tr>\n",
       "      <th>2</th>\n",
       "      <td>1</td>\n",
       "      <td>0</td>\n",
       "      <td>0</td>\n",
       "      <td>0</td>\n",
       "      <td>62100.0</td>\n",
       "      <td>314100.0</td>\n",
       "      <td>17167.5</td>\n",
       "      <td>Working</td>\n",
       "      <td>Secondary / secondary special</td>\n",
       "      <td>Single / not married</td>\n",
       "      <td>House / apartment</td>\n",
       "      <td>10508</td>\n",
       "      <td>1885</td>\n",
       "      <td>1832</td>\n",
       "      <td>1832</td>\n",
       "      <td>THURSDAY</td>\n",
       "      <td>9</td>\n",
       "      <td>Government</td>\n",
       "    </tr>\n",
       "    <tr>\n",
       "      <th>3</th>\n",
       "      <td>1</td>\n",
       "      <td>0</td>\n",
       "      <td>0</td>\n",
       "      <td>0</td>\n",
       "      <td>360000.0</td>\n",
       "      <td>443178.0</td>\n",
       "      <td>35145.0</td>\n",
       "      <td>Commercial associate</td>\n",
       "      <td>Higher education</td>\n",
       "      <td>Single / not married</td>\n",
       "      <td>Co-op apartment</td>\n",
       "      <td>10197</td>\n",
       "      <td>923</td>\n",
       "      <td>5021</td>\n",
       "      <td>2877</td>\n",
       "      <td>FRIDAY</td>\n",
       "      <td>19</td>\n",
       "      <td>Business Entity Type 3</td>\n",
       "    </tr>\n",
       "    <tr>\n",
       "      <th>4</th>\n",
       "      <td>1</td>\n",
       "      <td>0</td>\n",
       "      <td>0</td>\n",
       "      <td>1</td>\n",
       "      <td>135000.0</td>\n",
       "      <td>550980.0</td>\n",
       "      <td>33835.5</td>\n",
       "      <td>Working</td>\n",
       "      <td>Secondary / secondary special</td>\n",
       "      <td>Married</td>\n",
       "      <td>House / apartment</td>\n",
       "      <td>9213</td>\n",
       "      <td>668</td>\n",
       "      <td>1467</td>\n",
       "      <td>1289</td>\n",
       "      <td>TUESDAY</td>\n",
       "      <td>8</td>\n",
       "      <td>Kindergarten</td>\n",
       "    </tr>\n",
       "  </tbody>\n",
       "</table>\n",
       "</div>"
      ],
      "text/plain": [
       "   TARGET  CONTRACT_TYPE  GENDER  NUM_CHILDREN    INCOME  APPROVED_CREDIT  \\\n",
       "0       1              0       0             0  108000.0         225000.0   \n",
       "1       1              0       1             0  270000.0         889515.0   \n",
       "2       1              0       0             0   62100.0         314100.0   \n",
       "3       1              0       0             0  360000.0         443178.0   \n",
       "4       1              0       0             1  135000.0         550980.0   \n",
       "\n",
       "   ANNUITY           INCOME_TYPE                      EDUCATION  \\\n",
       "0  17775.0               Working               Higher education   \n",
       "1  31644.0               Working  Secondary / secondary special   \n",
       "2  17167.5               Working  Secondary / secondary special   \n",
       "3  35145.0  Commercial associate               Higher education   \n",
       "4  33835.5               Working  Secondary / secondary special   \n",
       "\n",
       "          FAMILY_STATUS       HOUSING_TYPE  DAYS_AGE  DAYS_WORK  \\\n",
       "0  Single / not married       With parents     14239       7652   \n",
       "1               Married  House / apartment     16755        920   \n",
       "2  Single / not married  House / apartment     10508       1885   \n",
       "3  Single / not married    Co-op apartment     10197        923   \n",
       "4               Married  House / apartment      9213        668   \n",
       "\n",
       "   DAYS_REGISTRATION  DAYS_ID_CHANGE WEEKDAYS_APPLY  HOUR_APPLY  \\\n",
       "0               2772            4275      WEDNESDAY          12   \n",
       "1               2652             305         MONDAY          14   \n",
       "2               1832            1832       THURSDAY           9   \n",
       "3               5021            2877         FRIDAY          19   \n",
       "4               1467            1289        TUESDAY           8   \n",
       "\n",
       "        ORGANIZATION_TYPE  \n",
       "0                   Other  \n",
       "1  Business Entity Type 3  \n",
       "2              Government  \n",
       "3  Business Entity Type 3  \n",
       "4            Kindergarten  "
      ]
     },
     "execution_count": 5,
     "metadata": {},
     "output_type": "execute_result"
    }
   ],
   "source": [
    "dfLate.head()"
   ]
  },
  {
   "cell_type": "code",
   "execution_count": 6,
   "metadata": {},
   "outputs": [
    {
     "data": {
      "text/html": [
       "<div>\n",
       "<style scoped>\n",
       "    .dataframe tbody tr th:only-of-type {\n",
       "        vertical-align: middle;\n",
       "    }\n",
       "\n",
       "    .dataframe tbody tr th {\n",
       "        vertical-align: top;\n",
       "    }\n",
       "\n",
       "    .dataframe thead th {\n",
       "        text-align: right;\n",
       "    }\n",
       "</style>\n",
       "<table border=\"1\" class=\"dataframe\">\n",
       "  <thead>\n",
       "    <tr style=\"text-align: right;\">\n",
       "      <th></th>\n",
       "      <th>TARGET</th>\n",
       "      <th>CONTRACT_TYPE</th>\n",
       "      <th>GENDER</th>\n",
       "      <th>NUM_CHILDREN</th>\n",
       "      <th>INCOME</th>\n",
       "      <th>APPROVED_CREDIT</th>\n",
       "      <th>ANNUITY</th>\n",
       "      <th>INCOME_TYPE</th>\n",
       "      <th>EDUCATION</th>\n",
       "      <th>FAMILY_STATUS</th>\n",
       "      <th>HOUSING_TYPE</th>\n",
       "      <th>DAYS_AGE</th>\n",
       "      <th>DAYS_WORK</th>\n",
       "      <th>DAYS_REGISTRATION</th>\n",
       "      <th>DAYS_ID_CHANGE</th>\n",
       "      <th>WEEKDAYS_APPLY</th>\n",
       "      <th>HOUR_APPLY</th>\n",
       "      <th>ORGANIZATION_TYPE</th>\n",
       "    </tr>\n",
       "  </thead>\n",
       "  <tbody>\n",
       "    <tr>\n",
       "      <th>0</th>\n",
       "      <td>0</td>\n",
       "      <td>1</td>\n",
       "      <td>0</td>\n",
       "      <td>1</td>\n",
       "      <td>67500.0</td>\n",
       "      <td>202500.0</td>\n",
       "      <td>10125.0</td>\n",
       "      <td>Working</td>\n",
       "      <td>Secondary / secondary special</td>\n",
       "      <td>Married</td>\n",
       "      <td>With parents</td>\n",
       "      <td>11539</td>\n",
       "      <td>921</td>\n",
       "      <td>119</td>\n",
       "      <td>2757</td>\n",
       "      <td>TUESDAY</td>\n",
       "      <td>18</td>\n",
       "      <td>Business Entity Type 3</td>\n",
       "    </tr>\n",
       "    <tr>\n",
       "      <th>1</th>\n",
       "      <td>0</td>\n",
       "      <td>0</td>\n",
       "      <td>0</td>\n",
       "      <td>1</td>\n",
       "      <td>202500.0</td>\n",
       "      <td>976711.5</td>\n",
       "      <td>49869.0</td>\n",
       "      <td>Commercial associate</td>\n",
       "      <td>Secondary / secondary special</td>\n",
       "      <td>Married</td>\n",
       "      <td>House / apartment</td>\n",
       "      <td>15743</td>\n",
       "      <td>4482</td>\n",
       "      <td>1797</td>\n",
       "      <td>2455</td>\n",
       "      <td>TUESDAY</td>\n",
       "      <td>14</td>\n",
       "      <td>Other</td>\n",
       "    </tr>\n",
       "    <tr>\n",
       "      <th>2</th>\n",
       "      <td>0</td>\n",
       "      <td>0</td>\n",
       "      <td>0</td>\n",
       "      <td>0</td>\n",
       "      <td>180000.0</td>\n",
       "      <td>407520.0</td>\n",
       "      <td>25060.5</td>\n",
       "      <td>Pensioner</td>\n",
       "      <td>Secondary / secondary special</td>\n",
       "      <td>Married</td>\n",
       "      <td>House / apartment</td>\n",
       "      <td>20775</td>\n",
       "      <td>18250</td>\n",
       "      <td>8737</td>\n",
       "      <td>4312</td>\n",
       "      <td>THURSDAY</td>\n",
       "      <td>14</td>\n",
       "      <td>NA1</td>\n",
       "    </tr>\n",
       "    <tr>\n",
       "      <th>3</th>\n",
       "      <td>0</td>\n",
       "      <td>0</td>\n",
       "      <td>1</td>\n",
       "      <td>0</td>\n",
       "      <td>225000.0</td>\n",
       "      <td>808650.0</td>\n",
       "      <td>26086.5</td>\n",
       "      <td>State servant</td>\n",
       "      <td>Higher education</td>\n",
       "      <td>Married</td>\n",
       "      <td>House / apartment</td>\n",
       "      <td>20659</td>\n",
       "      <td>10455</td>\n",
       "      <td>4998</td>\n",
       "      <td>4010</td>\n",
       "      <td>WEDNESDAY</td>\n",
       "      <td>10</td>\n",
       "      <td>Culture</td>\n",
       "    </tr>\n",
       "    <tr>\n",
       "      <th>4</th>\n",
       "      <td>0</td>\n",
       "      <td>1</td>\n",
       "      <td>1</td>\n",
       "      <td>0</td>\n",
       "      <td>135000.0</td>\n",
       "      <td>180000.0</td>\n",
       "      <td>9000.0</td>\n",
       "      <td>Commercial associate</td>\n",
       "      <td>Secondary / secondary special</td>\n",
       "      <td>Single / not married</td>\n",
       "      <td>House / apartment</td>\n",
       "      <td>9013</td>\n",
       "      <td>1190</td>\n",
       "      <td>3524</td>\n",
       "      <td>1644</td>\n",
       "      <td>SUNDAY</td>\n",
       "      <td>11</td>\n",
       "      <td>Construction</td>\n",
       "    </tr>\n",
       "  </tbody>\n",
       "</table>\n",
       "</div>"
      ],
      "text/plain": [
       "   TARGET  CONTRACT_TYPE  GENDER  NUM_CHILDREN    INCOME  APPROVED_CREDIT  \\\n",
       "0       0              1       0             1   67500.0         202500.0   \n",
       "1       0              0       0             1  202500.0         976711.5   \n",
       "2       0              0       0             0  180000.0         407520.0   \n",
       "3       0              0       1             0  225000.0         808650.0   \n",
       "4       0              1       1             0  135000.0         180000.0   \n",
       "\n",
       "   ANNUITY           INCOME_TYPE                      EDUCATION  \\\n",
       "0  10125.0               Working  Secondary / secondary special   \n",
       "1  49869.0  Commercial associate  Secondary / secondary special   \n",
       "2  25060.5             Pensioner  Secondary / secondary special   \n",
       "3  26086.5         State servant               Higher education   \n",
       "4   9000.0  Commercial associate  Secondary / secondary special   \n",
       "\n",
       "          FAMILY_STATUS       HOUSING_TYPE  DAYS_AGE  DAYS_WORK  \\\n",
       "0               Married       With parents     11539        921   \n",
       "1               Married  House / apartment     15743       4482   \n",
       "2               Married  House / apartment     20775      18250   \n",
       "3               Married  House / apartment     20659      10455   \n",
       "4  Single / not married  House / apartment      9013       1190   \n",
       "\n",
       "   DAYS_REGISTRATION  DAYS_ID_CHANGE WEEKDAYS_APPLY  HOUR_APPLY  \\\n",
       "0                119            2757        TUESDAY          18   \n",
       "1               1797            2455        TUESDAY          14   \n",
       "2               8737            4312       THURSDAY          14   \n",
       "3               4998            4010      WEDNESDAY          10   \n",
       "4               3524            1644         SUNDAY          11   \n",
       "\n",
       "        ORGANIZATION_TYPE  \n",
       "0  Business Entity Type 3  \n",
       "1                   Other  \n",
       "2                     NA1  \n",
       "3                 Culture  \n",
       "4            Construction  "
      ]
     },
     "execution_count": 6,
     "metadata": {},
     "output_type": "execute_result"
    }
   ],
   "source": [
    "dfOntime.head()"
   ]
  },
  {
   "cell_type": "code",
   "execution_count": 7,
   "metadata": {},
   "outputs": [
    {
     "name": "stdout",
     "output_type": "stream",
     "text": [
      "(6172, 18)\n",
      "(70088, 18)\n"
     ]
    }
   ],
   "source": [
    "print(dfLate.shape)\n",
    "print(dfOntime.shape)"
   ]
  },
  {
   "cell_type": "code",
   "execution_count": 8,
   "metadata": {},
   "outputs": [
    {
     "data": {
      "text/html": [
       "<div>\n",
       "<style scoped>\n",
       "    .dataframe tbody tr th:only-of-type {\n",
       "        vertical-align: middle;\n",
       "    }\n",
       "\n",
       "    .dataframe tbody tr th {\n",
       "        vertical-align: top;\n",
       "    }\n",
       "\n",
       "    .dataframe thead th {\n",
       "        text-align: right;\n",
       "    }\n",
       "</style>\n",
       "<table border=\"1\" class=\"dataframe\">\n",
       "  <thead>\n",
       "    <tr style=\"text-align: right;\">\n",
       "      <th></th>\n",
       "      <th>TARGET</th>\n",
       "      <th>CONTRACT_TYPE</th>\n",
       "      <th>GENDER</th>\n",
       "      <th>NUM_CHILDREN</th>\n",
       "      <th>INCOME</th>\n",
       "      <th>APPROVED_CREDIT</th>\n",
       "      <th>ANNUITY</th>\n",
       "      <th>DAYS_AGE</th>\n",
       "      <th>DAYS_WORK</th>\n",
       "      <th>DAYS_REGISTRATION</th>\n",
       "      <th>DAYS_ID_CHANGE</th>\n",
       "      <th>HOUR_APPLY</th>\n",
       "    </tr>\n",
       "  </thead>\n",
       "  <tbody>\n",
       "    <tr>\n",
       "      <th>count</th>\n",
       "      <td>6172.0</td>\n",
       "      <td>6172.000000</td>\n",
       "      <td>6172.000000</td>\n",
       "      <td>6172.000000</td>\n",
       "      <td>6.172000e+03</td>\n",
       "      <td>6.172000e+03</td>\n",
       "      <td>6172.000000</td>\n",
       "      <td>6172.000000</td>\n",
       "      <td>6172.000000</td>\n",
       "      <td>6172.000000</td>\n",
       "      <td>6172.000000</td>\n",
       "      <td>6172.000000</td>\n",
       "    </tr>\n",
       "    <tr>\n",
       "      <th>mean</th>\n",
       "      <td>1.0</td>\n",
       "      <td>0.064323</td>\n",
       "      <td>0.431303</td>\n",
       "      <td>0.451879</td>\n",
       "      <td>1.602046e+05</td>\n",
       "      <td>5.502694e+05</td>\n",
       "      <td>26309.529974</td>\n",
       "      <td>14854.828743</td>\n",
       "      <td>3808.371841</td>\n",
       "      <td>4500.541478</td>\n",
       "      <td>2714.412346</td>\n",
       "      <td>11.727479</td>\n",
       "    </tr>\n",
       "    <tr>\n",
       "      <th>std</th>\n",
       "      <td>0.0</td>\n",
       "      <td>0.245347</td>\n",
       "      <td>0.495298</td>\n",
       "      <td>0.742783</td>\n",
       "      <td>8.234641e+04</td>\n",
       "      <td>3.423867e+05</td>\n",
       "      <td>12226.768388</td>\n",
       "      <td>4213.677912</td>\n",
       "      <td>5610.570879</td>\n",
       "      <td>3311.185895</td>\n",
       "      <td>1531.763322</td>\n",
       "      <td>3.285813</td>\n",
       "    </tr>\n",
       "    <tr>\n",
       "      <th>min</th>\n",
       "      <td>1.0</td>\n",
       "      <td>0.000000</td>\n",
       "      <td>0.000000</td>\n",
       "      <td>0.000000</td>\n",
       "      <td>2.925000e+04</td>\n",
       "      <td>4.500000e+04</td>\n",
       "      <td>2722.500000</td>\n",
       "      <td>7696.000000</td>\n",
       "      <td>4.000000</td>\n",
       "      <td>0.000000</td>\n",
       "      <td>3.000000</td>\n",
       "      <td>0.000000</td>\n",
       "    </tr>\n",
       "    <tr>\n",
       "      <th>25%</th>\n",
       "      <td>1.0</td>\n",
       "      <td>0.000000</td>\n",
       "      <td>0.000000</td>\n",
       "      <td>0.000000</td>\n",
       "      <td>1.125000e+05</td>\n",
       "      <td>2.844000e+05</td>\n",
       "      <td>17348.625000</td>\n",
       "      <td>11334.750000</td>\n",
       "      <td>700.000000</td>\n",
       "      <td>1676.750000</td>\n",
       "      <td>1350.750000</td>\n",
       "      <td>10.000000</td>\n",
       "    </tr>\n",
       "    <tr>\n",
       "      <th>50%</th>\n",
       "      <td>1.0</td>\n",
       "      <td>0.000000</td>\n",
       "      <td>0.000000</td>\n",
       "      <td>0.000000</td>\n",
       "      <td>1.350000e+05</td>\n",
       "      <td>4.905360e+05</td>\n",
       "      <td>25074.000000</td>\n",
       "      <td>14195.000000</td>\n",
       "      <td>1464.500000</td>\n",
       "      <td>4035.000000</td>\n",
       "      <td>2768.000000</td>\n",
       "      <td>12.000000</td>\n",
       "    </tr>\n",
       "    <tr>\n",
       "      <th>75%</th>\n",
       "      <td>1.0</td>\n",
       "      <td>0.000000</td>\n",
       "      <td>1.000000</td>\n",
       "      <td>1.000000</td>\n",
       "      <td>2.025000e+05</td>\n",
       "      <td>7.284600e+05</td>\n",
       "      <td>32746.500000</td>\n",
       "      <td>17965.500000</td>\n",
       "      <td>3318.500000</td>\n",
       "      <td>6666.500000</td>\n",
       "      <td>4110.000000</td>\n",
       "      <td>14.000000</td>\n",
       "    </tr>\n",
       "    <tr>\n",
       "      <th>max</th>\n",
       "      <td>1.0</td>\n",
       "      <td>1.000000</td>\n",
       "      <td>1.000000</td>\n",
       "      <td>9.000000</td>\n",
       "      <td>1.350000e+06</td>\n",
       "      <td>2.961000e+06</td>\n",
       "      <td>105511.500000</td>\n",
       "      <td>25142.000000</td>\n",
       "      <td>18250.000000</td>\n",
       "      <td>22928.000000</td>\n",
       "      <td>6189.000000</td>\n",
       "      <td>23.000000</td>\n",
       "    </tr>\n",
       "  </tbody>\n",
       "</table>\n",
       "</div>"
      ],
      "text/plain": [
       "       TARGET  CONTRACT_TYPE       GENDER  NUM_CHILDREN        INCOME  \\\n",
       "count  6172.0    6172.000000  6172.000000   6172.000000  6.172000e+03   \n",
       "mean      1.0       0.064323     0.431303      0.451879  1.602046e+05   \n",
       "std       0.0       0.245347     0.495298      0.742783  8.234641e+04   \n",
       "min       1.0       0.000000     0.000000      0.000000  2.925000e+04   \n",
       "25%       1.0       0.000000     0.000000      0.000000  1.125000e+05   \n",
       "50%       1.0       0.000000     0.000000      0.000000  1.350000e+05   \n",
       "75%       1.0       0.000000     1.000000      1.000000  2.025000e+05   \n",
       "max       1.0       1.000000     1.000000      9.000000  1.350000e+06   \n",
       "\n",
       "       APPROVED_CREDIT        ANNUITY      DAYS_AGE     DAYS_WORK  \\\n",
       "count     6.172000e+03    6172.000000   6172.000000   6172.000000   \n",
       "mean      5.502694e+05   26309.529974  14854.828743   3808.371841   \n",
       "std       3.423867e+05   12226.768388   4213.677912   5610.570879   \n",
       "min       4.500000e+04    2722.500000   7696.000000      4.000000   \n",
       "25%       2.844000e+05   17348.625000  11334.750000    700.000000   \n",
       "50%       4.905360e+05   25074.000000  14195.000000   1464.500000   \n",
       "75%       7.284600e+05   32746.500000  17965.500000   3318.500000   \n",
       "max       2.961000e+06  105511.500000  25142.000000  18250.000000   \n",
       "\n",
       "       DAYS_REGISTRATION  DAYS_ID_CHANGE   HOUR_APPLY  \n",
       "count        6172.000000     6172.000000  6172.000000  \n",
       "mean         4500.541478     2714.412346    11.727479  \n",
       "std          3311.185895     1531.763322     3.285813  \n",
       "min             0.000000        3.000000     0.000000  \n",
       "25%          1676.750000     1350.750000    10.000000  \n",
       "50%          4035.000000     2768.000000    12.000000  \n",
       "75%          6666.500000     4110.000000    14.000000  \n",
       "max         22928.000000     6189.000000    23.000000  "
      ]
     },
     "execution_count": 8,
     "metadata": {},
     "output_type": "execute_result"
    }
   ],
   "source": [
    "dfLate.describe()"
   ]
  },
  {
   "cell_type": "code",
   "execution_count": 9,
   "metadata": {},
   "outputs": [
    {
     "data": {
      "text/html": [
       "<div>\n",
       "<style scoped>\n",
       "    .dataframe tbody tr th:only-of-type {\n",
       "        vertical-align: middle;\n",
       "    }\n",
       "\n",
       "    .dataframe tbody tr th {\n",
       "        vertical-align: top;\n",
       "    }\n",
       "\n",
       "    .dataframe thead th {\n",
       "        text-align: right;\n",
       "    }\n",
       "</style>\n",
       "<table border=\"1\" class=\"dataframe\">\n",
       "  <thead>\n",
       "    <tr style=\"text-align: right;\">\n",
       "      <th></th>\n",
       "      <th>TARGET</th>\n",
       "      <th>CONTRACT_TYPE</th>\n",
       "      <th>GENDER</th>\n",
       "      <th>NUM_CHILDREN</th>\n",
       "      <th>INCOME</th>\n",
       "      <th>APPROVED_CREDIT</th>\n",
       "      <th>ANNUITY</th>\n",
       "      <th>DAYS_AGE</th>\n",
       "      <th>DAYS_WORK</th>\n",
       "      <th>DAYS_REGISTRATION</th>\n",
       "      <th>DAYS_ID_CHANGE</th>\n",
       "      <th>HOUR_APPLY</th>\n",
       "    </tr>\n",
       "  </thead>\n",
       "  <tbody>\n",
       "    <tr>\n",
       "      <th>count</th>\n",
       "      <td>70088.0</td>\n",
       "      <td>70088.000000</td>\n",
       "      <td>70088.000000</td>\n",
       "      <td>70088.000000</td>\n",
       "      <td>7.008800e+04</td>\n",
       "      <td>7.008800e+04</td>\n",
       "      <td>70088.000000</td>\n",
       "      <td>70088.000000</td>\n",
       "      <td>70088.000000</td>\n",
       "      <td>70088.000000</td>\n",
       "      <td>70088.000000</td>\n",
       "      <td>70088.000000</td>\n",
       "    </tr>\n",
       "    <tr>\n",
       "      <th>mean</th>\n",
       "      <td>0.0</td>\n",
       "      <td>0.098234</td>\n",
       "      <td>0.333367</td>\n",
       "      <td>0.408315</td>\n",
       "      <td>1.690702e+05</td>\n",
       "      <td>6.015325e+05</td>\n",
       "      <td>27157.345516</td>\n",
       "      <td>16156.745663</td>\n",
       "      <td>5422.044416</td>\n",
       "      <td>5021.474903</td>\n",
       "      <td>3023.829129</td>\n",
       "      <td>12.086577</td>\n",
       "    </tr>\n",
       "    <tr>\n",
       "      <th>std</th>\n",
       "      <td>0.0</td>\n",
       "      <td>0.297632</td>\n",
       "      <td>0.471420</td>\n",
       "      <td>0.712627</td>\n",
       "      <td>9.992109e+04</td>\n",
       "      <td>4.057837e+05</td>\n",
       "      <td>14624.520401</td>\n",
       "      <td>4362.033501</td>\n",
       "      <td>6545.117076</td>\n",
       "      <td>3536.327845</td>\n",
       "      <td>1507.103780</td>\n",
       "      <td>3.264112</td>\n",
       "    </tr>\n",
       "    <tr>\n",
       "      <th>min</th>\n",
       "      <td>0.0</td>\n",
       "      <td>0.000000</td>\n",
       "      <td>0.000000</td>\n",
       "      <td>0.000000</td>\n",
       "      <td>2.610000e+04</td>\n",
       "      <td>4.500000e+04</td>\n",
       "      <td>2164.500000</td>\n",
       "      <td>7673.000000</td>\n",
       "      <td>1.000000</td>\n",
       "      <td>0.000000</td>\n",
       "      <td>0.000000</td>\n",
       "      <td>0.000000</td>\n",
       "    </tr>\n",
       "    <tr>\n",
       "      <th>25%</th>\n",
       "      <td>0.0</td>\n",
       "      <td>0.000000</td>\n",
       "      <td>0.000000</td>\n",
       "      <td>0.000000</td>\n",
       "      <td>1.125000e+05</td>\n",
       "      <td>2.700000e+05</td>\n",
       "      <td>16456.500000</td>\n",
       "      <td>12569.750000</td>\n",
       "      <td>974.000000</td>\n",
       "      <td>2023.000000</td>\n",
       "      <td>1756.000000</td>\n",
       "      <td>10.000000</td>\n",
       "    </tr>\n",
       "    <tr>\n",
       "      <th>50%</th>\n",
       "      <td>0.0</td>\n",
       "      <td>0.000000</td>\n",
       "      <td>0.000000</td>\n",
       "      <td>0.000000</td>\n",
       "      <td>1.485000e+05</td>\n",
       "      <td>5.172660e+05</td>\n",
       "      <td>24817.500000</td>\n",
       "      <td>15865.000000</td>\n",
       "      <td>2318.000000</td>\n",
       "      <td>4545.000000</td>\n",
       "      <td>3310.000000</td>\n",
       "      <td>12.000000</td>\n",
       "    </tr>\n",
       "    <tr>\n",
       "      <th>75%</th>\n",
       "      <td>0.0</td>\n",
       "      <td>0.000000</td>\n",
       "      <td>1.000000</td>\n",
       "      <td>1.000000</td>\n",
       "      <td>2.025000e+05</td>\n",
       "      <td>8.100000e+05</td>\n",
       "      <td>34777.125000</td>\n",
       "      <td>19825.000000</td>\n",
       "      <td>6172.250000</td>\n",
       "      <td>7565.000000</td>\n",
       "      <td>4319.000000</td>\n",
       "      <td>14.000000</td>\n",
       "    </tr>\n",
       "    <tr>\n",
       "      <th>max</th>\n",
       "      <td>0.0</td>\n",
       "      <td>1.000000</td>\n",
       "      <td>1.000000</td>\n",
       "      <td>8.000000</td>\n",
       "      <td>4.500000e+06</td>\n",
       "      <td>4.050000e+06</td>\n",
       "      <td>225000.000000</td>\n",
       "      <td>25229.000000</td>\n",
       "      <td>18250.000000</td>\n",
       "      <td>21865.000000</td>\n",
       "      <td>6337.000000</td>\n",
       "      <td>23.000000</td>\n",
       "    </tr>\n",
       "  </tbody>\n",
       "</table>\n",
       "</div>"
      ],
      "text/plain": [
       "        TARGET  CONTRACT_TYPE        GENDER  NUM_CHILDREN        INCOME  \\\n",
       "count  70088.0   70088.000000  70088.000000  70088.000000  7.008800e+04   \n",
       "mean       0.0       0.098234      0.333367      0.408315  1.690702e+05   \n",
       "std        0.0       0.297632      0.471420      0.712627  9.992109e+04   \n",
       "min        0.0       0.000000      0.000000      0.000000  2.610000e+04   \n",
       "25%        0.0       0.000000      0.000000      0.000000  1.125000e+05   \n",
       "50%        0.0       0.000000      0.000000      0.000000  1.485000e+05   \n",
       "75%        0.0       0.000000      1.000000      1.000000  2.025000e+05   \n",
       "max        0.0       1.000000      1.000000      8.000000  4.500000e+06   \n",
       "\n",
       "       APPROVED_CREDIT        ANNUITY      DAYS_AGE     DAYS_WORK  \\\n",
       "count     7.008800e+04   70088.000000  70088.000000  70088.000000   \n",
       "mean      6.015325e+05   27157.345516  16156.745663   5422.044416   \n",
       "std       4.057837e+05   14624.520401   4362.033501   6545.117076   \n",
       "min       4.500000e+04    2164.500000   7673.000000      1.000000   \n",
       "25%       2.700000e+05   16456.500000  12569.750000    974.000000   \n",
       "50%       5.172660e+05   24817.500000  15865.000000   2318.000000   \n",
       "75%       8.100000e+05   34777.125000  19825.000000   6172.250000   \n",
       "max       4.050000e+06  225000.000000  25229.000000  18250.000000   \n",
       "\n",
       "       DAYS_REGISTRATION  DAYS_ID_CHANGE    HOUR_APPLY  \n",
       "count       70088.000000    70088.000000  70088.000000  \n",
       "mean         5021.474903     3023.829129     12.086577  \n",
       "std          3536.327845     1507.103780      3.264112  \n",
       "min             0.000000        0.000000      0.000000  \n",
       "25%          2023.000000     1756.000000     10.000000  \n",
       "50%          4545.000000     3310.000000     12.000000  \n",
       "75%          7565.000000     4319.000000     14.000000  \n",
       "max         21865.000000     6337.000000     23.000000  "
      ]
     },
     "execution_count": 9,
     "metadata": {},
     "output_type": "execute_result"
    }
   ],
   "source": [
    "dfOntime.describe()"
   ]
  },
  {
   "cell_type": "markdown",
   "metadata": {},
   "source": [
    "##### Find correlation between age & workyears based on payment status"
   ]
  },
  {
   "cell_type": "code",
   "execution_count": 15,
   "metadata": {},
   "outputs": [
    {
     "name": "stdout",
     "output_type": "stream",
     "text": [
      "Umur min late payment = 21\n",
      "Umur mean late payment = 41\n",
      "Umur max late payment = 69\n",
      "Umur min ontime payment = 21\n",
      "Umur mean ontime payment = 44\n",
      "Umur max ontime payment = 69\n"
     ]
    }
   ],
   "source": [
    "print('Umur min late payment =', round(np.min(dfLate['DAYS_AGE'])/365))\n",
    "print('Umur mean late payment =', round(np.mean(dfLate['DAYS_AGE'])/365))\n",
    "print('Umur max late payment =', round(np.max(dfLate['DAYS_AGE'])/365))\n",
    "\n",
    "print('Umur min ontime payment =', round(np.min(dfOntime['DAYS_AGE'])/365))\n",
    "print('Umur mean ontime payment =', round(np.mean(dfOntime['DAYS_AGE'])/365))\n",
    "print('Umur max ontime payment =', round(np.max(dfOntime['DAYS_AGE'])/365))"
   ]
  },
  {
   "cell_type": "code",
   "execution_count": 16,
   "metadata": {},
   "outputs": [
    {
     "name": "stdout",
     "output_type": "stream",
     "text": [
      "Thn kerja min late payment = 0\n",
      "Thn kerja mean late payment = 10\n",
      "Thn kerja max late payment = 50\n",
      "Thn kerja min ontime payment = 0\n",
      "Thn kerja mean ontime payment = 15\n",
      "Thn kerja max ontime payment = 50\n"
     ]
    }
   ],
   "source": [
    "print('Thn kerja min late payment =', round(np.min(dfLate['DAYS_WORK'])/365))\n",
    "print('Thn kerja mean late payment =', round(np.mean(dfLate['DAYS_WORK'])/365))\n",
    "print('Thn kerja max late payment =', round(np.max(dfLate['DAYS_WORK'])/365))\n",
    "\n",
    "print('Thn kerja min ontime payment =', round(np.min(dfOntime['DAYS_WORK'])/365))\n",
    "print('Thn kerja mean ontime payment =', round(np.mean(dfOntime['DAYS_WORK'])/365))\n",
    "print('Thn kerja max ontime payment =', round(np.max(dfOntime['DAYS_WORK'])/365))"
   ]
  },
  {
   "cell_type": "code",
   "execution_count": 17,
   "metadata": {},
   "outputs": [],
   "source": [
    "sis1 = pd.DataFrame(round(dfLate['DAYS_WORK'])/365)\n",
    "sis2 = pd.DataFrame(round(dfLate['DAYS_AGE'])/365)\n",
    "\n",
    "dfLate1 = pd.concat([dfLate, sis1], ignore_index=True, sort=False, axis=1).reset_index(drop=True)\n",
    "dfLate1 = dfLate1.rename({18:'DAYWORK'}, axis=1)\n",
    "dfLate2 = pd.concat([dfLate, sis2], ignore_index=True, sort=False, axis=1).reset_index(drop=True)\n",
    "dfLate2 = dfLate2.rename({18:'DAYAGE'}, axis=1)"
   ]
  },
  {
   "cell_type": "code",
   "execution_count": 18,
   "metadata": {},
   "outputs": [],
   "source": [
    "sis3 = pd.DataFrame(round(dfOntime['DAYS_WORK'])/365)\n",
    "sis4 = pd.DataFrame(round(dfOntime['DAYS_AGE'])/365)\n",
    "\n",
    "dfOntime1 = pd.concat([dfOntime, sis3], ignore_index=True, sort=False, axis=1).reset_index(drop=True)\n",
    "dfOntime1 = dfOntime1.rename({18:'DAYWORKS'}, axis=1)\n",
    "dfOntime2 = pd.concat([dfOntime, sis4], ignore_index=True, sort=False, axis=1).reset_index(drop=True)\n",
    "dfOntime2 = dfOntime2.rename({18:'DAYAGES'}, axis=1)"
   ]
  },
  {
   "cell_type": "markdown",
   "metadata": {},
   "source": [
    "##### Work years tuning both affected to decrease customers with late and on-time payment"
   ]
  },
  {
   "cell_type": "code",
   "execution_count": 19,
   "metadata": {},
   "outputs": [
    {
     "name": "stdout",
     "output_type": "stream",
     "text": [
      "(6172, 18)\n",
      "(4564, 19)\n",
      "(70088, 18)\n",
      "(56936, 19)\n"
     ]
    }
   ],
   "source": [
    "print(dfLate.shape)\n",
    "dfLatee = dfLate1[dfLate1['DAYWORK'] > 2]\n",
    "print(dfLatee.shape)\n",
    "\n",
    "print(dfOntime.shape)\n",
    "dfOntimee = dfOntime1[dfOntime1['DAYWORKS'] > 2]\n",
    "print(dfOntimee.shape)"
   ]
  },
  {
   "cell_type": "markdown",
   "metadata": {},
   "source": [
    "##### Age tuning both affected to decrease customers with late and on-time payment"
   ]
  },
  {
   "cell_type": "code",
   "execution_count": 20,
   "metadata": {},
   "outputs": [
    {
     "name": "stdout",
     "output_type": "stream",
     "text": [
      "(6172, 18)\n",
      "(5808, 19)\n",
      "(70088, 18)\n",
      "(67501, 19)\n"
     ]
    }
   ],
   "source": [
    "print(dfLate.shape)\n",
    "dfLatee1 = dfLate2[dfLate2['DAYAGE'] > 25]\n",
    "print(dfLatee1.shape)\n",
    "\n",
    "print(dfOntime.shape)\n",
    "dfOntimee1 = dfOntime2[dfOntime2['DAYAGES'] > 25]\n",
    "print(dfOntimee1.shape)"
   ]
  },
  {
   "cell_type": "markdown",
   "metadata": {},
   "source": [
    "##### Work years and ages tuning not only affected to decrease customers with late payment but also with on-time payment"
   ]
  },
  {
   "cell_type": "code",
   "execution_count": 21,
   "metadata": {},
   "outputs": [
    {
     "name": "stdout",
     "output_type": "stream",
     "text": [
      "(6172, 18)\n",
      "(4404, 19)\n",
      "(70088, 18)\n",
      "(55676, 19)\n"
     ]
    }
   ],
   "source": [
    "print(dfLate.shape)\n",
    "dfLatee2 = dfLate1[(dfLate1['DAYWORK'] > 2) & (dfLate2['DAYAGE'] > 25)]\n",
    "print(dfLatee2.shape)\n",
    "\n",
    "print(dfOntime.shape)\n",
    "dfOntimee2 = dfOntime1[(dfOntime1['DAYWORKS'] > 2) & (dfOntime2['DAYAGES'] > 25)]\n",
    "print(dfOntimee2.shape)"
   ]
  },
  {
   "cell_type": "markdown",
   "metadata": {},
   "source": [
    "##### See correlations between approved credit amount with customers income based on payment status"
   ]
  },
  {
   "cell_type": "code",
   "execution_count": 22,
   "metadata": {},
   "outputs": [
    {
     "name": "stdout",
     "output_type": "stream",
     "text": [
      "3.434791416361741\n",
      "3.557886904975747\n"
     ]
    }
   ],
   "source": [
    "mea1 = np.mean(dfLate['APPROVED_CREDIT'] / np.mean(dfLate['INCOME']))\n",
    "print(mea1)\n",
    "\n",
    "mea2 = np.mean(dfOntime['APPROVED_CREDIT'] / np.mean(dfOntime['INCOME']))\n",
    "print(mea2)"
   ]
  },
  {
   "cell_type": "markdown",
   "metadata": {},
   "source": [
    "##### See correlations between approved credit amount with customers installment/month based on payment status"
   ]
  },
  {
   "cell_type": "code",
   "execution_count": 23,
   "metadata": {},
   "outputs": [
    {
     "name": "stdout",
     "output_type": "stream",
     "text": [
      "20.915213619893066\n",
      "22.149899896518125\n"
     ]
    }
   ],
   "source": [
    "cub1 = np.mean(dfLate['APPROVED_CREDIT'] / np.mean(dfLate['ANNUITY']))\n",
    "print(cub1)\n",
    "\n",
    "cub2 = np.mean(dfOntime['APPROVED_CREDIT'] / np.mean(dfOntime['ANNUITY']))\n",
    "print(cub2)"
   ]
  },
  {
   "cell_type": "markdown",
   "metadata": {},
   "source": [
    "##### See customers cash flow based on their save amount income after paying the installment"
   ]
  },
  {
   "cell_type": "code",
   "execution_count": 24,
   "metadata": {},
   "outputs": [
    {
     "name": "stdout",
     "output_type": "stream",
     "text": [
      "133895.08595268958\n",
      "141912.8078344367\n"
     ]
    }
   ],
   "source": [
    "dum = np.mean(dfLate['INCOME'] - dfLate['ANNUITY'])\n",
    "print(dum)\n",
    "\n",
    "dum1 = np.mean(dfOntime['INCOME'] - dfOntime['ANNUITY'])\n",
    "print(dum1)"
   ]
  },
  {
   "cell_type": "code",
   "execution_count": 25,
   "metadata": {},
   "outputs": [],
   "source": [
    "cum1 = pd.DataFrame(dfLate['INCOME'] - dfLate['ANNUITY'])\n",
    "cum2 = pd.DataFrame(dfLate['APPROVED_CREDIT'] / dfLate['ANNUITY'])\n",
    "cum3 = pd.DataFrame(dfLate['APPROVED_CREDIT'] / dfLate['INCOME'])\n",
    "\n",
    "dfLat1 = pd.concat([dfLate, cum1], ignore_index=True, sort=False, axis=1).reset_index(drop=True)\n",
    "dfLat1 = dfLat1.rename({18:'SAVE_MONEY1'}, axis=1)\n",
    "dfLat2 = pd.concat([dfLate, cum2], ignore_index=True, sort=False, axis=1).reset_index(drop=True)\n",
    "dfLat2 = dfLat2.rename({18:'COMP_ANN1'}, axis=1)\n",
    "dfLat3 = pd.concat([dfLate, cum3], ignore_index=True, sort=False, axis=1).reset_index(drop=True)\n",
    "dfLat3 = dfLat3.rename({18:'COMP_INC1'}, axis=1)"
   ]
  },
  {
   "cell_type": "code",
   "execution_count": 26,
   "metadata": {},
   "outputs": [],
   "source": [
    "cum4 = pd.DataFrame(dfOntime['INCOME'] - dfOntime['ANNUITY'])\n",
    "cum5 = pd.DataFrame(dfOntime['APPROVED_CREDIT'] / dfOntime['ANNUITY'])\n",
    "cum6 = pd.DataFrame(dfOntime['APPROVED_CREDIT'] / dfOntime['INCOME'])\n",
    "\n",
    "dfOntim1 = pd.concat([dfOntime, cum4], ignore_index=True, sort=False, axis=1).reset_index(drop=True)\n",
    "dfOntim1 = dfOntim1.rename({18:'SAVE_MONEY2'}, axis=1)\n",
    "dfOntim2 = pd.concat([dfOntime, cum5], ignore_index=True, sort=False, axis=1).reset_index(drop=True)\n",
    "dfOntim2 = dfOntim2.rename({18:'COMP_ANN2'}, axis=1)\n",
    "dfOntim3 = pd.concat([dfOntime, cum6], ignore_index=True, sort=False, axis=1).reset_index(drop=True)\n",
    "dfOntim3 = dfOntim3.rename({18:'COMP_INC2'}, axis=1)"
   ]
  },
  {
   "cell_type": "markdown",
   "metadata": {},
   "source": [
    "##### cashflow tuning both affected to decrease customers with late and on-time payment"
   ]
  },
  {
   "cell_type": "code",
   "execution_count": 27,
   "metadata": {},
   "outputs": [
    {
     "name": "stdout",
     "output_type": "stream",
     "text": [
      "(6172, 18)\n",
      "(2220, 19)\n",
      "(70088, 18)\n",
      "(27974, 19)\n"
     ]
    }
   ],
   "source": [
    "print(dfLate.shape)\n",
    "dfLa1 = dfLat1[dfLat1['SAVE_MONEY1'] > 140000]\n",
    "print(dfLa1.shape)\n",
    "\n",
    "print(dfOntime.shape)\n",
    "dfOnt1 = dfOntim1[dfOntim1['SAVE_MONEY2'] > 140000]\n",
    "print(dfOnt1.shape)"
   ]
  },
  {
   "cell_type": "markdown",
   "metadata": {},
   "source": [
    "##### the calculation result of approved credit with installment tuning both affected to decrease customers with late and on-time payment"
   ]
  },
  {
   "cell_type": "code",
   "execution_count": 28,
   "metadata": {},
   "outputs": [
    {
     "name": "stdout",
     "output_type": "stream",
     "text": [
      "(6172, 18)\n",
      "(1893, 19)\n",
      "(70088, 18)\n",
      "(28442, 19)\n"
     ]
    }
   ],
   "source": [
    "print(dfLate.shape)\n",
    "dfLa2 = dfLat2[dfLat2['COMP_ANN1'] > 22]\n",
    "print(dfLa2.shape)\n",
    "\n",
    "print(dfOntime.shape)\n",
    "dfOnt2 = dfOntim2[dfOntim2['COMP_ANN2'] > 22]\n",
    "print(dfOnt2.shape)"
   ]
  },
  {
   "cell_type": "markdown",
   "metadata": {},
   "source": [
    "##### the calculation result of approved credit with income tuning both affected to decrease customers with late and on-time payment"
   ]
  },
  {
   "cell_type": "code",
   "execution_count": 29,
   "metadata": {},
   "outputs": [
    {
     "name": "stdout",
     "output_type": "stream",
     "text": [
      "(6172, 18)\n",
      "(3341, 19)\n",
      "(70088, 18)\n",
      "(37039, 19)\n"
     ]
    }
   ],
   "source": [
    "print(dfLate.shape)\n",
    "dfLa3 = dfLat3[dfLat3['COMP_INC1'] < 3.4]\n",
    "print(dfLa3.shape)\n",
    "\n",
    "print(dfOntime.shape)\n",
    "dfOnt3 = dfOntim3[dfOntim3['COMP_INC2'] < 3.4]\n",
    "print(dfOnt3.shape)"
   ]
  },
  {
   "cell_type": "markdown",
   "metadata": {},
   "source": [
    "#### Insight \n",
    "- Unemployed customers have a low total income, but highly in the total loan amount\n",
    "- The important feature doesn't fit to be the most consideration to become feature tuning in order to decrease customers late payment\n",
    "- It also shows that feature tuning not only decrease customers with late payment but also customers with on-time payment\n",
    "\n",
    "#### Recommendations \n",
    "- Add a new feature such as credit history/problems to see customers with late payment behavior and payment history\n",
    "- Consider to including customer's credit score as a feature to see customers capacity to repay a loan and oversee the potential risk\n"
   ]
  },
  {
   "cell_type": "code",
   "execution_count": null,
   "metadata": {},
   "outputs": [],
   "source": []
  }
 ],
 "metadata": {
  "kernelspec": {
   "display_name": "Python 3",
   "language": "python",
   "name": "python3"
  },
  "language_info": {
   "codemirror_mode": {
    "name": "ipython",
    "version": 3
   },
   "file_extension": ".py",
   "mimetype": "text/x-python",
   "name": "python",
   "nbconvert_exporter": "python",
   "pygments_lexer": "ipython3",
   "version": "3.7.6"
  }
 },
 "nbformat": 4,
 "nbformat_minor": 4
}
